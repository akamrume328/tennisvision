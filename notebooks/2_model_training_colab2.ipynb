{
  "cells": [
    {
      "cell_type": "markdown",
      "metadata": {
        "colab_type": "text",
        "id": "view-in-github"
      },
      "source": [
        "<a href=\"https://colab.research.google.com/github/akamrume328/tennisvision/blob/feature%2F%231/notebooks/2_model_training_colab.ipynb\" target=\"_parent\"><img src=\"https://colab.research.google.com/assets/colab-badge.svg\" alt=\"Open In Colab\"/></a>"
      ]
    },
    {
      "cell_type": "markdown",
      "id": "d5ab6392",
      "metadata": {
        "id": "d5ab6392"
      },
      "source": [
        "# Google ColabでのYOLOv8モデルのトレーニング\n",
        "\n",
        "このノートブックは、Google Driveに保存されたカスタムデータセットを使用して、Google Colab上でYOLOv8モデルをトレーニングするためのものです。\n",
        "以下の内容をカバーします：\n",
        "1. Google Driveのマウント。\n",
        "2. `ultralytics`ライブラリのインストール。\n",
        "3. **データセットの準備とGoogle Driveへのアップロード**:\n",
        "   - YOLOv8形式のデータセット（画像ファイル群、対応するラベルファイル群、そしてデータセット設定ファイル `data.yaml`）を準備します。\n",
        "   - `data.yaml` には、クラス名、クラス数、そして訓練データと検証データへのパスを記述します。これらのパスは、画像とラベルが格納されているディレクトリを指すか、あるいは訓練用/検証用の画像ファイルパスをリストしたテキストファイル（例: `train.txt`, `val.txt`）を指します。\n",
        "   - `train.txt` や `val.txt` を使用する場合、これらは1行に1つの画像ファイルへのパス（例: `images/train/frame_000001.png` や、`data.yaml` からの相対パスで `../images/frame_000001.png` など）を記述したテキストファイルです。これらのテキストファイルと、対応する画像およびラベルファイルは、`data.yaml` から相対的にアクセスできる位置に配置する必要があります。\n",
        "   - 準備したデータセット全体（画像、ラベル、`data.yaml`、`train.txt`、`val.txt` 等）をGoogle Driveの任意の場所にアップロードします。\n",
        "4. データセットとプロジェクト出力のパス設定（Google Drive上の `data.yaml` へのパスを指定）。\n",
        "5. YOLOv8モデルのトレーニング。\n",
        "6. トレーニング済みモデルと結果の保存場所に関する情報。"
      ]
    },
    {
      "cell_type": "code",
      "execution_count": 1,
      "id": "c66446dc",
      "metadata": {
        "colab": {
          "base_uri": "https://localhost:8080/"
        },
        "id": "c66446dc",
        "outputId": "e07bb9e6-e6d7-4758-d9a8-090ebbb7a4ea"
      },
      "outputs": [
        {
          "name": "stdout",
          "output_type": "stream",
          "text": [
            "Mounted at /content/drive\n"
          ]
        }
      ],
      "source": [
        "# Google Driveをマウント\n",
        "from google.colab import drive\n",
        "drive.mount('/content/drive')"
      ]
    },
    {
      "cell_type": "markdown",
      "id": "bd26b0f7",
      "metadata": {},
      "source": [
        "## PyTorch XLAのインストール (TPU利用時)\n",
        "\n",
        "Google ColabでTPUを使用してPyTorchベースのモデル（YOLOv8など）をトレーニングする場合、`torch_xla` ライブラリが必要です。\n",
        "このライブラリは、PyTorchがTPUハードウェアと通信するためのコンポーネントを提供します。\n",
        "\n",
        "以下のセルを実行して、`torch_xla` をインストールしてください。\n",
        "**注意:** TPUランタイムを使用している場合にのみ、このインストールが意味を持ちます。GPUまたはCPUランタイムでは不要です。"
      ]
    },
    {
      "cell_type": "code",
      "execution_count": null,
      "id": "5850ce50",
      "metadata": {},
      "outputs": [],
      "source": [
        "# PyTorch XLAライブラリをインストール (TPU利用時に必要)\n",
        "# ColabのTPUランタイムでは、対応するPyTorchのバージョンと共にインストールされることが多いですが、\n",
        "# 明示的にインストールすることで互換性を確保します。\n",
        "# !pip install torch_xla cloud-tpu-client https://storage.googleapis.com/tpu-pytorch/wheels/colab/torch_xla-2.0-cp310-cp310-linux_x86_64.whl --force-reinstall\n",
        "# ↑ ColabのPythonバージョンやPyTorchのバージョンによって適切なwheelが異なる場合があります。\n",
        "# ultralyticsが依存するPyTorchバージョンと互換性のあるtorch_xlaをインストールするのが望ましいです。\n",
        "# まずはシンプルにpip installしてみます。\n",
        "# ultralyticsのインストール時にPyTorchもインストールされるため、その後にtorch_xlaをインストールするか、\n",
        "# ultralyticsがTPU環境を検知して適切に処理することを期待します。\n",
        "# ここでは、ultralyticsの前にインストールを試みます。\n",
        "\n",
        "import os\n",
        "import torch # PyTorchが既に存在するか確認するため\n",
        "\n",
        "# TPUが利用可能かどうかの確認（オプションですが、TPUランタイムでのみ実行する目安）\n",
        "try:\n",
        "    if 'COLAB_TPU_ADDR' in os.environ:\n",
        "        print(\"TPU環境を検出しました。torch_xlaをインストールします。\")\n",
        "        # 最新の推奨コマンドは変更されることがあるため、公式ドキュメントも参照してください。\n",
        "        # https://github.com/pytorch/xla\n",
        "        # !pip install torch~=2.1.0 torch_xla~=2.1.0 torchvision~=0.16.0 torchaudio~=2.1.0 torchtext --index-url https://download.pytorch.org/whl/cu121 -q\n",
        "        # ↑はGPU用。TPU用は以下のような形式になることが多い。\n",
        "        # !pip install cloud-tpu-client\n",
        "        # !pip install torch_xla[tpu]~=2.1.0 -f https://storage.googleapis.com/libtpu-releases/index.html\n",
        "        \n",
        "        # ultralyticsがPyTorch 2.1系を推奨している場合があるため、それに合わせる\n",
        "        # ultralyticsのドキュメントでは、TPUセットアップについて特別なpip install指示は最近見られない。\n",
        "        # device='tpu'で内部的に処理されることを期待。\n",
        "        # ただし、明示的なインストールが必要なケースも過去にはあった。\n",
        "        # ひとまず、ultralyticsのインストールに任せ、もしTPUエラーが出たらここに戻ってtorch_xlaのインストールを試す。\n",
        "        print(\"torch_xlaの明示的なインストールはコメントアウトしています。\")\n",
        "        print(\"ultralyticsが内部でTPU設定を処理することを期待します。\")\n",
        "        print(\"もしTPUでのトレーニングに失敗する場合、このセルで適切なtorch_xlaのインストールコマンドを有効化してください。\")\n",
        "        print(\"例: !pip install torch_xla\")\n",
        "        # !pip install torch_xla -q\n",
        "    else:\n",
        "        print(\"TPU環境は検出されませんでした。torch_xlaのインストールはスキップします。\")\n",
        "        print(\"(GPUまたはCPUランタイムの可能性があります)\")\n",
        "except ImportError:\n",
        "    print(\"PyTorchがまだインストールされていないようです。ultralyticsのインストール時に導入されるはずです。\")\n",
        "except Exception as e:\n",
        "    print(f\"TPU環境の確認またはtorch_xlaインストール中にエラー: {e}\")\n",
        "\n",
        "# ultralyticsのドキュメントでは、TPU使用時に特別なライブラリインストール手順は明記されていません（2023年後半以降）。\n",
        "# `device='tpu'` を指定することで、ultralyticsが内部的にPyTorch XLAの利用を試みる可能性があります。\n",
        "# このセルは、もし `ultralytics` の標準インストールだけではTPUが動作しない場合のトラブルシューティング用として残します。"
      ]
    },
    {
      "cell_type": "code",
      "execution_count": null,
      "id": "79714f44",
      "metadata": {},
      "outputs": [],
      "source": [
        "!pip install torch_xla -q"
      ]
    },
    {
      "cell_type": "code",
      "execution_count": null,
      "id": "6592aac0",
      "metadata": {
        "colab": {
          "base_uri": "https://localhost:8080/"
        },
        "id": "6592aac0",
        "outputId": "4eb8739d-8280-4550-bcdc-a98a933af111"
      },
      "outputs": [],
      "source": [
        "# ultralyticsライブラリをインストール\n",
        "!pip install ultralytics"
      ]
    },
    {
      "cell_type": "markdown",
      "id": "14366889",
      "metadata": {
        "id": "14366889"
      },
      "source": [
        "## Gitのセットアップ (オプション)\n",
        "\n",
        "Colabから直接Gitリポジトリにコミットやプッシュを行いたい場合、以下のセルでGitのユーザー名とメールアドレスを設定します。\n",
        "これは、コミット履歴に記録される作成者情報となります。\n",
        "\n",
        "**注意:** ここで設定するメールアドレスやユーザー名は公開される可能性があるため、取り扱いに注意してください。"
      ]
    },
    {
      "cell_type": "code",
      "execution_count": null,
      "id": "87bf24c7",
      "metadata": {
        "colab": {
          "base_uri": "https://localhost:8080/"
        },
        "id": "87bf24c7",
        "outputId": "32b4bd6b-b736-48d6-d989-79e64ea64e15"
      },
      "outputs": [
        {
          "name": "stdout",
          "output_type": "stream",
          "text": [
            "Gitのユーザー名とメールアドレスが設定されました。\n",
            "user.name=akamrume328\n",
            "user.email=akamarume@icloud.com\n"
          ]
        }
      ],
      "source": [
        "# Gitのユーザー名とメールアドレスを設定\n",
        "# 以下の \"Your Name\" と \"youremail@example.com\" をご自身のものに置き換えてください。\n",
        "!git config --global user.name \"akamrume328\" # ★★★ あなたの名前に置き換えてください ★★★\n",
        "!git config --global user.email \"akamarume@icloud.com\" # ★★★ あなたのメールアドレスに置き換えてください ★★★\n",
        "\n",
        "print(\"Gitのユーザー名とメールアドレスが設定されました。\")\n",
        "!git config --global --list # 設定内容の確認"
      ]
    },
    {
      "cell_type": "markdown",
      "id": "2f6cdf35",
      "metadata": {
        "id": "2f6cdf35"
      },
      "source": [
        "## パスの設定\n",
        "\n",
        "データセットの`data.yaml`ファイルと、トレーニング結果（例: モデルの重み、ログ）を保存するディレクトリのパスを定義します。"
      ]
    },
    {
      "cell_type": "markdown",
      "id": "83abd33a",
      "metadata": {
        "id": "83abd33a"
      },
      "source": [
        "## Google Drive上のデータセットを展開 (オプション)\n",
        "\n",
        "もしデータセットがGoogle Drive上でZIPファイルとして保存されている場合、以下のセルを実行してColabのローカルストレージに展開できます。\n",
        "これにより、トレーニング中のファイルアクセスが高速になることがあります。\n",
        "ZIPファイルには、画像ファイル、ラベルファイル、`data.yaml`、そして必要に応じて `train.txt` や `val.txt` など、データセット全体が含まれていることを想定しています。\n",
        "\n",
        "**注意:**\n",
        "- ZIPファイルへのパス (`zip_file_path_on_drive`) と展開先のディレクトリ (`colab_dataset_dir`) をご自身の環境に合わせて設定してください。\n",
        "- データセットが大きい場合、展開に時間がかかることがあります。\n",
        "- Colabのセッションが終了すると、展開されたデータは削除されます。再度ノートブックを実行する際には、このセルも再実行する必要があります。\n",
        "- このセルを実行した場合、次の「パスの設定」セルで `dataset_yaml_path` が、Colab上に展開されたデータセット内の `data.yaml` を指すように必ず更新してください。"
      ]
    },
    {
      "cell_type": "code",
      "execution_count": null,
      "id": "08e6e562",
      "metadata": {
        "colab": {
          "base_uri": "https://localhost:8080/"
        },
        "id": "08e6e562",
        "outputId": "1610237e-aeb2-4052-a902-8ecc6655a54d"
      },
      "outputs": [],
      "source": [
        "import zipfile\n",
        "import os\n",
        "\n",
        "# --- ★★★ ユーザー設定項目 ★★★ ---\n",
        "# Google Drive上のZIPファイルのパス\n",
        "# 例: '/content/drive/MyDrive/datasets/my_dataset.zip'\n",
        "# このZIPファイルには、画像、ラベル、data.yaml、train.txt、val.txtなどが含まれていることを想定しています。\n",
        "zip_file_path_on_drive = '/content/drive/MyDrive/datasets/dataset.zip'  # ★★★ あなたのZIPファイルのパスに置き換えてください ★★★\n",
        "\n",
        "# Colab上にデータセットを展開するディレクトリ\n",
        "# 通常、'/content/' 以下に作成します。\n",
        "colab_dataset_dir = '/content/datasets' # ★★★ 必要であれば変更してください ★★★\n",
        "\n",
        "# --- ★★★ 設定項目終了 ★★★ ---\n",
        "\n",
        "# 展開先ディレクトリを作成\n",
        "if not os.path.exists(colab_dataset_dir):\n",
        "    os.makedirs(colab_dataset_dir)\n",
        "    print(f\"展開先ディレクトリを作成しました: {colab_dataset_dir}\")\n",
        "else:\n",
        "    print(f\"展開先ディレクトリは既に存在します: {colab_dataset_dir}\")\n",
        "\n",
        "if os.path.exists(zip_file_path_on_drive):\n",
        "    print(f\"ZIPファイルが見つかりました: {zip_file_path_on_drive}\")\n",
        "    print(f\"ファイルを {colab_dataset_dir} に展開しています...\")\n",
        "    try:\n",
        "        with zipfile.ZipFile(zip_file_path_on_drive, 'r') as zip_ref:\n",
        "            zip_ref.extractall(colab_dataset_dir)\n",
        "        print(f\"データセットの展開が完了しました。展開先: {colab_dataset_dir}\")\n",
        "\n",
        "        print(\"\\n--- 展開後の確認と次のステップ --- \")\n",
        "        print(f\"展開先ディレクトリ ({colab_dataset_dir}) の内容:\")\n",
        "        extracted_items = os.listdir(colab_dataset_dir)\n",
        "        if extracted_items:\n",
        "            for item in extracted_items:\n",
        "                print(f\"- {item}\")\n",
        "            # 展開されたディレクトリ内に data.yaml があるか確認する (より親切なガイド)\n",
        "            # 例えば、ZIPが 'my_dataset_root/data.yaml' のように展開される場合がある\n",
        "            possible_yaml_paths = []\n",
        "            for root, dirs, files in os.walk(colab_dataset_dir):\n",
        "                if \"data.yaml\" in files:\n",
        "                    possible_yaml_paths.append(os.path.join(root, \"data.yaml\"))\n",
        "            \n",
        "            if possible_yaml_paths:\n",
        "                print(\"\\n展開された可能性のある data.yaml のパス:\")\n",
        "                for p_yaml in possible_yaml_paths:\n",
        "                    print(f\"- {p_yaml}\")\n",
        "                print(f\"これらのいずれかを次の「パスの設定」セルの `dataset_yaml_path` に設定してください。\")\n",
        "            else:\n",
        "                print(f\"\\n警告: 展開されたディレクトリ内に 'data.yaml' が見つかりませんでした。\")\n",
        "                print(f\"ZIPファイルの内容と展開後の構造を確認し、`data.yaml`への正しいパスを次のセルで設定してください。\")\n",
        "\n",
        "        else:\n",
        "            print(\"(ディレクトリは空か、アクセスできませんでした)\")\n",
        "\n",
        "        print(f\"\\n重要: 次の「パスの設定」セルで、`dataset_yaml_path` が、\")\n",
        "        print(f\"このColab上の展開先ディレクトリ ({colab_dataset_dir}) 内の `data.yaml` を指すように更新してください。\")\n",
        "        print(f'例えば、もしZIP展開後に \"{os.path.join(colab_dataset_dir, \"your_dataset_main_folder\", \"data.yaml\")}\" のような構造になる場合、')\n",
        "        print(f'dataset_yaml_path = \"{os.path.join(colab_dataset_dir, \"your_dataset_main_folder\", \"data.yaml\")}\" のように設定します。')\n",
        "        print(\"ZIPファイル内のフォルダ構造を確認し、適切にパスを修正してください。\")\n",
        "\n",
        "    except zipfile.BadZipFile:\n",
        "        print(f\"エラー: {zip_file_path_on_drive} は有効なZIPファイルではありません。\")\n",
        "    except Exception as e:\n",
        "        print(f\"展開中にエラーが発生しました: {e}\")\n",
        "else:\n",
        "    print(f\"エラー: ZIPファイルが見つかりません: {zip_file_path_on_drive}\")\n",
        "    print(\"Google Drive上のパスを確認してください。\")\n",
        "    print(\"もしZIP展開機能を使用しない場合は、このセルをスキップして問題ありません。\")"
      ]
    },
    {
      "cell_type": "code",
      "execution_count": null,
      "id": "c16d18c8",
      "metadata": {
        "colab": {
          "base_uri": "https://localhost:8080/"
        },
        "id": "c16d18c8",
        "outputId": "ba294691-d153-4079-e390-8654c4603414"
      },
      "outputs": [],
      "source": [
        "import os\n",
        "\n",
        "# --- 重要: これらのパスをGoogle Driveの構造、またはZIP展開後のColab上の構造に合わせて設定してください ---\n",
        "\n",
        "# データセットのdata.yamlファイルへのパス\n",
        "# Google Driveから直接参照する場合の例: '/content/drive/MyDrive/datasets/my_yolo_dataset/data.yaml'\n",
        "# 上のセルでZIPを展開した場合の例: '/content/datasets/my_yolo_dataset_in_zip/data.yaml'\n",
        "# ★★★ この `data.yaml` は、訓練画像/ラベルの場所、クラス名、そして\n",
        "# ★★★ `train: path/to/train.txt` や `val: path/to/val.txt` のように、\n",
        "# ★★★ 訓練用/検証用テキストファイルへのパス（通常はdata.yamlからの相対パス）を定義している必要があります。\n",
        "# ★★★ `train.txt` や `val.txt` は、画像ファイルへのパスのリスト（例: `images/train/frame_000001.png` や `../images/frame_000001.png`）を含みます。\n",
        "dataset_yaml_paths = [\n",
        "    '/content/datasets/dataset1/data.yaml',\n",
        "    # '/content/datasets/dataset2/data.yaml',\n",
        "    # ...必要に応じて追加...\n",
        "]\n",
        "\n",
        "experiment_names = [\n",
        "    'tennis_detection_run1',\n",
        "    # 'tennis_detection_run2',\n",
        "    # ...必要に応じて追加...\n",
        "]\n",
        "\n",
        "checkpoint_to_resume_paths = [\n",
        "    None,\n",
        "    # '/content/drive/MyDrive/models/YOLOv8_Training_Outputs/tennis_detection_run2/weights/last.pt',\n",
        "    # ...必要に応じて追加...\n",
        "]\n",
        "\n",
        "\n",
        "# リストの長さ検証 (例)\n",
        "if not (len(dataset_yaml_paths) == len(experiment_names) == len(checkpoint_to_resume_paths)):\n",
        "    print(\"エラー: リストの長さが一致しません。\")\n",
        "    print(f\"dataset_yaml_paths: {len(dataset_yaml_paths)}\")\n",
        "    print(f\"experiment_names: {len(experiment_names)}\")\n",
        "    print(f\"checkpoint_to_resume_paths: {len(checkpoint_to_resume_paths)}\")\n",
        "else:\n",
        "    print(\"リストの長さは一致しています。\")"
      ]
    },
    {
      "cell_type": "code",
      "execution_count": null,
      "id": "ae751cb9",
      "metadata": {
        "colab": {
          "base_uri": "https://localhost:8080/"
        },
        "id": "ae751cb9",
        "outputId": "a1000925-daae-40a1-fef9-83e053f03e57"
      },
      "outputs": [],
      "source": [
        "from ultralytics import YOLO\n",
        "import os # osモジュールをインポート (既に上のセルでインポートされている可能性あり)\n",
        "from google.colab import runtime # ランタイム切断のためにインポート\n",
        "\n",
        "# 新たに1つの統合データセットを指定\n",
        "unified_dataset_yaml_path = '/content/datasets/unified_data.yaml'  # ★統合用のdata.yamlを指定\n",
        "\n",
        "model_name = 'yolov8s.pt'\n",
        "num_epochs = 100\n",
        "batch_size = 16\n",
        "img_size = 1920\n",
        "\n",
        "# 以前のループを削除し、単一のトレーニング呼び出しに\n",
        "model = YOLO(model_name)\n",
        "print(\"単一のモデルに対して統合データセットで学習を開始します。\")\n",
        "model.train(\n",
        "    data=unified_dataset_yaml_path,\n",
        "    epochs=num_epochs,\n",
        "    imgsz=img_size,\n",
        "    batch=batch_size,\n",
        "    project=project_output_dir,  # 以前の変数を流用\n",
        "    name=\"unified_experiment\",   # 統合データセットの実験名\n",
        "    exist_ok=True,\n",
        "    save_period=save_every_n_epochs if save_every_n_epochs > 0 else -1,\n",
        "    device=training_device,\n",
        ")\n",
        "print(\"統合データセットのトレーニングが完了しました。\")"
      ]
    },
    {
      "cell_type": "code",
      "execution_count": null,
      "id": "958dd4e0",
      "metadata": {},
      "outputs": [],
      "source": [
        "import gc\n",
        "import os\n",
        "\n",
        "# 1. Pythonのガベージコレクションを実行\n",
        "gc.collect()\n",
        "print(\"Pythonのガベージコレクションを実行しました。\")\n",
        "\n",
        "# 2. PyTorchのGPUキャッシュをクリア (ultralyticsは内部でPyTorchを使用)\n",
        "try:\n",
        "    import torch\n",
        "    if torch.cuda.is_available():\n",
        "        torch.cuda.empty_cache()\n",
        "        print(\"PyTorchのGPUキャッシュをクリアしました。\")\n",
        "    else:\n",
        "        print(\"CUDAが利用できないため、PyTorchのGPUキャッシュクリアはスキップされました。\")\n",
        "except ImportError:\n",
        "    print(\"PyTorchが見つからないため、GPUキャッシュのクリアはスキップされました。\")\n",
        "except Exception as e:\n",
        "    print(f\"PyTorch GPUキャッシュクリア中にエラーが発生しました: {e}\")\n",
        "\n",
        "# 3. pipのキャッシュをクリア\n",
        "print(\"\\npipのキャッシュをクリアしています...\")\n",
        "!pip cache purge\n",
        "# 上のコマンドの出力がColabのセルに表示されます。\n",
        "# 成功メッセージはpipのバージョンによって異なる場合があります。\n",
        "print(\"pipのキャッシュクリアコマンドを実行しました。\")\n",
        "\n",
        "\n",
        "print(\"\\n--- キャッシュクリア操作に関する補足 ---\")\n",
        "print(\"上記はいくつかの一般的なキャッシュクリア操作です。\")\n",
        "print(\"最も効果的にRAMとGPUメモリをリセットする方法は、Colabのメニューから\")\n",
        "print(\"「ランタイム」->「ランタイムを再起動」を選択することです。\")\n",
        "print(\"ただし、この操作を行うと、現在のセッションの変数や状態はすべて失われますのでご注意ください。\")\n",
        "print(\"トレーニングの最後にランタイムを切断する (`runtime.unassign()`) のも、リソース解放の確実な方法です。\")\n"
      ]
    },
    {
      "cell_type": "markdown",
      "id": "3b335778",
      "metadata": {
        "id": "3b335778"
      },
      "source": [
        "## トレーニング結果と保存されたモデル\n",
        "\n",
        "トレーニング後、結果（メトリクス、混同行列、モデルの重みなど）は指定したディレクトリに保存されます：\n",
        "`{project_output_dir}/{experiment_name}`\n",
        "\n",
        "確認すべき主なファイル：\n",
        "- **重み:** `weights`サブディレクトリ内 (例: `best.pt`, `last.pt`)\n",
        "  - `best.pt`: 最良の検証メトリクス（通常はmAP50-95）を達成したモデルの重み。このモデルを推論に使用するのが一般的です。\n",
        "  - `last.pt`: トレーニングの最終エポックのモデルの重み。\n",
        "  - `epoch_XXX.pt` (例: `epoch_10.pt`, `epoch_20.pt`): `save_period` で指定されたエポックごとに保存されるチェックポイント。これらを使用して特定のエポックからトレーニングを再開したり、その時点でのモデル性能を評価したりできます。\n",
        "- **結果CSV:** `results.csv`にはエポックごとのメトリクスの概要が含まれています。\n",
        "- **プロット:** 混同行列、P-R曲線などのさまざまなプロット (例: `confusion_matrix.png`, `PR_curve.png`)\n",
        "\n",
        "これらのファイルはGoogle Driveからダウンロードできます。"
      ]
    },
    {
      "cell_type": "code",
      "execution_count": null,
      "id": "ff686fb1",
      "metadata": {
        "id": "ff686fb1"
      },
      "outputs": [],
      "source": [
        "# 複数の experiment_names に対応して結果を確認\n",
        "for i, exp_name in enumerate(experiment_names):\n",
        "    print(f\"\\n--- 結果確認 {i+1} 個目: {exp_name} ---\")\n",
        "    weights_dir = os.path.join(project_output_dir, exp_name, 'weights')\n",
        "    if os.path.exists(weights_dir):\n",
        "        print(f\"重みディレクトリ: {weights_dir}\")\n",
        "        for f_name in os.listdir(weights_dir):\n",
        "            print(f\"- {f_name}\")\n",
        "    else:\n",
        "        print(f\"{weights_dir} が見つかりません\")\n",
        "\n",
        "    best_model_path = os.path.join(weights_dir, 'best.pt')\n",
        "    print(f\"最良モデル: {best_model_path}\")\n",
        "    if not os.path.exists(best_model_path):\n",
        "        print(\"best.pt が見つかりませんでした\")"
      ]
    }
  ],
  "metadata": {
    "accelerator": "GPU",
    "colab": {
      "gpuType": "T4",
      "include_colab_link": true,
      "provenance": []
    },
    "kernelspec": {
      "display_name": "Python 3",
      "name": "python3"
    },
    "language_info": {
      "name": "python"
    }
  },
  "nbformat": 4,
  "nbformat_minor": 5
}
