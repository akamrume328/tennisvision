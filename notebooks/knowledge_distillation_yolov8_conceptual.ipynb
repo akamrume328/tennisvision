{
 "cells": [
  {
   "cell_type": "markdown",
   "id": "47e43b0d",
   "metadata": {},
   "source": [
    "# YOLOv8における知識蒸留の実装（PAAMA論文 参考コンセプト）\n",
    "\n",
    "このノートブックは、論文「Positive Anchor Area Merge Algorithm：YOLOv8に基づく果物検出タスク向け知識蒸留アルゴリズム」で提示されたアイデアを参考に、YOLOv8モデルで知識蒸留を行う基本的なアプローチと概念を検討するものです。\n",
    "\n",
    "**知識蒸留の目的:**\n",
    "大規模で高性能な教師モデル（Teacher Model）から、軽量で高速な生徒モデル（Student Model）へ知識を転送し、生徒モデルの性能を単独で学習するよりも向上させること。\n",
    "\n",
    "**参考論文のキーポイント:**\n",
    "- YOLOv8に特化した知識蒸留手法「Positive Anchor Area Merge Algorithm (PAAMA)」を提案。\n",
    "- 教師モデルと生徒モデルの予測における「正のアンカー領域」を4つ（共通、生徒専用、教師専用、負例）に分類し、それぞれに最適化された学習戦略を適用。\n",
    "- 蒸留用に分類損失、ボックス損失、DFL損失を細分化した10項目の損失関数を設計。\n",
    "- YOLOv8sを教師、YOLOv8nを生徒として使用し、独自の果物データセットでmAP(50) = 99.47%を達成。\n",
    "\n",
    "**このノートブックでのアプローチ:**\n",
    "- Ultralytics YOLOライブラリを使用します。\n",
    "- PAAMAや並列蒸留ネットワークの完全な再現は、ライブラリの標準機能を超える大幅なカスタマイズが必要なため、ここでは行いません。\n",
    "- 代わりに、知識蒸留の基本的な考え方、特に教師モデルのソフトターゲット（予測確率など）を生徒モデルの学習に利用する一般的な蒸留損失の概念と、Ultralyticsの枠組みでそれをどのように組み込むかを考察します。"
   ]
  },
  {
   "cell_type": "markdown",
   "id": "9ef676a8",
   "metadata": {},
   "source": [
    "## 1. 必要なライブラリのインポート"
   ]
  },
  {
   "cell_type": "code",
   "execution_count": 1,
   "id": "ddacc4ee",
   "metadata": {},
   "outputs": [
    {
     "name": "stdout",
     "output_type": "stream",
     "text": [
      "PyTorch version: 2.7.0+cu128\n",
      "CUDA available: True\n",
      "CUDA device: NVIDIA GeForce RTX 4060\n"
     ]
    }
   ],
   "source": [
    "import torch\n",
    "from ultralytics import YOLO\n",
    "from ultralytics.models.yolo.detect.train import DetectionTrainer # MODIFIED\n",
    "from ultralytics.cfg import DEFAULT_CFG # MODIFIED\n",
    "from copy import deepcopy\n",
    "import os\n",
    "import gc\n",
    "import psutil  # CPU メモリ監視用\n",
    "\n",
    "print(f\"PyTorch version: {torch.__version__}\")\n",
    "print(f\"CUDA available: {torch.cuda.is_available()}\")\n",
    "if torch.cuda.is_available():\n",
    "    print(f\"CUDA device: {torch.cuda.get_device_name(0)}\")"
   ]
  },
  {
   "cell_type": "markdown",
   "id": "c4e954ed",
   "metadata": {},
   "source": [
    "## 1.1. メモリ管理用ユーティリティ関数\n",
    "\n",
    "CPU・GPUの両方のメモリ使用量の監視とクリーンアップ用の関数を定義します。"
   ]
  },
  {
   "cell_type": "code",
   "execution_count": 2,
   "id": "1a75ec1c",
   "metadata": {},
   "outputs": [
    {
     "name": "stdout",
     "output_type": "stream",
     "text": [
      "\n",
      "=== Memory Profile: Initial ===\n",
      "Process Memory - RSS: 0.44GB, VMS: 1.16GB, Percent: 2.8%\n",
      "CPU Memory - Used: 8.20GB / 15.83GB (51.8%)\n",
      "GPU Memory - Allocated: 0.00GB, Cached: 0.00GB\n",
      "========================================\n"
     ]
    }
   ],
   "source": [
    "def get_memory_usage():\n",
    "    \"\"\"現在のCPUとGPUメモリ使用量を表示\"\"\"\n",
    "    # CPU メモリ使用量\n",
    "    cpu_memory = psutil.virtual_memory()\n",
    "    cpu_used_gb = cpu_memory.used / 1024**3\n",
    "    cpu_total_gb = cpu_memory.total / 1024**3\n",
    "    cpu_percent = cpu_memory.percent\n",
    "    \n",
    "    print(f\"CPU Memory - Used: {cpu_used_gb:.2f}GB / {cpu_total_gb:.2f}GB ({cpu_percent:.1f}%)\")\n",
    "    \n",
    "    # GPU メモリ使用量\n",
    "    if torch.cuda.is_available():\n",
    "        allocated = torch.cuda.memory_allocated() / 1024**3  # GB\n",
    "        cached = torch.cuda.memory_reserved() / 1024**3      # GB\n",
    "        print(f\"GPU Memory - Allocated: {allocated:.2f}GB, Cached: {cached:.2f}GB\")\n",
    "    else:\n",
    "        print(\"GPU Memory - Not available (CPU mode)\")\n",
    "\n",
    "def clear_memory():\n",
    "    \"\"\"CPU・GPU両方のメモリを手動でクリア\"\"\"\n",
    "    # Python オブジェクトのガベージコレクション実行（複数回）\n",
    "    for _ in range(3):\n",
    "        gc.collect()\n",
    "    \n",
    "    # PyTorchのGPUキャッシュクリア\n",
    "    if torch.cuda.is_available():\n",
    "        torch.cuda.empty_cache()\n",
    "        torch.cuda.synchronize()\n",
    "        torch.cuda.ipc_collect()  # プロセス間通信のキャッシュもクリア\n",
    "    \n",
    "    # CPU メモリの追加クリーンアップ\n",
    "    # 不要な参照を削除\n",
    "    import sys\n",
    "    if hasattr(sys, '_clear_type_cache'):\n",
    "        sys._clear_type_cache()\n",
    "    \n",
    "    print(\"Memory cleared (CPU + GPU)\")\n",
    "\n",
    "def force_cleanup(*objects):\n",
    "    \"\"\"指定されたオブジェクトを削除してメモリクリア\"\"\"\n",
    "    for obj in objects:\n",
    "        if obj is not None:\n",
    "            try:\n",
    "                # PyTorchテンソルの場合、CPUに移動してから削除\n",
    "                if hasattr(obj, 'cpu') and hasattr(obj, 'device'):\n",
    "                    if obj.device.type == 'cuda':\n",
    "                        obj.cpu()\n",
    "                del obj\n",
    "            except Exception as e:\n",
    "                print(f\"Error deleting object: {e}\")\n",
    "    \n",
    "    clear_memory()\n",
    "\n",
    "def get_current_process_memory():\n",
    "    \"\"\"現在のプロセスのメモリ使用量を詳細表示\"\"\"\n",
    "    process = psutil.Process()\n",
    "    memory_info = process.memory_info()\n",
    "    memory_percent = process.memory_percent()\n",
    "    \n",
    "    rss_gb = memory_info.rss / 1024**3  # 物理メモリ\n",
    "    vms_gb = memory_info.vms / 1024**3  # 仮想メモリ\n",
    "    \n",
    "    print(f\"Process Memory - RSS: {rss_gb:.2f}GB, VMS: {vms_gb:.2f}GB, Percent: {memory_percent:.1f}%\")\n",
    "\n",
    "def memory_profile(func_name=\"\"):\n",
    "    \"\"\"メモリ使用量をプロファイル表示\"\"\"\n",
    "    print(f\"\\n=== Memory Profile: {func_name} ===\")\n",
    "    get_current_process_memory()\n",
    "    get_memory_usage()\n",
    "    print(\"=\" * 40)\n",
    "\n",
    "# 初期メモリ使用量を確認\n",
    "memory_profile(\"Initial\")"
   ]
  },
  {
   "cell_type": "code",
   "execution_count": 3,
   "id": "145f1986",
   "metadata": {},
   "outputs": [
    {
     "name": "stdout",
     "output_type": "stream",
     "text": [
      "\n",
      "=== Memory Profile: After Configuration ===\n",
      "Process Memory - RSS: 0.45GB, VMS: 1.16GB, Percent: 2.8%\n",
      "CPU Memory - Used: 8.21GB / 15.83GB (51.9%)\n",
      "GPU Memory - Allocated: 0.00GB, Cached: 0.00GB\n",
      "========================================\n"
     ]
    }
   ],
   "source": [
    "# --- データセット --- \n",
    "# ユーザー自身の data.yaml ファイルへのパスを指定してください\n",
    "# 例: 'C:/Users/YourUser/datasets/my_yolo_dataset/data.yaml'\n",
    "# 例: '../datasets/co./datco128.yaml' (Ultralyticsのサンプルデータセット)\n",
    "dataset_yaml_path = 'C:/Users/akama/AppData/Local/Programs/Python/Python310/python_file/projects/tennisvision/data/processed/datasets/final_merged_dataset/data.yaml' # ★★★ 要変更 ★★★\n",
    "\n",
    "# --- モデル --- \n",
    "# 教師モデル: ファインチューニング済みのyolov8x.ptファイルへのパス\n",
    "teacher_model_path = 'C:/Users/akama/AppData/Local/Programs/Python/Python310/python_file/projects/tennisvision/models/weights/last.pt' # ★★★ 要変更: ファインチューニング済みyolov8xモデルのパスを指定 ★★★\n",
    "\n",
    "# 生徒モデル: 事前学習済みyolov8n.pt\n",
    "student_model_config = 'yolov8n.pt' # 事前学習済みモデルを直接使用\n",
    "student_model_weights = None   # configで事前学習済みを指定しているため不要\n",
    "\n",
    "# --- トレーニングパラメータ --- \n",
    "epochs = 50  # トレーニングエポック数 (デモ用に短く設定)\n",
    "batch_size = 8 \n",
    "img_size = 640\n",
    "project_name = 'YOLOv8_Distillation_Demo'\n",
    "experiment_name = 'student_distilled_run1'\n",
    "device = 0 if torch.cuda.is_available() else 'cpu'\n",
    "\n",
    "# --- 知識蒸留パラメータ --- \n",
    "distillation_temperature = 2.0  # ソフトターゲット生成時の温度パラメータ\n",
    "alpha_distillation_cls = 0.5    # 分類蒸留損失の重み\n",
    "alpha_distillation_bbox = 0.5   # バウンディングボックス蒸留損失の重み (もし実装する場合)\n",
    "\n",
    "# 出力ディレクトリの確認\n",
    "if not os.path.exists(dataset_yaml_path):\n",
    "    print(f\"警告: データセットYAML '{dataset_yaml_path}' が見つかりません。パスを確認してください。\")\n",
    "\n",
    "if not os.path.exists(teacher_model_path):\n",
    "    print(f\"警告: 教師モデル '{teacher_model_path}' が見つかりません。パスを確認してください。\")\n",
    "\n",
    "# 設定後のメモリ使用量確認\n",
    "memory_profile(\"After Configuration\")"
   ]
  },
  {
   "cell_type": "code",
   "execution_count": 4,
   "id": "0c0c1a8a",
   "metadata": {},
   "outputs": [
    {
     "name": "stdout",
     "output_type": "stream",
     "text": [
      "教師モデル (C:/Users/akama/AppData/Local/Programs/Python/Python310/python_file/projects/tennisvision/models/weights/last.pt) をロードしました。\n",
      "\n",
      "=== Memory Profile: After Teacher Model Load ===\n",
      "Process Memory - RSS: 1.09GB, VMS: 2.49GB, Percent: 6.9%\n",
      "CPU Memory - Used: 8.93GB / 15.83GB (56.4%)\n",
      "GPU Memory - Allocated: 0.26GB, Cached: 0.29GB\n",
      "========================================\n"
     ]
    }
   ],
   "source": [
    "teacher_model = YOLO(teacher_model_path)\n",
    "teacher_model.to(device)\n",
    "teacher_model.eval() # 評価モード\n",
    "print(f\"教師モデル ({teacher_model_path}) をロードしました。\")\n",
    "\n",
    "# 教師モデルロード後のメモリ使用量確認\n",
    "memory_profile(\"After Teacher Model Load\")"
   ]
  },
  {
   "cell_type": "code",
   "execution_count": 5,
   "id": "80efccab",
   "metadata": {},
   "outputs": [
    {
     "name": "stdout",
     "output_type": "stream",
     "text": [
      "CustomDistillationTrainer定義完了\n",
      "\n",
      "=== Memory Profile: After Trainer Definition ===\n",
      "Process Memory - RSS: 1.09GB, VMS: 2.49GB, Percent: 6.9%\n",
      "CPU Memory - Used: 8.97GB / 15.83GB (56.6%)\n",
      "GPU Memory - Allocated: 0.26GB, Cached: 0.29GB\n",
      "========================================\n"
     ]
    }
   ],
   "source": [
    "class CustomDistillationTrainer(DetectionTrainer):\n",
    "    def __init__(self, cfg=DEFAULT_CFG, overrides=None, _callbacks=None):\n",
    "        if overrides is None:\n",
    "            overrides = {}\n",
    "        super().__init__(cfg=cfg, overrides=overrides, _callbacks=_callbacks)\n",
    "\n",
    "        # グローバルスコープから教師モデルと蒸留パラメータを取得\n",
    "        self.teacher_model = teacher_model # 事前にロードされた教師モデル\n",
    "        self.distillation_temperature = distillation_temperature\n",
    "        self.alpha_distillation_cls = alpha_distillation_cls\n",
    "        \n",
    "        # 損失名をログ表示用に追加\n",
    "        if hasattr(self, 'loss_names'):\n",
    "            self.loss_names = list(self.loss_names) + ['kd_cls_loss']\n",
    "        \n",
    "        print(\"CustomDistillationTrainer initialized.\")\n",
    "        print(f\"  Teacher model: {self.teacher_model.ckpt_path if hasattr(self.teacher_model, 'ckpt_path') else 'N/A'}\")\n",
    "        print(f\"  Distillation temperature: {self.distillation_temperature}\")\n",
    "        print(f\"  Alpha (CLS distillation): {self.alpha_distillation_cls}\")\n",
    "\n",
    "    def get_model(self, cfg=None, weights=None, verbose=True):\n",
    "        # 生徒モデルをロード\n",
    "        student_yolo_obj = YOLO(student_model_config)\n",
    "        model_to_return = student_yolo_obj.model # nn.Module を取得\n",
    "        \n",
    "        # データセットのクラス数にモデルを適合させる\n",
    "        # self.model は nn.Module インスタンスになるため、直接属性を設定\n",
    "        if hasattr(self, 'data') and self.data:\n",
    "            if hasattr(model_to_return, 'nc'):\n",
    "                model_to_return.nc = self.data['nc']\n",
    "            # YAML設定も更新\n",
    "            if hasattr(model_to_return, 'yaml') and isinstance(model_to_return.yaml, dict):\n",
    "                model_to_return.yaml['nc'] = self.data['nc']\n",
    "        \n",
    "        return model_to_return # YOLOオブジェクトではなく、nn.Moduleを返す\n",
    "\n",
    "    def criterion(self, preds, batch):\n",
    "        # 1. 生徒モデルの標準損失を計算 (親クラスのcriterionを利用)\n",
    "        loss_student, loss_items_student = super().criterion(preds, batch)\n",
    "\n",
    "        kd_cls_loss = torch.tensor(0.0, device=self.device) # 初期化\n",
    "\n",
    "        try:\n",
    "            # 2. 教師モデルの生の予測を取得 (勾配計算なし)\n",
    "            with torch.no_grad():\n",
    "                # 教師モデルの内部nn.Moduleのforwardメソッドを直接呼び出し\n",
    "                teacher_preds_raw = self.teacher_model.model(batch['img'])\n",
    "                # タプルの場合は最初の要素が主要な予測テンソル\n",
    "                if isinstance(teacher_preds_raw, tuple):\n",
    "                    teacher_preds_raw = teacher_preds_raw[0]\n",
    "\n",
    "            # 生徒モデルの出力もタプルの場合は最初の要素を取得\n",
    "            student_preds = preds\n",
    "            if isinstance(preds, tuple):\n",
    "                student_preds = preds[0]\n",
    "\n",
    "            # 3. 生徒モデルの分類ロジット抽出\n",
    "            # モデルのreg_maxとncを取得\n",
    "            # self.model は nn.Module を指すように変更された\n",
    "            reg_max_student = getattr(self.model[-1], 'reg_max', 16)  # Detection head\n",
    "            nc_student = self.model.nc\n",
    "            \n",
    "            # 分類ロジットを抽出: [..., 4 * reg_max:]\n",
    "            bbox_dims_student = 4 * reg_max_student\n",
    "            student_cls_logits = student_preds[..., bbox_dims_student:bbox_dims_student + nc_student]\n",
    "\n",
    "            # 4. 教師モデルの分類ロジット抽出\n",
    "            teacher_nn_model = self.teacher_model.model\n",
    "            reg_max_teacher = getattr(teacher_nn_model.model[-1], 'reg_max', 16)  # Detection head\n",
    "            nc_teacher = teacher_nn_model.nc\n",
    "            \n",
    "            if nc_teacher != nc_student:\n",
    "                print(f\"Warning: Teacher nc ({nc_teacher}) and Student nc ({nc_student}) mismatch.\")\n",
    "                # クラス数が異なる場合は蒸留をスキップ\n",
    "                raise ValueError(\"Class number mismatch between teacher and student models\")\n",
    "            \n",
    "            bbox_dims_teacher = 4 * reg_max_teacher\n",
    "            teacher_cls_logits = teacher_preds_raw[..., bbox_dims_teacher:bbox_dims_teacher + nc_teacher]\n",
    "\n",
    "            # num_predictions (アンカー数など) が一致しているか確認\n",
    "            if student_cls_logits.shape[-2] != teacher_cls_logits.shape[-2]:\n",
    "                print(f\"Warning: Mismatch in num_predictions between student ({student_cls_logits.shape[-2]}) and teacher ({teacher_cls_logits.shape[-2]}).\")\n",
    "                # 予測数が異なる場合、より小さい方に合わせるか、interpolationを行う\n",
    "                min_preds = min(student_cls_logits.shape[-2], teacher_cls_logits.shape[-2])\n",
    "                student_cls_logits = student_cls_logits[..., :min_preds, :]\n",
    "                teacher_cls_logits = teacher_cls_logits[..., :min_preds, :]\n",
    "\n",
    "            # 5. KLダイバージェンス損失の計算\n",
    "            T = self.distillation_temperature\n",
    "            \n",
    "            # log_softmax と softmax を適用\n",
    "            log_softmax_student = torch.nn.functional.log_softmax(student_cls_logits / T, dim=-1)\n",
    "            softmax_teacher = torch.nn.functional.softmax(teacher_cls_logits / T, dim=-1)\n",
    "            \n",
    "            # KLダイバージェンス計算 (reduction='none' で要素ごとの損失を取得)\n",
    "            kl_div_element_wise = torch.nn.functional.kl_div(\n",
    "                log_softmax_student, \n",
    "                softmax_teacher, \n",
    "                reduction='none', \n",
    "                log_target=False\n",
    "            )\n",
    "            \n",
    "            # クラス次元で合計し、バッチと予測次元で平均を取る\n",
    "            # kl_div_element_wise.shape = (batch_size, num_predictions, num_classes)\n",
    "            kd_cls_loss_val = kl_div_element_wise.sum(dim=-1).mean()  # sum over classes, mean over batch and predictions\n",
    "            \n",
    "            # 重みと温度の2乗を乗じる\n",
    "            kd_cls_loss = self.alpha_distillation_cls * kd_cls_loss_val * (T ** 2)\n",
    "\n",
    "            # print(f\"KD CLS Loss: {kd_cls_loss.item():.6f}\") # デバッグ用にコメントアウトまたは頻度を減らす\n",
    "\n",
    "        except Exception as e:\n",
    "            print(f\"Error in KD CLS loss calculation: {e}. Skipping KD CLS loss for this batch.\")\n",
    "            # kd_cls_loss は既に torch.tensor(0.0) で初期化されている\n",
    "            import traceback\n",
    "            traceback.print_exc()\n",
    "\n",
    "        # 6. 総損失の計算\n",
    "        total_loss = loss_student + kd_cls_loss\n",
    "\n",
    "        # 7. loss_items も更新 (蒸留損失項を追加)\n",
    "        # loss_items_student は通常 (box_loss, cls_loss, dfl_loss) のテンソル\n",
    "        loss_items_updated = torch.cat((loss_items_student, kd_cls_loss.detach().unsqueeze(0)))\n",
    "\n",
    "        return total_loss, loss_items_updated\n",
    "    \n",
    "    def _do_train(self, world_size=1):\n",
    "        \"\"\"トレーニング後にメモリクリーンアップを追加\"\"\"\n",
    "        try:\n",
    "            # 親クラスのトレーニングメソッドを実行\n",
    "            return super()._do_train(world_size)\n",
    "        finally:\n",
    "            # トレーニング終了後に必ずメモリクリーンアップ実行\n",
    "            print(\"\\nトレーニング終了後にメモリクリーンアップを実行中...\")\n",
    "            clear_memory()\n",
    "            memory_profile(\"After Training Cleanup\")\n",
    "    \n",
    "    def on_train_epoch_end(self):\n",
    "        \"\"\"エポック終了時にメモリクリーンアップ\"\"\"\n",
    "        super().on_train_epoch_end() if hasattr(super(), 'on_train_epoch_end') else None\n",
    "        \n",
    "        # 10エポックごとにメモリクリーンアップ\n",
    "        if hasattr(self, 'epoch') and self.epoch % 10 == 0:\n",
    "            print(f\"\\nEpoch {self.epoch}: メモリクリーンアップ実行\")\n",
    "            clear_memory()\n",
    "\n",
    "print(\"CustomDistillationTrainer定義完了\")\n",
    "memory_profile(\"After Trainer Definition\")"
   ]
  },
  {
   "cell_type": "code",
   "execution_count": 6,
   "id": "5c09822b",
   "metadata": {},
   "outputs": [
    {
     "name": "stdout",
     "output_type": "stream",
     "text": [
      "トレーニングを開始します...\n",
      "\n",
      "=== Memory Profile: Before Training Start ===\n",
      "Process Memory - RSS: 1.09GB, VMS: 2.49GB, Percent: 6.9%\n",
      "CPU Memory - Used: 9.00GB / 15.83GB (56.9%)\n",
      "GPU Memory - Allocated: 0.26GB, Cached: 0.29GB\n",
      "========================================\n",
      "Ultralytics 8.3.146  Python-3.10.11 torch-2.7.0+cu128 CUDA:0 (NVIDIA GeForce RTX 4060, 8188MiB)\n",
      "\u001b[34m\u001b[1mengine\\trainer: \u001b[0magnostic_nms=False, amp=True, augment=False, auto_augment=randaugment, batch=8, bgr=0.0, box=7.5, cache=False, cfg=None, classes=None, close_mosaic=10, cls=0.5, conf=None, copy_paste=0.0, copy_paste_mode=flip, cos_lr=False, cutmix=0.0, data=C:/Users/akama/AppData/Local/Programs/Python/Python310/python_file/projects/tennisvision/data/processed/datasets/final_merged_dataset/data.yaml, degrees=0.0, deterministic=True, device=0, dfl=1.5, dnn=False, dropout=0.0, dynamic=False, embed=None, epochs=50, erasing=0.4, exist_ok=False, fliplr=0.5, flipud=0.0, format=torchscript, fraction=1.0, freeze=None, half=False, hsv_h=0.015, hsv_s=0.7, hsv_v=0.4, imgsz=640, int8=False, iou=0.7, keras=False, kobj=1.0, line_width=None, lr0=0.01, lrf=0.01, mask_ratio=4, max_det=300, mixup=0.0, mode=train, model=yolov8n.pt, momentum=0.937, mosaic=1.0, multi_scale=False, name=student_distilled_run18, nbs=64, nms=False, opset=None, optimize=False, optimizer=auto, overlap_mask=True, patience=100, perspective=0.0, plots=True, pose=12.0, pretrained=True, profile=False, project=YOLOv8_Distillation_Demo, rect=False, resume=False, retina_masks=False, save=True, save_conf=False, save_crop=False, save_dir=YOLOv8_Distillation_Demo\\student_distilled_run18, save_frames=False, save_json=False, save_period=-1, save_txt=False, scale=0.5, seed=0, shear=0.0, show=False, show_boxes=True, show_conf=True, show_labels=True, simplify=True, single_cls=False, source=None, split=val, stream_buffer=False, task=detect, time=None, tracker=botsort.yaml, translate=0.1, val=True, verbose=True, vid_stride=1, visualize=False, warmup_bias_lr=0.1, warmup_epochs=3.0, warmup_momentum=0.8, weight_decay=0.0005, workers=8, workspace=None\n",
      "\u001b[34m\u001b[1mengine\\trainer: \u001b[0magnostic_nms=False, amp=True, augment=False, auto_augment=randaugment, batch=8, bgr=0.0, box=7.5, cache=False, cfg=None, classes=None, close_mosaic=10, cls=0.5, conf=None, copy_paste=0.0, copy_paste_mode=flip, cos_lr=False, cutmix=0.0, data=C:/Users/akama/AppData/Local/Programs/Python/Python310/python_file/projects/tennisvision/data/processed/datasets/final_merged_dataset/data.yaml, degrees=0.0, deterministic=True, device=0, dfl=1.5, dnn=False, dropout=0.0, dynamic=False, embed=None, epochs=50, erasing=0.4, exist_ok=False, fliplr=0.5, flipud=0.0, format=torchscript, fraction=1.0, freeze=None, half=False, hsv_h=0.015, hsv_s=0.7, hsv_v=0.4, imgsz=640, int8=False, iou=0.7, keras=False, kobj=1.0, line_width=None, lr0=0.01, lrf=0.01, mask_ratio=4, max_det=300, mixup=0.0, mode=train, model=yolov8n.pt, momentum=0.937, mosaic=1.0, multi_scale=False, name=student_distilled_run18, nbs=64, nms=False, opset=None, optimize=False, optimizer=auto, overlap_mask=True, patience=100, perspective=0.0, plots=True, pose=12.0, pretrained=True, profile=False, project=YOLOv8_Distillation_Demo, rect=False, resume=False, retina_masks=False, save=True, save_conf=False, save_crop=False, save_dir=YOLOv8_Distillation_Demo\\student_distilled_run18, save_frames=False, save_json=False, save_period=-1, save_txt=False, scale=0.5, seed=0, shear=0.0, show=False, show_boxes=True, show_conf=True, show_labels=True, simplify=True, single_cls=False, source=None, split=val, stream_buffer=False, task=detect, time=None, tracker=botsort.yaml, translate=0.1, val=True, verbose=True, vid_stride=1, visualize=False, warmup_bias_lr=0.1, warmup_epochs=3.0, warmup_momentum=0.8, weight_decay=0.0005, workers=8, workspace=None\n",
      "CustomDistillationTrainer initialized.\n",
      "  Teacher model: C:\\Users\\akama\\AppData\\Local\\Programs\\Python\\Python310\\python_file\\projects\\tennisvision\\models\\weights\\last.pt\n",
      "  Distillation temperature: 2.0\n",
      "  Alpha (CLS distillation): 0.5\n",
      "CustomDistillationTrainer initialized.\n",
      "  Teacher model: C:\\Users\\akama\\AppData\\Local\\Programs\\Python\\Python310\\python_file\\projects\\tennisvision\\models\\weights\\last.pt\n",
      "  Distillation temperature: 2.0\n",
      "  Alpha (CLS distillation): 0.5\n",
      "WARNING setting 'requires_grad=True' for frozen layer 'model.0.conv.weight'. See ultralytics.engine.trainer for customization of frozen layers.\n",
      "WARNING setting 'requires_grad=True' for frozen layer 'model.0.bn.weight'. See ultralytics.engine.trainer for customization of frozen layers.\n",
      "WARNING setting 'requires_grad=True' for frozen layer 'model.0.bn.bias'. See ultralytics.engine.trainer for customization of frozen layers.\n",
      "WARNING setting 'requires_grad=True' for frozen layer 'model.1.conv.weight'. See ultralytics.engine.trainer for customization of frozen layers.\n",
      "WARNING setting 'requires_grad=True' for frozen layer 'model.1.bn.weight'. See ultralytics.engine.trainer for customization of frozen layers.\n",
      "WARNING setting 'requires_grad=True' for frozen layer 'model.1.bn.bias'. See ultralytics.engine.trainer for customization of frozen layers.\n",
      "WARNING setting 'requires_grad=True' for frozen layer 'model.2.cv1.conv.weight'. See ultralytics.engine.trainer for customization of frozen layers.\n",
      "WARNING setting 'requires_grad=True' for frozen layer 'model.2.cv1.bn.weight'. See ultralytics.engine.trainer for customization of frozen layers.\n",
      "WARNING setting 'requires_grad=True' for frozen layer 'model.2.cv1.bn.bias'. See ultralytics.engine.trainer for customization of frozen layers.\n",
      "WARNING setting 'requires_grad=True' for frozen layer 'model.2.cv2.conv.weight'. See ultralytics.engine.trainer for customization of frozen layers.\n",
      "WARNING setting 'requires_grad=True' for frozen layer 'model.2.cv2.bn.weight'. See ultralytics.engine.trainer for customization of frozen layers.\n",
      "WARNING setting 'requires_grad=True' for frozen layer 'model.2.cv2.bn.bias'. See ultralytics.engine.trainer for customization of frozen layers.\n",
      "WARNING setting 'requires_grad=True' for frozen layer 'model.2.m.0.cv1.conv.weight'. See ultralytics.engine.trainer for customization of frozen layers.\n",
      "WARNING setting 'requires_grad=True' for frozen layer 'model.2.m.0.cv1.bn.weight'. See ultralytics.engine.trainer for customization of frozen layers.\n",
      "WARNING setting 'requires_grad=True' for frozen layer 'model.0.conv.weight'. See ultralytics.engine.trainer for customization of frozen layers.\n",
      "WARNING setting 'requires_grad=True' for frozen layer 'model.0.bn.weight'. See ultralytics.engine.trainer for customization of frozen layers.\n",
      "WARNING setting 'requires_grad=True' for frozen layer 'model.0.bn.bias'. See ultralytics.engine.trainer for customization of frozen layers.\n",
      "WARNING setting 'requires_grad=True' for frozen layer 'model.1.conv.weight'. See ultralytics.engine.trainer for customization of frozen layers.\n",
      "WARNING setting 'requires_grad=True' for frozen layer 'model.1.bn.weight'. See ultralytics.engine.trainer for customization of frozen layers.\n",
      "WARNING setting 'requires_grad=True' for frozen layer 'model.1.bn.bias'. See ultralytics.engine.trainer for customization of frozen layers.\n",
      "WARNING setting 'requires_grad=True' for frozen layer 'model.2.cv1.conv.weight'. See ultralytics.engine.trainer for customization of frozen layers.\n",
      "WARNING setting 'requires_grad=True' for frozen layer 'model.2.cv1.bn.weight'. See ultralytics.engine.trainer for customization of frozen layers.\n",
      "WARNING setting 'requires_grad=True' for frozen layer 'model.2.cv1.bn.bias'. See ultralytics.engine.trainer for customization of frozen layers.\n",
      "WARNING setting 'requires_grad=True' for frozen layer 'model.2.cv2.conv.weight'. See ultralytics.engine.trainer for customization of frozen layers.\n",
      "WARNING setting 'requires_grad=True' for frozen layer 'model.2.cv2.bn.weight'. See ultralytics.engine.trainer for customization of frozen layers.\n",
      "WARNING setting 'requires_grad=True' for frozen layer 'model.2.cv2.bn.bias'. See ultralytics.engine.trainer for customization of frozen layers.\n",
      "WARNING setting 'requires_grad=True' for frozen layer 'model.2.m.0.cv1.conv.weight'. See ultralytics.engine.trainer for customization of frozen layers.\n",
      "WARNING setting 'requires_grad=True' for frozen layer 'model.2.m.0.cv1.bn.weight'. See ultralytics.engine.trainer for customization of frozen layers.\n",
      "WARNING setting 'requires_grad=True' for frozen layer 'model.2.m.0.cv1.bn.bias'. See ultralytics.engine.trainer for customization of frozen layers.\n",
      "WARNING setting 'requires_grad=True' for frozen layer 'model.2.m.0.cv2.conv.weight'. See ultralytics.engine.trainer for customization of frozen layers.\n",
      "WARNING setting 'requires_grad=True' for frozen layer 'model.2.m.0.cv2.bn.weight'. See ultralytics.engine.trainer for customization of frozen layers.\n",
      "WARNING setting 'requires_grad=True' for frozen layer 'model.2.m.0.cv2.bn.bias'. See ultralytics.engine.trainer for customization of frozen layers.\n",
      "WARNING setting 'requires_grad=True' for frozen layer 'model.3.conv.weight'. See ultralytics.engine.trainer for customization of frozen layers.\n",
      "WARNING setting 'requires_grad=True' for frozen layer 'model.3.bn.weight'. See ultralytics.engine.trainer for customization of frozen layers.\n",
      "WARNING setting 'requires_grad=True' for frozen layer 'model.3.bn.bias'. See ultralytics.engine.trainer for customization of frozen layers.\n",
      "WARNING setting 'requires_grad=True' for frozen layer 'model.4.cv1.conv.weight'. See ultralytics.engine.trainer for customization of frozen layers.\n",
      "WARNING setting 'requires_grad=True' for frozen layer 'model.4.cv1.bn.weight'. See ultralytics.engine.trainer for customization of frozen layers.\n",
      "WARNING setting 'requires_grad=True' for frozen layer 'model.4.cv1.bn.bias'. See ultralytics.engine.trainer for customization of frozen layers.\n",
      "WARNING setting 'requires_grad=True' for frozen layer 'model.4.cv2.conv.weight'. See ultralytics.engine.trainer for customization of frozen layers.\n",
      "WARNING setting 'requires_grad=True' for frozen layer 'model.2.m.0.cv1.bn.bias'. See ultralytics.engine.trainer for customization of frozen layers.\n",
      "WARNING setting 'requires_grad=True' for frozen layer 'model.2.m.0.cv2.conv.weight'. See ultralytics.engine.trainer for customization of frozen layers.\n",
      "WARNING setting 'requires_grad=True' for frozen layer 'model.2.m.0.cv2.bn.weight'. See ultralytics.engine.trainer for customization of frozen layers.\n",
      "WARNING setting 'requires_grad=True' for frozen layer 'model.2.m.0.cv2.bn.bias'. See ultralytics.engine.trainer for customization of frozen layers.\n",
      "WARNING setting 'requires_grad=True' for frozen layer 'model.3.conv.weight'. See ultralytics.engine.trainer for customization of frozen layers.\n",
      "WARNING setting 'requires_grad=True' for frozen layer 'model.3.bn.weight'. See ultralytics.engine.trainer for customization of frozen layers.\n",
      "WARNING setting 'requires_grad=True' for frozen layer 'model.3.bn.bias'. See ultralytics.engine.trainer for customization of frozen layers.\n",
      "WARNING setting 'requires_grad=True' for frozen layer 'model.4.cv1.conv.weight'. See ultralytics.engine.trainer for customization of frozen layers.\n",
      "WARNING setting 'requires_grad=True' for frozen layer 'model.4.cv1.bn.weight'. See ultralytics.engine.trainer for customization of frozen layers.\n",
      "WARNING setting 'requires_grad=True' for frozen layer 'model.4.cv1.bn.bias'. See ultralytics.engine.trainer for customization of frozen layers.\n",
      "WARNING setting 'requires_grad=True' for frozen layer 'model.4.cv2.conv.weight'. See ultralytics.engine.trainer for customization of frozen layers.\n",
      "WARNING setting 'requires_grad=True' for frozen layer 'model.4.cv2.bn.weight'. See ultralytics.engine.trainer for customization of frozen layers.\n",
      "WARNING setting 'requires_grad=True' for frozen layer 'model.4.cv2.bn.weight'. See ultralytics.engine.trainer for customization of frozen layers.\n",
      "WARNING setting 'requires_grad=True' for frozen layer 'model.4.cv2.bn.bias'. See ultralytics.engine.trainer for customization of frozen layers.\n",
      "WARNING setting 'requires_grad=True' for frozen layer 'model.4.m.0.cv1.conv.weight'. See ultralytics.engine.trainer for customization of frozen layers.\n",
      "WARNING setting 'requires_grad=True' for frozen layer 'model.4.m.0.cv1.bn.weight'. See ultralytics.engine.trainer for customization of frozen layers.\n",
      "WARNING setting 'requires_grad=True' for frozen layer 'model.4.m.0.cv1.bn.bias'. See ultralytics.engine.trainer for customization of frozen layers.\n",
      "WARNING setting 'requires_grad=True' for frozen layer 'model.4.m.0.cv2.conv.weight'. See ultralytics.engine.trainer for customization of frozen layers.\n",
      "WARNING setting 'requires_grad=True' for frozen layer 'model.4.m.0.cv2.bn.weight'. See ultralytics.engine.trainer for customization of frozen layers.\n",
      "WARNING setting 'requires_grad=True' for frozen layer 'model.4.m.0.cv2.bn.bias'. See ultralytics.engine.trainer for customization of frozen layers.\n",
      "WARNING setting 'requires_grad=True' for frozen layer 'model.4.m.1.cv1.conv.weight'. See ultralytics.engine.trainer for customization of frozen layers.\n",
      "WARNING setting 'requires_grad=True' for frozen layer 'model.4.m.1.cv1.bn.weight'. See ultralytics.engine.trainer for customization of frozen layers.\n",
      "WARNING setting 'requires_grad=True' for frozen layer 'model.4.cv2.bn.bias'. See ultralytics.engine.trainer for customization of frozen layers.\n",
      "WARNING setting 'requires_grad=True' for frozen layer 'model.4.m.0.cv1.conv.weight'. See ultralytics.engine.trainer for customization of frozen layers.\n",
      "WARNING setting 'requires_grad=True' for frozen layer 'model.4.m.0.cv1.bn.weight'. See ultralytics.engine.trainer for customization of frozen layers.\n",
      "WARNING setting 'requires_grad=True' for frozen layer 'model.4.m.0.cv1.bn.bias'. See ultralytics.engine.trainer for customization of frozen layers.\n",
      "WARNING setting 'requires_grad=True' for frozen layer 'model.4.m.0.cv2.conv.weight'. See ultralytics.engine.trainer for customization of frozen layers.\n",
      "WARNING setting 'requires_grad=True' for frozen layer 'model.4.m.0.cv2.bn.weight'. See ultralytics.engine.trainer for customization of frozen layers.\n",
      "WARNING setting 'requires_grad=True' for frozen layer 'model.4.m.0.cv2.bn.bias'. See ultralytics.engine.trainer for customization of frozen layers.\n",
      "WARNING setting 'requires_grad=True' for frozen layer 'model.4.m.1.cv1.conv.weight'. See ultralytics.engine.trainer for customization of frozen layers.\n",
      "WARNING setting 'requires_grad=True' for frozen layer 'model.4.m.1.cv1.bn.weight'. See ultralytics.engine.trainer for customization of frozen layers.\n",
      "WARNING setting 'requires_grad=True' for frozen layer 'model.4.m.1.cv1.bn.bias'. See ultralytics.engine.trainer for customization of frozen layers.\n",
      "WARNING setting 'requires_grad=True' for frozen layer 'model.4.m.1.cv2.conv.weight'. See ultralytics.engine.trainer for customization of frozen layers.\n",
      "WARNING setting 'requires_grad=True' for frozen layer 'model.4.m.1.cv2.bn.weight'. See ultralytics.engine.trainer for customization of frozen layers.\n",
      "WARNING setting 'requires_grad=True' for frozen layer 'model.4.m.1.cv2.bn.bias'. See ultralytics.engine.trainer for customization of frozen layers.\n",
      "WARNING setting 'requires_grad=True' for frozen layer 'model.4.m.1.cv1.bn.bias'. See ultralytics.engine.trainer for customization of frozen layers.\n",
      "WARNING setting 'requires_grad=True' for frozen layer 'model.4.m.1.cv2.conv.weight'. See ultralytics.engine.trainer for customization of frozen layers.\n",
      "WARNING setting 'requires_grad=True' for frozen layer 'model.4.m.1.cv2.bn.weight'. See ultralytics.engine.trainer for customization of frozen layers.\n",
      "WARNING setting 'requires_grad=True' for frozen layer 'model.4.m.1.cv2.bn.bias'. See ultralytics.engine.trainer for customization of frozen layers.\n",
      "WARNING setting 'requires_grad=True' for frozen layer 'model.5.conv.weight'. See ultralytics.engine.trainer for customization of frozen layers.\n",
      "WARNING setting 'requires_grad=True' for frozen layer 'model.5.bn.weight'. See ultralytics.engine.trainer for customization of frozen layers.\n",
      "WARNING setting 'requires_grad=True' for frozen layer 'model.5.conv.weight'. See ultralytics.engine.trainer for customization of frozen layers.\n",
      "WARNING setting 'requires_grad=True' for frozen layer 'model.5.bn.weight'. See ultralytics.engine.trainer for customization of frozen layers.\n",
      "WARNING setting 'requires_grad=True' for frozen layer 'model.5.bn.bias'. See ultralytics.engine.trainer for customization of frozen layers.\n",
      "WARNING setting 'requires_grad=True' for frozen layer 'model.6.cv1.conv.weight'. See ultralytics.engine.trainer for customization of frozen layers.\n",
      "WARNING setting 'requires_grad=True' for frozen layer 'model.6.cv1.bn.weight'. See ultralytics.engine.trainer for customization of frozen layers.\n",
      "WARNING setting 'requires_grad=True' for frozen layer 'model.6.cv1.bn.bias'. See ultralytics.engine.trainer for customization of frozen layers.\n",
      "WARNING setting 'requires_grad=True' for frozen layer 'model.6.cv2.conv.weight'. See ultralytics.engine.trainer for customization of frozen layers.\n",
      "WARNING setting 'requires_grad=True' for frozen layer 'model.6.cv2.bn.weight'. See ultralytics.engine.trainer for customization of frozen layers.\n",
      "WARNING setting 'requires_grad=True' for frozen layer 'model.6.cv2.bn.bias'. See ultralytics.engine.trainer for customization of frozen layers.\n",
      "WARNING setting 'requires_grad=True' for frozen layer 'model.6.m.0.cv1.conv.weight'. See ultralytics.engine.trainer for customization of frozen layers.\n",
      "WARNING setting 'requires_grad=True' for frozen layer 'model.6.m.0.cv1.bn.weight'. See ultralytics.engine.trainer for customization of frozen layers.\n",
      "WARNING setting 'requires_grad=True' for frozen layer 'model.6.m.0.cv1.bn.bias'. See ultralytics.engine.trainer for customization of frozen layers.\n",
      "WARNING setting 'requires_grad=True' for frozen layer 'model.6.m.0.cv2.conv.weight'. See ultralytics.engine.trainer for customization of frozen layers.\n",
      "WARNING setting 'requires_grad=True' for frozen layer 'model.6.m.0.cv2.bn.weight'. See ultralytics.engine.trainer for customization of frozen layers.\n",
      "WARNING setting 'requires_grad=True' for frozen layer 'model.6.m.0.cv2.bn.bias'. See ultralytics.engine.trainer for customization of frozen layers.\n",
      "WARNING setting 'requires_grad=True' for frozen layer 'model.6.m.1.cv1.conv.weight'. See ultralytics.engine.trainer for customization of frozen layers.\n",
      "WARNING setting 'requires_grad=True' for frozen layer 'model.6.m.1.cv1.bn.weight'. See ultralytics.engine.trainer for customization of frozen layers.\n",
      "WARNING setting 'requires_grad=True' for frozen layer 'model.6.m.1.cv1.bn.bias'. See ultralytics.engine.trainer for customization of frozen layers.\n",
      "WARNING setting 'requires_grad=True' for frozen layer 'model.6.m.1.cv2.conv.weight'. See ultralytics.engine.trainer for customization of frozen layers.\n",
      "WARNING setting 'requires_grad=True' for frozen layer 'model.6.m.1.cv2.bn.weight'. See ultralytics.engine.trainer for customization of frozen layers.\n",
      "WARNING setting 'requires_grad=True' for frozen layer 'model.6.m.1.cv2.bn.bias'. See ultralytics.engine.trainer for customization of frozen layers.\n",
      "WARNING setting 'requires_grad=True' for frozen layer 'model.7.conv.weight'. See ultralytics.engine.trainer for customization of frozen layers.\n",
      "WARNING setting 'requires_grad=True' for frozen layer 'model.7.bn.weight'. See ultralytics.engine.trainer for customization of frozen layers.\n",
      "WARNING setting 'requires_grad=True' for frozen layer 'model.7.bn.bias'. See ultralytics.engine.trainer for customization of frozen layers.\n",
      "WARNING setting 'requires_grad=True' for frozen layer 'model.8.cv1.conv.weight'. See ultralytics.engine.trainer for customization of frozen layers.\n",
      "WARNING setting 'requires_grad=True' for frozen layer 'model.8.cv1.bn.weight'. See ultralytics.engine.trainer for customization of frozen layers.\n",
      "WARNING setting 'requires_grad=True' for frozen layer 'model.8.cv1.bn.bias'. See ultralytics.engine.trainer for customization of frozen layers.\n",
      "WARNING setting 'requires_grad=True' for frozen layer 'model.8.cv2.conv.weight'. See ultralytics.engine.trainer for customization of frozen layers.\n",
      "WARNING setting 'requires_grad=True' for frozen layer 'model.5.bn.bias'. See ultralytics.engine.trainer for customization of frozen layers.\n",
      "WARNING setting 'requires_grad=True' for frozen layer 'model.6.cv1.conv.weight'. See ultralytics.engine.trainer for customization of frozen layers.\n",
      "WARNING setting 'requires_grad=True' for frozen layer 'model.6.cv1.bn.weight'. See ultralytics.engine.trainer for customization of frozen layers.\n",
      "WARNING setting 'requires_grad=True' for frozen layer 'model.6.cv1.bn.bias'. See ultralytics.engine.trainer for customization of frozen layers.\n",
      "WARNING setting 'requires_grad=True' for frozen layer 'model.6.cv2.conv.weight'. See ultralytics.engine.trainer for customization of frozen layers.\n",
      "WARNING setting 'requires_grad=True' for frozen layer 'model.6.cv2.bn.weight'. See ultralytics.engine.trainer for customization of frozen layers.\n",
      "WARNING setting 'requires_grad=True' for frozen layer 'model.6.cv2.bn.bias'. See ultralytics.engine.trainer for customization of frozen layers.\n",
      "WARNING setting 'requires_grad=True' for frozen layer 'model.6.m.0.cv1.conv.weight'. See ultralytics.engine.trainer for customization of frozen layers.\n",
      "WARNING setting 'requires_grad=True' for frozen layer 'model.6.m.0.cv1.bn.weight'. See ultralytics.engine.trainer for customization of frozen layers.\n",
      "WARNING setting 'requires_grad=True' for frozen layer 'model.6.m.0.cv1.bn.bias'. See ultralytics.engine.trainer for customization of frozen layers.\n",
      "WARNING setting 'requires_grad=True' for frozen layer 'model.6.m.0.cv2.conv.weight'. See ultralytics.engine.trainer for customization of frozen layers.\n",
      "WARNING setting 'requires_grad=True' for frozen layer 'model.6.m.0.cv2.bn.weight'. See ultralytics.engine.trainer for customization of frozen layers.\n",
      "WARNING setting 'requires_grad=True' for frozen layer 'model.6.m.0.cv2.bn.bias'. See ultralytics.engine.trainer for customization of frozen layers.\n",
      "WARNING setting 'requires_grad=True' for frozen layer 'model.6.m.1.cv1.conv.weight'. See ultralytics.engine.trainer for customization of frozen layers.\n",
      "WARNING setting 'requires_grad=True' for frozen layer 'model.6.m.1.cv1.bn.weight'. See ultralytics.engine.trainer for customization of frozen layers.\n",
      "WARNING setting 'requires_grad=True' for frozen layer 'model.6.m.1.cv1.bn.bias'. See ultralytics.engine.trainer for customization of frozen layers.\n",
      "WARNING setting 'requires_grad=True' for frozen layer 'model.6.m.1.cv2.conv.weight'. See ultralytics.engine.trainer for customization of frozen layers.\n",
      "WARNING setting 'requires_grad=True' for frozen layer 'model.6.m.1.cv2.bn.weight'. See ultralytics.engine.trainer for customization of frozen layers.\n",
      "WARNING setting 'requires_grad=True' for frozen layer 'model.6.m.1.cv2.bn.bias'. See ultralytics.engine.trainer for customization of frozen layers.\n",
      "WARNING setting 'requires_grad=True' for frozen layer 'model.7.conv.weight'. See ultralytics.engine.trainer for customization of frozen layers.\n",
      "WARNING setting 'requires_grad=True' for frozen layer 'model.7.bn.weight'. See ultralytics.engine.trainer for customization of frozen layers.\n",
      "WARNING setting 'requires_grad=True' for frozen layer 'model.7.bn.bias'. See ultralytics.engine.trainer for customization of frozen layers.\n",
      "WARNING setting 'requires_grad=True' for frozen layer 'model.8.cv1.conv.weight'. See ultralytics.engine.trainer for customization of frozen layers.\n",
      "WARNING setting 'requires_grad=True' for frozen layer 'model.8.cv1.bn.weight'. See ultralytics.engine.trainer for customization of frozen layers.\n",
      "WARNING setting 'requires_grad=True' for frozen layer 'model.8.cv1.bn.bias'. See ultralytics.engine.trainer for customization of frozen layers.\n",
      "WARNING setting 'requires_grad=True' for frozen layer 'model.8.cv2.conv.weight'. See ultralytics.engine.trainer for customization of frozen layers.\n",
      "WARNING setting 'requires_grad=True' for frozen layer 'model.8.cv2.bn.weight'. See ultralytics.engine.trainer for customization of frozen layers.\n",
      "WARNING setting 'requires_grad=True' for frozen layer 'model.8.cv2.bn.bias'. See ultralytics.engine.trainer for customization of frozen layers.\n",
      "WARNING setting 'requires_grad=True' for frozen layer 'model.8.m.0.cv1.conv.weight'. See ultralytics.engine.trainer for customization of frozen layers.\n",
      "WARNING setting 'requires_grad=True' for frozen layer 'model.8.m.0.cv1.bn.weight'. See ultralytics.engine.trainer for customization of frozen layers.\n",
      "WARNING setting 'requires_grad=True' for frozen layer 'model.8.m.0.cv1.bn.bias'. See ultralytics.engine.trainer for customization of frozen layers.\n",
      "WARNING setting 'requires_grad=True' for frozen layer 'model.8.m.0.cv2.conv.weight'. See ultralytics.engine.trainer for customization of frozen layers.\n",
      "WARNING setting 'requires_grad=True' for frozen layer 'model.8.m.0.cv2.bn.weight'. See ultralytics.engine.trainer for customization of frozen layers.\n",
      "WARNING setting 'requires_grad=True' for frozen layer 'model.8.m.0.cv2.bn.bias'. See ultralytics.engine.trainer for customization of frozen layers.\n",
      "WARNING setting 'requires_grad=True' for frozen layer 'model.9.cv1.conv.weight'. See ultralytics.engine.trainer for customization of frozen layers.\n",
      "WARNING setting 'requires_grad=True' for frozen layer 'model.9.cv1.bn.weight'. See ultralytics.engine.trainer for customization of frozen layers.\n",
      "WARNING setting 'requires_grad=True' for frozen layer 'model.9.cv1.bn.bias'. See ultralytics.engine.trainer for customization of frozen layers.\n",
      "WARNING setting 'requires_grad=True' for frozen layer 'model.9.cv2.conv.weight'. See ultralytics.engine.trainer for customization of frozen layers.\n",
      "WARNING setting 'requires_grad=True' for frozen layer 'model.9.cv2.bn.weight'. See ultralytics.engine.trainer for customization of frozen layers.\n",
      "WARNING setting 'requires_grad=True' for frozen layer 'model.9.cv2.bn.bias'. See ultralytics.engine.trainer for customization of frozen layers.\n",
      "WARNING setting 'requires_grad=True' for frozen layer 'model.8.cv2.bn.weight'. See ultralytics.engine.trainer for customization of frozen layers.\n",
      "WARNING setting 'requires_grad=True' for frozen layer 'model.8.cv2.bn.bias'. See ultralytics.engine.trainer for customization of frozen layers.\n",
      "WARNING setting 'requires_grad=True' for frozen layer 'model.8.m.0.cv1.conv.weight'. See ultralytics.engine.trainer for customization of frozen layers.\n",
      "WARNING setting 'requires_grad=True' for frozen layer 'model.8.m.0.cv1.bn.weight'. See ultralytics.engine.trainer for customization of frozen layers.\n",
      "WARNING setting 'requires_grad=True' for frozen layer 'model.8.m.0.cv1.bn.bias'. See ultralytics.engine.trainer for customization of frozen layers.\n",
      "WARNING setting 'requires_grad=True' for frozen layer 'model.8.m.0.cv2.conv.weight'. See ultralytics.engine.trainer for customization of frozen layers.\n",
      "WARNING setting 'requires_grad=True' for frozen layer 'model.8.m.0.cv2.bn.weight'. See ultralytics.engine.trainer for customization of frozen layers.\n",
      "WARNING setting 'requires_grad=True' for frozen layer 'model.8.m.0.cv2.bn.bias'. See ultralytics.engine.trainer for customization of frozen layers.\n",
      "WARNING setting 'requires_grad=True' for frozen layer 'model.9.cv1.conv.weight'. See ultralytics.engine.trainer for customization of frozen layers.\n",
      "WARNING setting 'requires_grad=True' for frozen layer 'model.9.cv1.bn.weight'. See ultralytics.engine.trainer for customization of frozen layers.\n",
      "WARNING setting 'requires_grad=True' for frozen layer 'model.9.cv1.bn.bias'. See ultralytics.engine.trainer for customization of frozen layers.\n",
      "WARNING setting 'requires_grad=True' for frozen layer 'model.9.cv2.conv.weight'. See ultralytics.engine.trainer for customization of frozen layers.\n",
      "WARNING setting 'requires_grad=True' for frozen layer 'model.9.cv2.bn.weight'. See ultralytics.engine.trainer for customization of frozen layers.\n",
      "WARNING setting 'requires_grad=True' for frozen layer 'model.9.cv2.bn.bias'. See ultralytics.engine.trainer for customization of frozen layers.\n",
      "WARNING setting 'requires_grad=True' for frozen layer 'model.12.cv1.conv.weight'. See ultralytics.engine.trainer for customization of frozen layers.\n",
      "WARNING setting 'requires_grad=True' for frozen layer 'model.12.cv1.bn.weight'. See ultralytics.engine.trainer for customization of frozen layers.\n",
      "WARNING setting 'requires_grad=True' for frozen layer 'model.12.cv1.bn.bias'. See ultralytics.engine.trainer for customization of frozen layers.\n",
      "WARNING setting 'requires_grad=True' for frozen layer 'model.12.cv2.conv.weight'. See ultralytics.engine.trainer for customization of frozen layers.\n",
      "WARNING setting 'requires_grad=True' for frozen layer 'model.12.cv2.bn.weight'. See ultralytics.engine.trainer for customization of frozen layers.\n",
      "WARNING setting 'requires_grad=True' for frozen layer 'model.12.cv2.bn.bias'. See ultralytics.engine.trainer for customization of frozen layers.\n",
      "WARNING setting 'requires_grad=True' for frozen layer 'model.12.m.0.cv1.conv.weight'. See ultralytics.engine.trainer for customization of frozen layers.\n",
      "WARNING setting 'requires_grad=True' for frozen layer 'model.12.m.0.cv1.bn.weight'. See ultralytics.engine.trainer for customization of frozen layers.\n",
      "WARNING setting 'requires_grad=True' for frozen layer 'model.12.cv1.conv.weight'. See ultralytics.engine.trainer for customization of frozen layers.\n",
      "WARNING setting 'requires_grad=True' for frozen layer 'model.12.cv1.bn.weight'. See ultralytics.engine.trainer for customization of frozen layers.\n",
      "WARNING setting 'requires_grad=True' for frozen layer 'model.12.cv1.bn.bias'. See ultralytics.engine.trainer for customization of frozen layers.\n",
      "WARNING setting 'requires_grad=True' for frozen layer 'model.12.cv2.conv.weight'. See ultralytics.engine.trainer for customization of frozen layers.\n",
      "WARNING setting 'requires_grad=True' for frozen layer 'model.12.cv2.bn.weight'. See ultralytics.engine.trainer for customization of frozen layers.\n",
      "WARNING setting 'requires_grad=True' for frozen layer 'model.12.cv2.bn.bias'. See ultralytics.engine.trainer for customization of frozen layers.\n",
      "WARNING setting 'requires_grad=True' for frozen layer 'model.12.m.0.cv1.conv.weight'. See ultralytics.engine.trainer for customization of frozen layers.\n",
      "WARNING setting 'requires_grad=True' for frozen layer 'model.12.m.0.cv1.bn.weight'. See ultralytics.engine.trainer for customization of frozen layers.\n",
      "WARNING setting 'requires_grad=True' for frozen layer 'model.12.m.0.cv1.bn.bias'. See ultralytics.engine.trainer for customization of frozen layers.\n",
      "WARNING setting 'requires_grad=True' for frozen layer 'model.12.m.0.cv2.conv.weight'. See ultralytics.engine.trainer for customization of frozen layers.\n",
      "WARNING setting 'requires_grad=True' for frozen layer 'model.12.m.0.cv2.bn.weight'. See ultralytics.engine.trainer for customization of frozen layers.\n",
      "WARNING setting 'requires_grad=True' for frozen layer 'model.12.m.0.cv2.bn.bias'. See ultralytics.engine.trainer for customization of frozen layers.\n",
      "WARNING setting 'requires_grad=True' for frozen layer 'model.15.cv1.conv.weight'. See ultralytics.engine.trainer for customization of frozen layers.\n",
      "WARNING setting 'requires_grad=True' for frozen layer 'model.15.cv1.bn.weight'. See ultralytics.engine.trainer for customization of frozen layers.\n",
      "WARNING setting 'requires_grad=True' for frozen layer 'model.15.cv1.bn.bias'. See ultralytics.engine.trainer for customization of frozen layers.\n",
      "WARNING setting 'requires_grad=True' for frozen layer 'model.15.cv2.conv.weight'. See ultralytics.engine.trainer for customization of frozen layers.\n",
      "WARNING setting 'requires_grad=True' for frozen layer 'model.15.cv2.bn.weight'. See ultralytics.engine.trainer for customization of frozen layers.\n",
      "WARNING setting 'requires_grad=True' for frozen layer 'model.12.m.0.cv1.bn.bias'. See ultralytics.engine.trainer for customization of frozen layers.\n",
      "WARNING setting 'requires_grad=True' for frozen layer 'model.12.m.0.cv2.conv.weight'. See ultralytics.engine.trainer for customization of frozen layers.\n",
      "WARNING setting 'requires_grad=True' for frozen layer 'model.12.m.0.cv2.bn.weight'. See ultralytics.engine.trainer for customization of frozen layers.\n",
      "WARNING setting 'requires_grad=True' for frozen layer 'model.12.m.0.cv2.bn.bias'. See ultralytics.engine.trainer for customization of frozen layers.\n",
      "WARNING setting 'requires_grad=True' for frozen layer 'model.15.cv1.conv.weight'. See ultralytics.engine.trainer for customization of frozen layers.\n",
      "WARNING setting 'requires_grad=True' for frozen layer 'model.15.cv1.bn.weight'. See ultralytics.engine.trainer for customization of frozen layers.\n",
      "WARNING setting 'requires_grad=True' for frozen layer 'model.15.cv1.bn.bias'. See ultralytics.engine.trainer for customization of frozen layers.\n",
      "WARNING setting 'requires_grad=True' for frozen layer 'model.15.cv2.conv.weight'. See ultralytics.engine.trainer for customization of frozen layers.\n",
      "WARNING setting 'requires_grad=True' for frozen layer 'model.15.cv2.bn.weight'. See ultralytics.engine.trainer for customization of frozen layers.\n",
      "WARNING setting 'requires_grad=True' for frozen layer 'model.15.cv2.bn.bias'. See ultralytics.engine.trainer for customization of frozen layers.\n",
      "WARNING setting 'requires_grad=True' for frozen layer 'model.15.m.0.cv1.conv.weight'. See ultralytics.engine.trainer for customization of frozen layers.\n",
      "WARNING setting 'requires_grad=True' for frozen layer 'model.15.m.0.cv1.bn.weight'. See ultralytics.engine.trainer for customization of frozen layers.\n",
      "WARNING setting 'requires_grad=True' for frozen layer 'model.15.m.0.cv1.bn.bias'. See ultralytics.engine.trainer for customization of frozen layers.\n",
      "WARNING setting 'requires_grad=True' for frozen layer 'model.15.m.0.cv2.conv.weight'. See ultralytics.engine.trainer for customization of frozen layers.\n",
      "WARNING setting 'requires_grad=True' for frozen layer 'model.15.m.0.cv2.bn.weight'. See ultralytics.engine.trainer for customization of frozen layers.\n",
      "WARNING setting 'requires_grad=True' for frozen layer 'model.15.m.0.cv2.bn.bias'. See ultralytics.engine.trainer for customization of frozen layers.\n",
      "WARNING setting 'requires_grad=True' for frozen layer 'model.16.conv.weight'. See ultralytics.engine.trainer for customization of frozen layers.\n",
      "WARNING setting 'requires_grad=True' for frozen layer 'model.16.bn.weight'. See ultralytics.engine.trainer for customization of frozen layers.\n",
      "WARNING setting 'requires_grad=True' for frozen layer 'model.16.bn.bias'. See ultralytics.engine.trainer for customization of frozen layers.\n",
      "WARNING setting 'requires_grad=True' for frozen layer 'model.18.cv1.conv.weight'. See ultralytics.engine.trainer for customization of frozen layers.\n",
      "WARNING setting 'requires_grad=True' for frozen layer 'model.18.cv1.bn.weight'. See ultralytics.engine.trainer for customization of frozen layers.\n",
      "WARNING setting 'requires_grad=True' for frozen layer 'model.15.cv2.bn.bias'. See ultralytics.engine.trainer for customization of frozen layers.\n",
      "WARNING setting 'requires_grad=True' for frozen layer 'model.15.m.0.cv1.conv.weight'. See ultralytics.engine.trainer for customization of frozen layers.\n",
      "WARNING setting 'requires_grad=True' for frozen layer 'model.15.m.0.cv1.bn.weight'. See ultralytics.engine.trainer for customization of frozen layers.\n",
      "WARNING setting 'requires_grad=True' for frozen layer 'model.15.m.0.cv1.bn.bias'. See ultralytics.engine.trainer for customization of frozen layers.\n",
      "WARNING setting 'requires_grad=True' for frozen layer 'model.15.m.0.cv2.conv.weight'. See ultralytics.engine.trainer for customization of frozen layers.\n",
      "WARNING setting 'requires_grad=True' for frozen layer 'model.15.m.0.cv2.bn.weight'. See ultralytics.engine.trainer for customization of frozen layers.\n",
      "WARNING setting 'requires_grad=True' for frozen layer 'model.15.m.0.cv2.bn.bias'. See ultralytics.engine.trainer for customization of frozen layers.\n",
      "WARNING setting 'requires_grad=True' for frozen layer 'model.16.conv.weight'. See ultralytics.engine.trainer for customization of frozen layers.\n",
      "WARNING setting 'requires_grad=True' for frozen layer 'model.16.bn.weight'. See ultralytics.engine.trainer for customization of frozen layers.\n",
      "WARNING setting 'requires_grad=True' for frozen layer 'model.16.bn.bias'. See ultralytics.engine.trainer for customization of frozen layers.\n",
      "WARNING setting 'requires_grad=True' for frozen layer 'model.18.cv1.conv.weight'. See ultralytics.engine.trainer for customization of frozen layers.\n",
      "WARNING setting 'requires_grad=True' for frozen layer 'model.18.cv1.bn.weight'. See ultralytics.engine.trainer for customization of frozen layers.\n",
      "WARNING setting 'requires_grad=True' for frozen layer 'model.18.cv1.bn.bias'. See ultralytics.engine.trainer for customization of frozen layers.\n",
      "WARNING setting 'requires_grad=True' for frozen layer 'model.18.cv2.conv.weight'. See ultralytics.engine.trainer for customization of frozen layers.\n",
      "WARNING setting 'requires_grad=True' for frozen layer 'model.18.cv2.bn.weight'. See ultralytics.engine.trainer for customization of frozen layers.\n",
      "WARNING setting 'requires_grad=True' for frozen layer 'model.18.cv2.bn.bias'. See ultralytics.engine.trainer for customization of frozen layers.\n",
      "WARNING setting 'requires_grad=True' for frozen layer 'model.18.m.0.cv1.conv.weight'. See ultralytics.engine.trainer for customization of frozen layers.\n",
      "WARNING setting 'requires_grad=True' for frozen layer 'model.18.m.0.cv1.bn.weight'. See ultralytics.engine.trainer for customization of frozen layers.\n",
      "WARNING setting 'requires_grad=True' for frozen layer 'model.18.m.0.cv1.bn.bias'. See ultralytics.engine.trainer for customization of frozen layers.\n",
      "WARNING setting 'requires_grad=True' for frozen layer 'model.18.m.0.cv2.conv.weight'. See ultralytics.engine.trainer for customization of frozen layers.\n",
      "WARNING setting 'requires_grad=True' for frozen layer 'model.18.m.0.cv2.bn.weight'. See ultralytics.engine.trainer for customization of frozen layers.\n",
      "WARNING setting 'requires_grad=True' for frozen layer 'model.18.m.0.cv2.bn.bias'. See ultralytics.engine.trainer for customization of frozen layers.\n",
      "WARNING setting 'requires_grad=True' for frozen layer 'model.19.conv.weight'. See ultralytics.engine.trainer for customization of frozen layers.\n",
      "WARNING setting 'requires_grad=True' for frozen layer 'model.18.cv1.bn.bias'. See ultralytics.engine.trainer for customization of frozen layers.\n",
      "WARNING setting 'requires_grad=True' for frozen layer 'model.18.cv2.conv.weight'. See ultralytics.engine.trainer for customization of frozen layers.\n",
      "WARNING setting 'requires_grad=True' for frozen layer 'model.18.cv2.bn.weight'. See ultralytics.engine.trainer for customization of frozen layers.\n",
      "WARNING setting 'requires_grad=True' for frozen layer 'model.18.cv2.bn.bias'. See ultralytics.engine.trainer for customization of frozen layers.\n",
      "WARNING setting 'requires_grad=True' for frozen layer 'model.18.m.0.cv1.conv.weight'. See ultralytics.engine.trainer for customization of frozen layers.\n",
      "WARNING setting 'requires_grad=True' for frozen layer 'model.18.m.0.cv1.bn.weight'. See ultralytics.engine.trainer for customization of frozen layers.\n",
      "WARNING setting 'requires_grad=True' for frozen layer 'model.18.m.0.cv1.bn.bias'. See ultralytics.engine.trainer for customization of frozen layers.\n",
      "WARNING setting 'requires_grad=True' for frozen layer 'model.18.m.0.cv2.conv.weight'. See ultralytics.engine.trainer for customization of frozen layers.\n",
      "WARNING setting 'requires_grad=True' for frozen layer 'model.18.m.0.cv2.bn.weight'. See ultralytics.engine.trainer for customization of frozen layers.\n",
      "WARNING setting 'requires_grad=True' for frozen layer 'model.18.m.0.cv2.bn.bias'. See ultralytics.engine.trainer for customization of frozen layers.\n",
      "WARNING setting 'requires_grad=True' for frozen layer 'model.19.conv.weight'. See ultralytics.engine.trainer for customization of frozen layers.\n",
      "WARNING setting 'requires_grad=True' for frozen layer 'model.19.bn.weight'. See ultralytics.engine.trainer for customization of frozen layers.\n",
      "WARNING setting 'requires_grad=True' for frozen layer 'model.19.bn.bias'. See ultralytics.engine.trainer for customization of frozen layers.\n",
      "WARNING setting 'requires_grad=True' for frozen layer 'model.21.cv1.conv.weight'. See ultralytics.engine.trainer for customization of frozen layers.\n",
      "WARNING setting 'requires_grad=True' for frozen layer 'model.21.cv1.bn.weight'. See ultralytics.engine.trainer for customization of frozen layers.\n",
      "WARNING setting 'requires_grad=True' for frozen layer 'model.21.cv1.bn.bias'. See ultralytics.engine.trainer for customization of frozen layers.\n",
      "WARNING setting 'requires_grad=True' for frozen layer 'model.21.cv2.conv.weight'. See ultralytics.engine.trainer for customization of frozen layers.\n",
      "WARNING setting 'requires_grad=True' for frozen layer 'model.21.cv2.bn.weight'. See ultralytics.engine.trainer for customization of frozen layers.\n",
      "WARNING setting 'requires_grad=True' for frozen layer 'model.21.cv2.bn.bias'. See ultralytics.engine.trainer for customization of frozen layers.\n",
      "WARNING setting 'requires_grad=True' for frozen layer 'model.21.m.0.cv1.conv.weight'. See ultralytics.engine.trainer for customization of frozen layers.\n",
      "WARNING setting 'requires_grad=True' for frozen layer 'model.21.m.0.cv1.bn.weight'. See ultralytics.engine.trainer for customization of frozen layers.\n",
      "WARNING setting 'requires_grad=True' for frozen layer 'model.19.bn.weight'. See ultralytics.engine.trainer for customization of frozen layers.\n",
      "WARNING setting 'requires_grad=True' for frozen layer 'model.19.bn.bias'. See ultralytics.engine.trainer for customization of frozen layers.\n",
      "WARNING setting 'requires_grad=True' for frozen layer 'model.21.cv1.conv.weight'. See ultralytics.engine.trainer for customization of frozen layers.\n",
      "WARNING setting 'requires_grad=True' for frozen layer 'model.21.cv1.bn.weight'. See ultralytics.engine.trainer for customization of frozen layers.\n",
      "WARNING setting 'requires_grad=True' for frozen layer 'model.21.cv1.bn.bias'. See ultralytics.engine.trainer for customization of frozen layers.\n",
      "WARNING setting 'requires_grad=True' for frozen layer 'model.21.cv2.conv.weight'. See ultralytics.engine.trainer for customization of frozen layers.\n",
      "WARNING setting 'requires_grad=True' for frozen layer 'model.21.cv2.bn.weight'. See ultralytics.engine.trainer for customization of frozen layers.\n",
      "WARNING setting 'requires_grad=True' for frozen layer 'model.21.cv2.bn.bias'. See ultralytics.engine.trainer for customization of frozen layers.\n",
      "WARNING setting 'requires_grad=True' for frozen layer 'model.21.m.0.cv1.conv.weight'. See ultralytics.engine.trainer for customization of frozen layers.\n",
      "WARNING setting 'requires_grad=True' for frozen layer 'model.21.m.0.cv1.bn.weight'. See ultralytics.engine.trainer for customization of frozen layers.\n",
      "WARNING setting 'requires_grad=True' for frozen layer 'model.21.m.0.cv1.bn.bias'. See ultralytics.engine.trainer for customization of frozen layers.\n",
      "WARNING setting 'requires_grad=True' for frozen layer 'model.21.m.0.cv2.conv.weight'. See ultralytics.engine.trainer for customization of frozen layers.\n",
      "WARNING setting 'requires_grad=True' for frozen layer 'model.21.m.0.cv2.bn.weight'. See ultralytics.engine.trainer for customization of frozen layers.\n",
      "WARNING setting 'requires_grad=True' for frozen layer 'model.21.m.0.cv2.bn.bias'. See ultralytics.engine.trainer for customization of frozen layers.\n",
      "WARNING setting 'requires_grad=True' for frozen layer 'model.21.m.0.cv1.bn.bias'. See ultralytics.engine.trainer for customization of frozen layers.\n",
      "WARNING setting 'requires_grad=True' for frozen layer 'model.21.m.0.cv2.conv.weight'. See ultralytics.engine.trainer for customization of frozen layers.\n",
      "WARNING setting 'requires_grad=True' for frozen layer 'model.21.m.0.cv2.bn.weight'. See ultralytics.engine.trainer for customization of frozen layers.\n",
      "WARNING setting 'requires_grad=True' for frozen layer 'model.21.m.0.cv2.bn.bias'. See ultralytics.engine.trainer for customization of frozen layers.\n",
      "WARNING setting 'requires_grad=True' for frozen layer 'model.22.cv2.0.0.conv.weight'. See ultralytics.engine.trainer for customization of frozen layers.\n",
      "WARNING setting 'requires_grad=True' for frozen layer 'model.22.cv2.0.0.bn.weight'. See ultralytics.engine.trainer for customization of frozen layers.\n",
      "WARNING setting 'requires_grad=True' for frozen layer 'model.22.cv2.0.0.bn.bias'. See ultralytics.engine.trainer for customization of frozen layers.\n",
      "WARNING setting 'requires_grad=True' for frozen layer 'model.22.cv2.0.1.conv.weight'. See ultralytics.engine.trainer for customization of frozen layers.\n",
      "WARNING setting 'requires_grad=True' for frozen layer 'model.22.cv2.0.1.bn.weight'. See ultralytics.engine.trainer for customization of frozen layers.\n",
      "WARNING setting 'requires_grad=True' for frozen layer 'model.22.cv2.0.1.bn.bias'. See ultralytics.engine.trainer for customization of frozen layers.\n",
      "WARNING setting 'requires_grad=True' for frozen layer 'model.22.cv2.0.2.weight'. See ultralytics.engine.trainer for customization of frozen layers.\n",
      "WARNING setting 'requires_grad=True' for frozen layer 'model.22.cv2.0.2.bias'. See ultralytics.engine.trainer for customization of frozen layers.\n",
      "WARNING setting 'requires_grad=True' for frozen layer 'model.22.cv2.1.0.conv.weight'. See ultralytics.engine.trainer for customization of frozen layers.\n",
      "WARNING setting 'requires_grad=True' for frozen layer 'model.22.cv2.1.0.bn.weight'. See ultralytics.engine.trainer for customization of frozen layers.\n",
      "WARNING setting 'requires_grad=True' for frozen layer 'model.22.cv2.1.0.bn.bias'. See ultralytics.engine.trainer for customization of frozen layers.\n",
      "WARNING setting 'requires_grad=True' for frozen layer 'model.22.cv2.1.1.conv.weight'. See ultralytics.engine.trainer for customization of frozen layers.\n",
      "WARNING setting 'requires_grad=True' for frozen layer 'model.22.cv2.1.1.bn.weight'. See ultralytics.engine.trainer for customization of frozen layers.\n",
      "WARNING setting 'requires_grad=True' for frozen layer 'model.22.cv2.0.0.conv.weight'. See ultralytics.engine.trainer for customization of frozen layers.\n",
      "WARNING setting 'requires_grad=True' for frozen layer 'model.22.cv2.0.0.bn.weight'. See ultralytics.engine.trainer for customization of frozen layers.\n",
      "WARNING setting 'requires_grad=True' for frozen layer 'model.22.cv2.0.0.bn.bias'. See ultralytics.engine.trainer for customization of frozen layers.\n",
      "WARNING setting 'requires_grad=True' for frozen layer 'model.22.cv2.0.1.conv.weight'. See ultralytics.engine.trainer for customization of frozen layers.\n",
      "WARNING setting 'requires_grad=True' for frozen layer 'model.22.cv2.0.1.bn.weight'. See ultralytics.engine.trainer for customization of frozen layers.\n",
      "WARNING setting 'requires_grad=True' for frozen layer 'model.22.cv2.0.1.bn.bias'. See ultralytics.engine.trainer for customization of frozen layers.\n",
      "WARNING setting 'requires_grad=True' for frozen layer 'model.22.cv2.0.2.weight'. See ultralytics.engine.trainer for customization of frozen layers.\n",
      "WARNING setting 'requires_grad=True' for frozen layer 'model.22.cv2.0.2.bias'. See ultralytics.engine.trainer for customization of frozen layers.\n",
      "WARNING setting 'requires_grad=True' for frozen layer 'model.22.cv2.1.0.conv.weight'. See ultralytics.engine.trainer for customization of frozen layers.\n",
      "WARNING setting 'requires_grad=True' for frozen layer 'model.22.cv2.1.0.bn.weight'. See ultralytics.engine.trainer for customization of frozen layers.\n",
      "WARNING setting 'requires_grad=True' for frozen layer 'model.22.cv2.1.0.bn.bias'. See ultralytics.engine.trainer for customization of frozen layers.\n",
      "WARNING setting 'requires_grad=True' for frozen layer 'model.22.cv2.1.1.conv.weight'. See ultralytics.engine.trainer for customization of frozen layers.\n",
      "WARNING setting 'requires_grad=True' for frozen layer 'model.22.cv2.1.1.bn.weight'. See ultralytics.engine.trainer for customization of frozen layers.\n",
      "WARNING setting 'requires_grad=True' for frozen layer 'model.22.cv2.1.1.bn.bias'. See ultralytics.engine.trainer for customization of frozen layers.\n",
      "WARNING setting 'requires_grad=True' for frozen layer 'model.22.cv2.1.2.weight'. See ultralytics.engine.trainer for customization of frozen layers.\n",
      "WARNING setting 'requires_grad=True' for frozen layer 'model.22.cv2.1.1.bn.bias'. See ultralytics.engine.trainer for customization of frozen layers.\n",
      "WARNING setting 'requires_grad=True' for frozen layer 'model.22.cv2.1.2.weight'. See ultralytics.engine.trainer for customization of frozen layers.\n",
      "WARNING setting 'requires_grad=True' for frozen layer 'model.22.cv2.1.2.bias'. See ultralytics.engine.trainer for customization of frozen layers.\n",
      "WARNING setting 'requires_grad=True' for frozen layer 'model.22.cv2.2.0.conv.weight'. See ultralytics.engine.trainer for customization of frozen layers.\n",
      "WARNING setting 'requires_grad=True' for frozen layer 'model.22.cv2.2.0.bn.weight'. See ultralytics.engine.trainer for customization of frozen layers.\n",
      "WARNING setting 'requires_grad=True' for frozen layer 'model.22.cv2.2.0.bn.bias'. See ultralytics.engine.trainer for customization of frozen layers.\n",
      "WARNING setting 'requires_grad=True' for frozen layer 'model.22.cv2.2.1.conv.weight'. See ultralytics.engine.trainer for customization of frozen layers.\n",
      "WARNING setting 'requires_grad=True' for frozen layer 'model.22.cv2.2.1.bn.weight'. See ultralytics.engine.trainer for customization of frozen layers.\n",
      "WARNING setting 'requires_grad=True' for frozen layer 'model.22.cv2.2.1.bn.bias'. See ultralytics.engine.trainer for customization of frozen layers.\n",
      "WARNING setting 'requires_grad=True' for frozen layer 'model.22.cv2.2.2.weight'. See ultralytics.engine.trainer for customization of frozen layers.\n",
      "WARNING setting 'requires_grad=True' for frozen layer 'model.22.cv2.2.2.bias'. See ultralytics.engine.trainer for customization of frozen layers.\n",
      "WARNING setting 'requires_grad=True' for frozen layer 'model.22.cv3.0.0.conv.weight'. See ultralytics.engine.trainer for customization of frozen layers.\n",
      "WARNING setting 'requires_grad=True' for frozen layer 'model.22.cv3.0.0.bn.weight'. See ultralytics.engine.trainer for customization of frozen layers.\n",
      "WARNING setting 'requires_grad=True' for frozen layer 'model.22.cv3.0.0.bn.bias'. See ultralytics.engine.trainer for customization of frozen layers.\n",
      "WARNING setting 'requires_grad=True' for frozen layer 'model.22.cv3.0.1.conv.weight'. See ultralytics.engine.trainer for customization of frozen layers.\n",
      "WARNING setting 'requires_grad=True' for frozen layer 'model.22.cv3.0.1.bn.weight'. See ultralytics.engine.trainer for customization of frozen layers.\n",
      "WARNING setting 'requires_grad=True' for frozen layer 'model.22.cv3.0.1.bn.bias'. See ultralytics.engine.trainer for customization of frozen layers.\n",
      "WARNING setting 'requires_grad=True' for frozen layer 'model.22.cv3.0.2.weight'. See ultralytics.engine.trainer for customization of frozen layers.\n",
      "WARNING setting 'requires_grad=True' for frozen layer 'model.22.cv2.1.2.bias'. See ultralytics.engine.trainer for customization of frozen layers.\n",
      "WARNING setting 'requires_grad=True' for frozen layer 'model.22.cv2.2.0.conv.weight'. See ultralytics.engine.trainer for customization of frozen layers.\n",
      "WARNING setting 'requires_grad=True' for frozen layer 'model.22.cv2.2.0.bn.weight'. See ultralytics.engine.trainer for customization of frozen layers.\n",
      "WARNING setting 'requires_grad=True' for frozen layer 'model.22.cv2.2.0.bn.bias'. See ultralytics.engine.trainer for customization of frozen layers.\n",
      "WARNING setting 'requires_grad=True' for frozen layer 'model.22.cv2.2.1.conv.weight'. See ultralytics.engine.trainer for customization of frozen layers.\n",
      "WARNING setting 'requires_grad=True' for frozen layer 'model.22.cv2.2.1.bn.weight'. See ultralytics.engine.trainer for customization of frozen layers.\n",
      "WARNING setting 'requires_grad=True' for frozen layer 'model.22.cv2.2.1.bn.bias'. See ultralytics.engine.trainer for customization of frozen layers.\n",
      "WARNING setting 'requires_grad=True' for frozen layer 'model.22.cv2.2.2.weight'. See ultralytics.engine.trainer for customization of frozen layers.\n",
      "WARNING setting 'requires_grad=True' for frozen layer 'model.22.cv2.2.2.bias'. See ultralytics.engine.trainer for customization of frozen layers.\n",
      "WARNING setting 'requires_grad=True' for frozen layer 'model.22.cv3.0.0.conv.weight'. See ultralytics.engine.trainer for customization of frozen layers.\n",
      "WARNING setting 'requires_grad=True' for frozen layer 'model.22.cv3.0.0.bn.weight'. See ultralytics.engine.trainer for customization of frozen layers.\n",
      "WARNING setting 'requires_grad=True' for frozen layer 'model.22.cv3.0.0.bn.bias'. See ultralytics.engine.trainer for customization of frozen layers.\n",
      "WARNING setting 'requires_grad=True' for frozen layer 'model.22.cv3.0.1.conv.weight'. See ultralytics.engine.trainer for customization of frozen layers.\n",
      "WARNING setting 'requires_grad=True' for frozen layer 'model.22.cv3.0.1.bn.weight'. See ultralytics.engine.trainer for customization of frozen layers.\n",
      "WARNING setting 'requires_grad=True' for frozen layer 'model.22.cv3.0.1.bn.bias'. See ultralytics.engine.trainer for customization of frozen layers.\n",
      "WARNING setting 'requires_grad=True' for frozen layer 'model.22.cv3.0.2.weight'. See ultralytics.engine.trainer for customization of frozen layers.\n",
      "WARNING setting 'requires_grad=True' for frozen layer 'model.22.cv3.0.2.bias'. See ultralytics.engine.trainer for customization of frozen layers.\n",
      "WARNING setting 'requires_grad=True' for frozen layer 'model.22.cv3.1.0.conv.weight'. See ultralytics.engine.trainer for customization of frozen layers.\n",
      "WARNING setting 'requires_grad=True' for frozen layer 'model.22.cv3.1.0.bn.weight'. See ultralytics.engine.trainer for customization of frozen layers.\n",
      "WARNING setting 'requires_grad=True' for frozen layer 'model.22.cv3.1.0.bn.bias'. See ultralytics.engine.trainer for customization of frozen layers.\n",
      "WARNING setting 'requires_grad=True' for frozen layer 'model.22.cv3.0.2.bias'. See ultralytics.engine.trainer for customization of frozen layers.\n",
      "WARNING setting 'requires_grad=True' for frozen layer 'model.22.cv3.1.0.conv.weight'. See ultralytics.engine.trainer for customization of frozen layers.\n",
      "WARNING setting 'requires_grad=True' for frozen layer 'model.22.cv3.1.0.bn.weight'. See ultralytics.engine.trainer for customization of frozen layers.\n",
      "WARNING setting 'requires_grad=True' for frozen layer 'model.22.cv3.1.0.bn.bias'. See ultralytics.engine.trainer for customization of frozen layers.\n",
      "WARNING setting 'requires_grad=True' for frozen layer 'model.22.cv3.1.1.conv.weight'. See ultralytics.engine.trainer for customization of frozen layers.\n",
      "WARNING setting 'requires_grad=True' for frozen layer 'model.22.cv3.1.1.bn.weight'. See ultralytics.engine.trainer for customization of frozen layers.\n",
      "WARNING setting 'requires_grad=True' for frozen layer 'model.22.cv3.1.1.bn.bias'. See ultralytics.engine.trainer for customization of frozen layers.\n",
      "WARNING setting 'requires_grad=True' for frozen layer 'model.22.cv3.1.2.weight'. See ultralytics.engine.trainer for customization of frozen layers.\n",
      "WARNING setting 'requires_grad=True' for frozen layer 'model.22.cv3.1.2.bias'. See ultralytics.engine.trainer for customization of frozen layers.\n",
      "WARNING setting 'requires_grad=True' for frozen layer 'model.22.cv3.2.0.conv.weight'. See ultralytics.engine.trainer for customization of frozen layers.\n",
      "WARNING setting 'requires_grad=True' for frozen layer 'model.22.cv3.2.0.bn.weight'. See ultralytics.engine.trainer for customization of frozen layers.\n",
      "WARNING setting 'requires_grad=True' for frozen layer 'model.22.cv3.2.0.bn.bias'. See ultralytics.engine.trainer for customization of frozen layers.\n",
      "WARNING setting 'requires_grad=True' for frozen layer 'model.22.cv3.2.1.conv.weight'. See ultralytics.engine.trainer for customization of frozen layers.\n",
      "WARNING setting 'requires_grad=True' for frozen layer 'model.22.cv3.2.1.bn.weight'. See ultralytics.engine.trainer for customization of frozen layers.\n",
      "WARNING setting 'requires_grad=True' for frozen layer 'model.22.cv3.1.1.conv.weight'. See ultralytics.engine.trainer for customization of frozen layers.\n",
      "WARNING setting 'requires_grad=True' for frozen layer 'model.22.cv3.1.1.bn.weight'. See ultralytics.engine.trainer for customization of frozen layers.\n",
      "WARNING setting 'requires_grad=True' for frozen layer 'model.22.cv3.1.1.bn.bias'. See ultralytics.engine.trainer for customization of frozen layers.\n",
      "WARNING setting 'requires_grad=True' for frozen layer 'model.22.cv3.1.2.weight'. See ultralytics.engine.trainer for customization of frozen layers.\n",
      "WARNING setting 'requires_grad=True' for frozen layer 'model.22.cv3.1.2.bias'. See ultralytics.engine.trainer for customization of frozen layers.\n",
      "WARNING setting 'requires_grad=True' for frozen layer 'model.22.cv3.2.0.conv.weight'. See ultralytics.engine.trainer for customization of frozen layers.\n",
      "WARNING setting 'requires_grad=True' for frozen layer 'model.22.cv3.2.0.bn.weight'. See ultralytics.engine.trainer for customization of frozen layers.\n",
      "WARNING setting 'requires_grad=True' for frozen layer 'model.22.cv3.2.0.bn.bias'. See ultralytics.engine.trainer for customization of frozen layers.\n",
      "WARNING setting 'requires_grad=True' for frozen layer 'model.22.cv3.2.1.conv.weight'. See ultralytics.engine.trainer for customization of frozen layers.\n",
      "WARNING setting 'requires_grad=True' for frozen layer 'model.22.cv3.2.1.bn.weight'. See ultralytics.engine.trainer for customization of frozen layers.\n",
      "WARNING setting 'requires_grad=True' for frozen layer 'model.22.cv3.2.1.bn.bias'. See ultralytics.engine.trainer for customization of frozen layers.\n",
      "WARNING setting 'requires_grad=True' for frozen layer 'model.22.cv3.2.2.weight'. See ultralytics.engine.trainer for customization of frozen layers.\n",
      "WARNING setting 'requires_grad=True' for frozen layer 'model.22.cv3.2.1.bn.bias'. See ultralytics.engine.trainer for customization of frozen layers.\n",
      "WARNING setting 'requires_grad=True' for frozen layer 'model.22.cv3.2.2.weight'. See ultralytics.engine.trainer for customization of frozen layers.\n",
      "WARNING setting 'requires_grad=True' for frozen layer 'model.22.cv3.2.2.bias'. See ultralytics.engine.trainer for customization of frozen layers.\n",
      "Freezing layer 'model.22.dfl.conv.weight'\n",
      "WARNING setting 'requires_grad=True' for frozen layer 'model.22.cv3.2.2.bias'. See ultralytics.engine.trainer for customization of frozen layers.\n",
      "Freezing layer 'model.22.dfl.conv.weight'\n",
      "\u001b[34m\u001b[1mAMP: \u001b[0mrunning Automatic Mixed Precision (AMP) checks...\n",
      "\u001b[34m\u001b[1mAMP: \u001b[0mrunning Automatic Mixed Precision (AMP) checks...\n",
      "\u001b[34m\u001b[1mAMP: \u001b[0mchecks passed \n",
      "\u001b[34m\u001b[1mAMP: \u001b[0mchecks passed \n",
      "\u001b[34m\u001b[1mtrain: \u001b[0mFast image access  (ping: 0.20.1 ms, read: 886.933.1 MB/s, size: 2434.2 KB)\n",
      "\u001b[34m\u001b[1mtrain: \u001b[0mFast image access  (ping: 0.20.1 ms, read: 886.933.1 MB/s, size: 2434.2 KB)\n"
     ]
    },
    {
     "name": "stderr",
     "output_type": "stream",
     "text": [
      "\u001b[34m\u001b[1mtrain: \u001b[0mScanning C:\\Users\\akama\\AppData\\Local\\Programs\\Python\\Python310\\python_file\\projects\\tennisvision\\data\\processed\\datasets\\final_merged_dataset\\train\\labels.cache... 6051 images, 0 backgrounds, 0 corrupt: 100%|██████████| 6051/6051 [00:00<?, ?it/s]\n",
      "\n"
     ]
    },
    {
     "name": "stdout",
     "output_type": "stream",
     "text": [
      "\u001b[34m\u001b[1mval: \u001b[0mFast image access  (ping: 0.20.0 ms, read: 618.4258.2 MB/s, size: 2489.8 KB)\n"
     ]
    },
    {
     "name": "stderr",
     "output_type": "stream",
     "text": [
      "\u001b[34m\u001b[1mval: \u001b[0mScanning C:\\Users\\akama\\AppData\\Local\\Programs\\Python\\Python310\\python_file\\projects\\tennisvision\\data\\processed\\datasets\\final_merged_dataset\\val\\labels.cache... 1295 images, 0 backgrounds, 0 corrupt: 100%|██████████| 1295/1295 [00:00<?, ?it/s]\n",
      "\n"
     ]
    },
    {
     "name": "stdout",
     "output_type": "stream",
     "text": [
      "Plotting labels to YOLOv8_Distillation_Demo\\student_distilled_run18\\labels.jpg... \n",
      "\u001b[34m\u001b[1moptimizer:\u001b[0m 'optimizer=auto' found, ignoring 'lr0=0.01' and 'momentum=0.937' and determining best 'optimizer', 'lr0' and 'momentum' automatically... \n",
      "\u001b[34m\u001b[1moptimizer:\u001b[0m AdamW(lr=0.001429, momentum=0.9) with parameter groups 57 weight(decay=0.0), 64 weight(decay=0.0005), 63 bias(decay=0.0)\n",
      "Image sizes 640 train, 640 val\n",
      "Using 8 dataloader workers\n",
      "Logging results to \u001b[1mYOLOv8_Distillation_Demo\\student_distilled_run18\u001b[0m\n",
      "Starting training for 50 epochs...\n",
      "\u001b[34m\u001b[1moptimizer:\u001b[0m 'optimizer=auto' found, ignoring 'lr0=0.01' and 'momentum=0.937' and determining best 'optimizer', 'lr0' and 'momentum' automatically... \n",
      "\u001b[34m\u001b[1moptimizer:\u001b[0m AdamW(lr=0.001429, momentum=0.9) with parameter groups 57 weight(decay=0.0), 64 weight(decay=0.0005), 63 bias(decay=0.0)\n",
      "Image sizes 640 train, 640 val\n",
      "Using 8 dataloader workers\n",
      "Logging results to \u001b[1mYOLOv8_Distillation_Demo\\student_distilled_run18\u001b[0m\n",
      "Starting training for 50 epochs...\n",
      "\n",
      "      Epoch    GPU_mem   box_loss   cls_loss   dfl_loss  Instances       Size\n",
      "\n",
      "      Epoch    GPU_mem   box_loss   cls_loss   dfl_loss  Instances       Size\n"
     ]
    },
    {
     "name": "stderr",
     "output_type": "stream",
     "text": [
      "       1/50      1.44G     0.8569     0.5641     0.8959         16        640: 100%|██████████| 757/757 [02:05<00:00,  6.03it/s]\n",
      "       1/50      1.44G     0.8569     0.5641     0.8959         16        640: 100%|██████████| 757/757 [02:05<00:00,  6.03it/s]\n",
      "                 Class     Images  Instances      Box(P          R      mAP50  mAP50-95): 100%|██████████| 81/81 [00:15<00:00,  5.12it/s]"
     ]
    },
    {
     "name": "stdout",
     "output_type": "stream",
     "text": [
      "                   all       1295       3627      0.916      0.662      0.676      0.517\n"
     ]
    },
    {
     "name": "stderr",
     "output_type": "stream",
     "text": [
      "\n"
     ]
    },
    {
     "name": "stdout",
     "output_type": "stream",
     "text": [
      "\n",
      "      Epoch    GPU_mem   box_loss   cls_loss   dfl_loss  Instances       Size\n"
     ]
    },
    {
     "name": "stderr",
     "output_type": "stream",
     "text": [
      "       2/50      1.56G     0.8027     0.4758     0.8814         10        640: 100%|██████████| 757/757 [01:56<00:00,  6.50it/s]\n",
      "                 Class     Images  Instances      Box(P          R      mAP50  mAP50-95):   0%|          | 0/81 [00:00<?, ?it/s]\n",
      "                 Class     Images  Instances      Box(P          R      mAP50  mAP50-95): 100%|██████████| 81/81 [00:17<00:00,  4.63it/s]"
     ]
    },
    {
     "name": "stdout",
     "output_type": "stream",
     "text": [
      "                   all       1295       3627      0.937      0.666      0.686      0.539\n"
     ]
    },
    {
     "name": "stderr",
     "output_type": "stream",
     "text": [
      "\n"
     ]
    },
    {
     "name": "stdout",
     "output_type": "stream",
     "text": [
      "\n",
      "      Epoch    GPU_mem   box_loss   cls_loss   dfl_loss  Instances       Size\n"
     ]
    },
    {
     "name": "stderr",
     "output_type": "stream",
     "text": [
      "       3/50      1.58G     0.7821     0.4619     0.8748         17        640: 100%|██████████| 757/757 [02:05<00:00,  6.04it/s]\n",
      "                 Class     Images  Instances      Box(P          R      mAP50  mAP50-95): 100%|██████████| 81/81 [00:16<00:00,  4.96it/s]"
     ]
    },
    {
     "name": "stdout",
     "output_type": "stream",
     "text": [
      "                   all       1295       3627       0.87      0.671      0.674      0.524\n"
     ]
    },
    {
     "name": "stderr",
     "output_type": "stream",
     "text": [
      "\n"
     ]
    },
    {
     "name": "stdout",
     "output_type": "stream",
     "text": [
      "\n",
      "      Epoch    GPU_mem   box_loss   cls_loss   dfl_loss  Instances       Size\n"
     ]
    },
    {
     "name": "stderr",
     "output_type": "stream",
     "text": [
      "       4/50       1.6G     0.7451       0.44     0.8691         19        640: 100%|██████████| 757/757 [02:04<00:00,  6.08it/s]\n",
      "                 Class     Images  Instances      Box(P          R      mAP50  mAP50-95): 100%|██████████| 81/81 [00:16<00:00,  5.01it/s]"
     ]
    },
    {
     "name": "stdout",
     "output_type": "stream",
     "text": [
      "                   all       1295       3627       0.83      0.676      0.681      0.568\n"
     ]
    },
    {
     "name": "stderr",
     "output_type": "stream",
     "text": [
      "\n"
     ]
    },
    {
     "name": "stdout",
     "output_type": "stream",
     "text": [
      "\n",
      "      Epoch    GPU_mem   box_loss   cls_loss   dfl_loss  Instances       Size\n"
     ]
    },
    {
     "name": "stderr",
     "output_type": "stream",
     "text": [
      "       5/50      1.62G     0.7158     0.4227     0.8617         22        640: 100%|██████████| 757/757 [01:56<00:00,  6.50it/s]\n",
      "                 Class     Images  Instances      Box(P          R      mAP50  mAP50-95): 100%|██████████| 81/81 [00:16<00:00,  5.00it/s]"
     ]
    },
    {
     "name": "stdout",
     "output_type": "stream",
     "text": [
      "                   all       1295       3627      0.828      0.672      0.674      0.554\n"
     ]
    },
    {
     "name": "stderr",
     "output_type": "stream",
     "text": [
      "\n"
     ]
    },
    {
     "name": "stdout",
     "output_type": "stream",
     "text": [
      "\n",
      "      Epoch    GPU_mem   box_loss   cls_loss   dfl_loss  Instances       Size\n"
     ]
    },
    {
     "name": "stderr",
     "output_type": "stream",
     "text": [
      "       6/50      1.63G      0.695     0.4084     0.8563          5        640: 100%|██████████| 757/757 [01:55<00:00,  6.54it/s]\n",
      "                 Class     Images  Instances      Box(P          R      mAP50  mAP50-95): 100%|██████████| 81/81 [00:16<00:00,  4.94it/s]"
     ]
    },
    {
     "name": "stdout",
     "output_type": "stream",
     "text": [
      "                   all       1295       3627      0.816      0.676      0.679      0.556\n"
     ]
    },
    {
     "name": "stderr",
     "output_type": "stream",
     "text": [
      "\n"
     ]
    },
    {
     "name": "stdout",
     "output_type": "stream",
     "text": [
      "\n",
      "      Epoch    GPU_mem   box_loss   cls_loss   dfl_loss  Instances       Size\n"
     ]
    },
    {
     "name": "stderr",
     "output_type": "stream",
     "text": [
      "       7/50      1.63G     0.6795     0.3947     0.8541          8        640: 100%|██████████| 757/757 [01:56<00:00,  6.51it/s]\n",
      "                 Class     Images  Instances      Box(P          R      mAP50  mAP50-95): 100%|██████████| 81/81 [00:16<00:00,  5.02it/s]"
     ]
    },
    {
     "name": "stdout",
     "output_type": "stream",
     "text": [
      "                   all       1295       3627      0.826      0.673      0.682      0.565\n"
     ]
    },
    {
     "name": "stderr",
     "output_type": "stream",
     "text": [
      "\n"
     ]
    },
    {
     "name": "stdout",
     "output_type": "stream",
     "text": [
      "\n",
      "      Epoch    GPU_mem   box_loss   cls_loss   dfl_loss  Instances       Size\n"
     ]
    },
    {
     "name": "stderr",
     "output_type": "stream",
     "text": [
      "       8/50      1.63G     0.6626     0.3853       0.85         15        640: 100%|██████████| 757/757 [01:55<00:00,  6.56it/s]\n",
      "                 Class     Images  Instances      Box(P          R      mAP50  mAP50-95): 100%|██████████| 81/81 [00:16<00:00,  4.96it/s]"
     ]
    },
    {
     "name": "stdout",
     "output_type": "stream",
     "text": [
      "                   all       1295       3627      0.831      0.676      0.677      0.566\n"
     ]
    },
    {
     "name": "stderr",
     "output_type": "stream",
     "text": [
      "\n"
     ]
    },
    {
     "name": "stdout",
     "output_type": "stream",
     "text": [
      "\n",
      "      Epoch    GPU_mem   box_loss   cls_loss   dfl_loss  Instances       Size\n"
     ]
    },
    {
     "name": "stderr",
     "output_type": "stream",
     "text": [
      "       9/50      1.63G     0.6476     0.3761     0.8495         10        640: 100%|██████████| 757/757 [01:56<00:00,  6.48it/s]\n",
      "                 Class     Images  Instances      Box(P          R      mAP50  mAP50-95): 100%|██████████| 81/81 [00:16<00:00,  4.97it/s]\n"
     ]
    },
    {
     "name": "stdout",
     "output_type": "stream",
     "text": [
      "                   all       1295       3627      0.817      0.676      0.679      0.565\n",
      "\n",
      "      Epoch    GPU_mem   box_loss   cls_loss   dfl_loss  Instances       Size\n"
     ]
    },
    {
     "name": "stderr",
     "output_type": "stream",
     "text": [
      "      10/50      1.63G     0.6388     0.3693     0.8484         16        640: 100%|██████████| 757/757 [01:55<00:00,  6.53it/s]\n",
      "                 Class     Images  Instances      Box(P          R      mAP50  mAP50-95): 100%|██████████| 81/81 [00:16<00:00,  5.00it/s]"
     ]
    },
    {
     "name": "stdout",
     "output_type": "stream",
     "text": [
      "                   all       1295       3627      0.837      0.678      0.682      0.582\n"
     ]
    },
    {
     "name": "stderr",
     "output_type": "stream",
     "text": [
      "\n"
     ]
    },
    {
     "name": "stdout",
     "output_type": "stream",
     "text": [
      "\n",
      "      Epoch    GPU_mem   box_loss   cls_loss   dfl_loss  Instances       Size\n"
     ]
    },
    {
     "name": "stderr",
     "output_type": "stream",
     "text": [
      "      11/50      1.63G     0.6344     0.3655     0.8431          8        640: 100%|██████████| 757/757 [01:56<00:00,  6.52it/s]\n",
      "                 Class     Images  Instances      Box(P          R      mAP50  mAP50-95): 100%|██████████| 81/81 [00:16<00:00,  4.97it/s]"
     ]
    },
    {
     "name": "stdout",
     "output_type": "stream",
     "text": [
      "                   all       1295       3627      0.851      0.683      0.691      0.586\n"
     ]
    },
    {
     "name": "stderr",
     "output_type": "stream",
     "text": [
      "\n"
     ]
    },
    {
     "name": "stdout",
     "output_type": "stream",
     "text": [
      "\n",
      "      Epoch    GPU_mem   box_loss   cls_loss   dfl_loss  Instances       Size\n"
     ]
    },
    {
     "name": "stderr",
     "output_type": "stream",
     "text": [
      "      12/50      1.63G     0.6235     0.3609     0.8433         13        640: 100%|██████████| 757/757 [01:56<00:00,  6.50it/s]\n",
      "                 Class     Images  Instances      Box(P          R      mAP50  mAP50-95): 100%|██████████| 81/81 [00:15<00:00,  5.09it/s]"
     ]
    },
    {
     "name": "stdout",
     "output_type": "stream",
     "text": [
      "                   all       1295       3627      0.879      0.679      0.691      0.581\n"
     ]
    },
    {
     "name": "stderr",
     "output_type": "stream",
     "text": [
      "\n"
     ]
    },
    {
     "name": "stdout",
     "output_type": "stream",
     "text": [
      "\n",
      "      Epoch    GPU_mem   box_loss   cls_loss   dfl_loss  Instances       Size\n"
     ]
    },
    {
     "name": "stderr",
     "output_type": "stream",
     "text": [
      "      13/50      1.63G     0.6073     0.3518     0.8392          4        640: 100%|██████████| 757/757 [01:55<00:00,  6.53it/s]\n",
      "                 Class     Images  Instances      Box(P          R      mAP50  mAP50-95): 100%|██████████| 81/81 [00:16<00:00,  4.89it/s]"
     ]
    },
    {
     "name": "stdout",
     "output_type": "stream",
     "text": [
      "                   all       1295       3627      0.842      0.685      0.689      0.587\n"
     ]
    },
    {
     "name": "stderr",
     "output_type": "stream",
     "text": [
      "\n"
     ]
    },
    {
     "name": "stdout",
     "output_type": "stream",
     "text": [
      "\n",
      "      Epoch    GPU_mem   box_loss   cls_loss   dfl_loss  Instances       Size\n"
     ]
    },
    {
     "name": "stderr",
     "output_type": "stream",
     "text": [
      "      14/50      1.63G     0.6038     0.3494     0.8381          9        640: 100%|██████████| 757/757 [01:56<00:00,  6.52it/s]\n",
      "                 Class     Images  Instances      Box(P          R      mAP50  mAP50-95): 100%|██████████| 81/81 [00:16<00:00,  5.00it/s]"
     ]
    },
    {
     "name": "stdout",
     "output_type": "stream",
     "text": [
      "                   all       1295       3627      0.841      0.685      0.686      0.589\n"
     ]
    },
    {
     "name": "stderr",
     "output_type": "stream",
     "text": [
      "\n"
     ]
    },
    {
     "name": "stdout",
     "output_type": "stream",
     "text": [
      "\n",
      "      Epoch    GPU_mem   box_loss   cls_loss   dfl_loss  Instances       Size\n"
     ]
    },
    {
     "name": "stderr",
     "output_type": "stream",
     "text": [
      "      15/50      1.63G     0.5891     0.3422     0.8361         17        640: 100%|██████████| 757/757 [01:55<00:00,  6.58it/s]\n",
      "                 Class     Images  Instances      Box(P          R      mAP50  mAP50-95): 100%|██████████| 81/81 [00:17<00:00,  4.76it/s]"
     ]
    },
    {
     "name": "stdout",
     "output_type": "stream",
     "text": [
      "                   all       1295       3627      0.834      0.684      0.689      0.591\n"
     ]
    },
    {
     "name": "stderr",
     "output_type": "stream",
     "text": [
      "\n"
     ]
    },
    {
     "name": "stdout",
     "output_type": "stream",
     "text": [
      "\n",
      "      Epoch    GPU_mem   box_loss   cls_loss   dfl_loss  Instances       Size\n"
     ]
    },
    {
     "name": "stderr",
     "output_type": "stream",
     "text": [
      "      16/50      1.63G      0.594     0.3433      0.836         17        640: 100%|██████████| 757/757 [01:56<00:00,  6.47it/s]\n",
      "                 Class     Images  Instances      Box(P          R      mAP50  mAP50-95): 100%|██████████| 81/81 [00:16<00:00,  5.01it/s]"
     ]
    },
    {
     "name": "stdout",
     "output_type": "stream",
     "text": [
      "                   all       1295       3627      0.851       0.68      0.698      0.593\n"
     ]
    },
    {
     "name": "stderr",
     "output_type": "stream",
     "text": [
      "\n"
     ]
    },
    {
     "name": "stdout",
     "output_type": "stream",
     "text": [
      "\n",
      "      Epoch    GPU_mem   box_loss   cls_loss   dfl_loss  Instances       Size\n"
     ]
    },
    {
     "name": "stderr",
     "output_type": "stream",
     "text": [
      "      17/50      1.63G     0.5907     0.3372     0.8355         11        640: 100%|██████████| 757/757 [01:55<00:00,  6.56it/s]\n",
      "                 Class     Images  Instances      Box(P          R      mAP50  mAP50-95): 100%|██████████| 81/81 [00:16<00:00,  5.03it/s]"
     ]
    },
    {
     "name": "stdout",
     "output_type": "stream",
     "text": [
      "                   all       1295       3627      0.866      0.687      0.696      0.597\n"
     ]
    },
    {
     "name": "stderr",
     "output_type": "stream",
     "text": [
      "\n"
     ]
    },
    {
     "name": "stdout",
     "output_type": "stream",
     "text": [
      "\n",
      "      Epoch    GPU_mem   box_loss   cls_loss   dfl_loss  Instances       Size\n"
     ]
    },
    {
     "name": "stderr",
     "output_type": "stream",
     "text": [
      "      18/50      1.63G     0.5761      0.331     0.8347         18        640: 100%|██████████| 757/757 [01:55<00:00,  6.56it/s]\n",
      "                 Class     Images  Instances      Box(P          R      mAP50  mAP50-95): 100%|██████████| 81/81 [00:16<00:00,  5.03it/s]"
     ]
    },
    {
     "name": "stdout",
     "output_type": "stream",
     "text": [
      "                   all       1295       3627       0.86      0.688      0.698      0.601\n"
     ]
    },
    {
     "name": "stderr",
     "output_type": "stream",
     "text": [
      "\n"
     ]
    },
    {
     "name": "stdout",
     "output_type": "stream",
     "text": [
      "\n",
      "      Epoch    GPU_mem   box_loss   cls_loss   dfl_loss  Instances       Size\n"
     ]
    },
    {
     "name": "stderr",
     "output_type": "stream",
     "text": [
      "      19/50      1.63G     0.5726     0.3332     0.8336         14        640: 100%|██████████| 757/757 [01:54<00:00,  6.58it/s]\n",
      "                 Class     Images  Instances      Box(P          R      mAP50  mAP50-95): 100%|██████████| 81/81 [00:16<00:00,  4.85it/s]"
     ]
    },
    {
     "name": "stdout",
     "output_type": "stream",
     "text": [
      "                   all       1295       3627      0.863      0.688      0.704      0.596\n"
     ]
    },
    {
     "name": "stderr",
     "output_type": "stream",
     "text": [
      "\n"
     ]
    },
    {
     "name": "stdout",
     "output_type": "stream",
     "text": [
      "\n",
      "      Epoch    GPU_mem   box_loss   cls_loss   dfl_loss  Instances       Size\n"
     ]
    },
    {
     "name": "stderr",
     "output_type": "stream",
     "text": [
      "      20/50      1.63G     0.5685     0.3263     0.8311         16        640: 100%|██████████| 757/757 [01:57<00:00,  6.46it/s]\n",
      "                 Class     Images  Instances      Box(P          R      mAP50  mAP50-95): 100%|██████████| 81/81 [00:16<00:00,  4.95it/s]"
     ]
    },
    {
     "name": "stdout",
     "output_type": "stream",
     "text": [
      "                   all       1295       3627      0.822      0.689      0.697        0.6\n"
     ]
    },
    {
     "name": "stderr",
     "output_type": "stream",
     "text": [
      "\n"
     ]
    },
    {
     "name": "stdout",
     "output_type": "stream",
     "text": [
      "\n",
      "      Epoch    GPU_mem   box_loss   cls_loss   dfl_loss  Instances       Size\n"
     ]
    },
    {
     "name": "stderr",
     "output_type": "stream",
     "text": [
      "      21/50      1.63G     0.5587     0.3217     0.8312         13        640: 100%|██████████| 757/757 [01:56<00:00,  6.48it/s]\n",
      "                 Class     Images  Instances      Box(P          R      mAP50  mAP50-95): 100%|██████████| 81/81 [00:15<00:00,  5.10it/s]"
     ]
    },
    {
     "name": "stdout",
     "output_type": "stream",
     "text": [
      "                   all       1295       3627       0.87       0.69      0.697        0.6\n"
     ]
    },
    {
     "name": "stderr",
     "output_type": "stream",
     "text": [
      "\n"
     ]
    },
    {
     "name": "stdout",
     "output_type": "stream",
     "text": [
      "\n",
      "      Epoch    GPU_mem   box_loss   cls_loss   dfl_loss  Instances       Size\n"
     ]
    },
    {
     "name": "stderr",
     "output_type": "stream",
     "text": [
      "      22/50      1.63G     0.5626     0.3222     0.8339         19        640: 100%|██████████| 757/757 [01:56<00:00,  6.52it/s]\n",
      "                 Class     Images  Instances      Box(P          R      mAP50  mAP50-95): 100%|██████████| 81/81 [00:16<00:00,  4.96it/s]\n"
     ]
    },
    {
     "name": "stdout",
     "output_type": "stream",
     "text": [
      "                   all       1295       3627      0.873      0.688      0.697      0.601\n",
      "\n",
      "      Epoch    GPU_mem   box_loss   cls_loss   dfl_loss  Instances       Size\n"
     ]
    },
    {
     "name": "stderr",
     "output_type": "stream",
     "text": [
      "      23/50      1.63G     0.5465     0.3142     0.8301         19        640: 100%|██████████| 757/757 [01:56<00:00,  6.49it/s]\n",
      "                 Class     Images  Instances      Box(P          R      mAP50  mAP50-95): 100%|██████████| 81/81 [00:16<00:00,  4.94it/s]"
     ]
    },
    {
     "name": "stdout",
     "output_type": "stream",
     "text": [
      "                   all       1295       3627      0.864      0.692        0.7      0.605\n"
     ]
    },
    {
     "name": "stderr",
     "output_type": "stream",
     "text": [
      "\n"
     ]
    },
    {
     "name": "stdout",
     "output_type": "stream",
     "text": [
      "\n",
      "      Epoch    GPU_mem   box_loss   cls_loss   dfl_loss  Instances       Size\n"
     ]
    },
    {
     "name": "stderr",
     "output_type": "stream",
     "text": [
      "      24/50      1.63G     0.5431     0.3117     0.8283         15        640: 100%|██████████| 757/757 [01:55<00:00,  6.53it/s]\n",
      "                 Class     Images  Instances      Box(P          R      mAP50  mAP50-95): 100%|██████████| 81/81 [00:16<00:00,  4.99it/s]"
     ]
    },
    {
     "name": "stdout",
     "output_type": "stream",
     "text": [
      "                   all       1295       3627      0.879      0.695        0.7      0.601\n"
     ]
    },
    {
     "name": "stderr",
     "output_type": "stream",
     "text": [
      "\n"
     ]
    },
    {
     "name": "stdout",
     "output_type": "stream",
     "text": [
      "\n",
      "      Epoch    GPU_mem   box_loss   cls_loss   dfl_loss  Instances       Size\n"
     ]
    },
    {
     "name": "stderr",
     "output_type": "stream",
     "text": [
      "      25/50      1.63G     0.5464     0.3097     0.8315         13        640: 100%|██████████| 757/757 [01:55<00:00,  6.56it/s]\n",
      "                 Class     Images  Instances      Box(P          R      mAP50  mAP50-95): 100%|██████████| 81/81 [00:16<00:00,  5.06it/s]"
     ]
    },
    {
     "name": "stdout",
     "output_type": "stream",
     "text": [
      "                   all       1295       3627      0.801       0.69        0.7      0.607\n"
     ]
    },
    {
     "name": "stderr",
     "output_type": "stream",
     "text": [
      "\n"
     ]
    },
    {
     "name": "stdout",
     "output_type": "stream",
     "text": [
      "\n",
      "      Epoch    GPU_mem   box_loss   cls_loss   dfl_loss  Instances       Size\n"
     ]
    },
    {
     "name": "stderr",
     "output_type": "stream",
     "text": [
      "      26/50      1.63G     0.5407     0.3074     0.8286         19        640: 100%|██████████| 757/757 [01:54<00:00,  6.59it/s]\n",
      "                 Class     Images  Instances      Box(P          R      mAP50  mAP50-95): 100%|██████████| 81/81 [00:15<00:00,  5.09it/s]"
     ]
    },
    {
     "name": "stdout",
     "output_type": "stream",
     "text": [
      "                   all       1295       3627      0.852      0.691      0.701      0.607\n"
     ]
    },
    {
     "name": "stderr",
     "output_type": "stream",
     "text": [
      "\n"
     ]
    },
    {
     "name": "stdout",
     "output_type": "stream",
     "text": [
      "\n",
      "      Epoch    GPU_mem   box_loss   cls_loss   dfl_loss  Instances       Size\n"
     ]
    },
    {
     "name": "stderr",
     "output_type": "stream",
     "text": [
      "      27/50      1.63G     0.5338     0.3048     0.8269         12        640: 100%|██████████| 757/757 [01:54<00:00,  6.61it/s]\n",
      "                 Class     Images  Instances      Box(P          R      mAP50  mAP50-95): 100%|██████████| 81/81 [00:16<00:00,  5.05it/s]"
     ]
    },
    {
     "name": "stdout",
     "output_type": "stream",
     "text": [
      "                   all       1295       3627      0.856      0.692      0.701      0.608\n"
     ]
    },
    {
     "name": "stderr",
     "output_type": "stream",
     "text": [
      "\n"
     ]
    },
    {
     "name": "stdout",
     "output_type": "stream",
     "text": [
      "\n",
      "      Epoch    GPU_mem   box_loss   cls_loss   dfl_loss  Instances       Size\n"
     ]
    },
    {
     "name": "stderr",
     "output_type": "stream",
     "text": [
      "      28/50      1.63G     0.5329     0.3025     0.8277         12        640: 100%|██████████| 757/757 [01:56<00:00,  6.47it/s]\n",
      "                 Class     Images  Instances      Box(P          R      mAP50  mAP50-95): 100%|██████████| 81/81 [00:16<00:00,  4.86it/s]"
     ]
    },
    {
     "name": "stdout",
     "output_type": "stream",
     "text": [
      "                   all       1295       3627       0.86      0.693      0.703       0.61\n"
     ]
    },
    {
     "name": "stderr",
     "output_type": "stream",
     "text": [
      "\n"
     ]
    },
    {
     "name": "stdout",
     "output_type": "stream",
     "text": [
      "\n",
      "      Epoch    GPU_mem   box_loss   cls_loss   dfl_loss  Instances       Size\n"
     ]
    },
    {
     "name": "stderr",
     "output_type": "stream",
     "text": [
      "      29/50      1.63G     0.5275     0.2992     0.8252          8        640: 100%|██████████| 757/757 [01:56<00:00,  6.51it/s]\n",
      "                 Class     Images  Instances      Box(P          R      mAP50  mAP50-95): 100%|██████████| 81/81 [00:16<00:00,  4.98it/s]"
     ]
    },
    {
     "name": "stdout",
     "output_type": "stream",
     "text": [
      "                   all       1295       3627      0.873      0.694       0.71      0.612\n"
     ]
    },
    {
     "name": "stderr",
     "output_type": "stream",
     "text": [
      "\n"
     ]
    },
    {
     "name": "stdout",
     "output_type": "stream",
     "text": [
      "\n",
      "      Epoch    GPU_mem   box_loss   cls_loss   dfl_loss  Instances       Size\n"
     ]
    },
    {
     "name": "stderr",
     "output_type": "stream",
     "text": [
      "      30/50      1.63G     0.5236     0.2963     0.8235         13        640: 100%|██████████| 757/757 [01:56<00:00,  6.51it/s]\n",
      "                 Class     Images  Instances      Box(P          R      mAP50  mAP50-95): 100%|██████████| 81/81 [00:16<00:00,  5.04it/s]"
     ]
    },
    {
     "name": "stdout",
     "output_type": "stream",
     "text": [
      "                   all       1295       3627      0.886      0.694      0.705       0.61\n"
     ]
    },
    {
     "name": "stderr",
     "output_type": "stream",
     "text": [
      "\n"
     ]
    },
    {
     "name": "stdout",
     "output_type": "stream",
     "text": [
      "\n",
      "      Epoch    GPU_mem   box_loss   cls_loss   dfl_loss  Instances       Size\n"
     ]
    },
    {
     "name": "stderr",
     "output_type": "stream",
     "text": [
      "      31/50      1.63G     0.5168     0.2943     0.8252         14        640: 100%|██████████| 757/757 [01:55<00:00,  6.54it/s]\n",
      "                 Class     Images  Instances      Box(P          R      mAP50  mAP50-95): 100%|██████████| 81/81 [00:16<00:00,  4.96it/s]"
     ]
    },
    {
     "name": "stdout",
     "output_type": "stream",
     "text": [
      "                   all       1295       3627      0.883      0.693       0.71      0.612\n"
     ]
    },
    {
     "name": "stderr",
     "output_type": "stream",
     "text": [
      "\n"
     ]
    },
    {
     "name": "stdout",
     "output_type": "stream",
     "text": [
      "\n",
      "      Epoch    GPU_mem   box_loss   cls_loss   dfl_loss  Instances       Size\n"
     ]
    },
    {
     "name": "stderr",
     "output_type": "stream",
     "text": [
      "      32/50      1.63G     0.5099     0.2884     0.8207         10        640: 100%|██████████| 757/757 [01:56<00:00,  6.48it/s]\n",
      "                 Class     Images  Instances      Box(P          R      mAP50  mAP50-95): 100%|██████████| 81/81 [00:16<00:00,  5.04it/s]"
     ]
    },
    {
     "name": "stdout",
     "output_type": "stream",
     "text": [
      "                   all       1295       3627      0.896      0.695       0.72      0.619\n"
     ]
    },
    {
     "name": "stderr",
     "output_type": "stream",
     "text": [
      "\n"
     ]
    },
    {
     "name": "stdout",
     "output_type": "stream",
     "text": [
      "\n",
      "      Epoch    GPU_mem   box_loss   cls_loss   dfl_loss  Instances       Size\n"
     ]
    },
    {
     "name": "stderr",
     "output_type": "stream",
     "text": [
      "      33/50      1.63G     0.5032     0.2832     0.8215         12        640: 100%|██████████| 757/757 [01:55<00:00,  6.55it/s]\n",
      "                 Class     Images  Instances      Box(P          R      mAP50  mAP50-95): 100%|██████████| 81/81 [00:16<00:00,  4.91it/s]"
     ]
    },
    {
     "name": "stdout",
     "output_type": "stream",
     "text": [
      "                   all       1295       3627      0.878      0.697      0.707      0.617\n"
     ]
    },
    {
     "name": "stderr",
     "output_type": "stream",
     "text": [
      "\n"
     ]
    },
    {
     "name": "stdout",
     "output_type": "stream",
     "text": [
      "\n",
      "      Epoch    GPU_mem   box_loss   cls_loss   dfl_loss  Instances       Size\n"
     ]
    },
    {
     "name": "stderr",
     "output_type": "stream",
     "text": [
      "      34/50      1.63G     0.5085     0.2885      0.823         15        640: 100%|██████████| 757/757 [01:56<00:00,  6.51it/s]\n",
      "                 Class     Images  Instances      Box(P          R      mAP50  mAP50-95): 100%|██████████| 81/81 [00:17<00:00,  4.73it/s]"
     ]
    },
    {
     "name": "stdout",
     "output_type": "stream",
     "text": [
      "                   all       1295       3627      0.874      0.696      0.712      0.618\n"
     ]
    },
    {
     "name": "stderr",
     "output_type": "stream",
     "text": [
      "\n"
     ]
    },
    {
     "name": "stdout",
     "output_type": "stream",
     "text": [
      "\n",
      "      Epoch    GPU_mem   box_loss   cls_loss   dfl_loss  Instances       Size\n"
     ]
    },
    {
     "name": "stderr",
     "output_type": "stream",
     "text": [
      "      35/50      1.63G     0.4954     0.2806     0.8207         21        640: 100%|██████████| 757/757 [01:55<00:00,  6.53it/s]\n",
      "                 Class     Images  Instances      Box(P          R      mAP50  mAP50-95): 100%|██████████| 81/81 [00:16<00:00,  4.98it/s]"
     ]
    },
    {
     "name": "stdout",
     "output_type": "stream",
     "text": [
      "                   all       1295       3627      0.875      0.697      0.702       0.61\n"
     ]
    },
    {
     "name": "stderr",
     "output_type": "stream",
     "text": [
      "\n"
     ]
    },
    {
     "name": "stdout",
     "output_type": "stream",
     "text": [
      "\n",
      "      Epoch    GPU_mem   box_loss   cls_loss   dfl_loss  Instances       Size\n"
     ]
    },
    {
     "name": "stderr",
     "output_type": "stream",
     "text": [
      "      36/50      1.63G     0.4979     0.2815     0.8218         14        640: 100%|██████████| 757/757 [01:56<00:00,  6.47it/s]\n",
      "                 Class     Images  Instances      Box(P          R      mAP50  mAP50-95): 100%|██████████| 81/81 [00:16<00:00,  4.97it/s]"
     ]
    },
    {
     "name": "stdout",
     "output_type": "stream",
     "text": [
      "                   all       1295       3627        0.9      0.696      0.716      0.617\n"
     ]
    },
    {
     "name": "stderr",
     "output_type": "stream",
     "text": [
      "\n"
     ]
    },
    {
     "name": "stdout",
     "output_type": "stream",
     "text": [
      "\n",
      "      Epoch    GPU_mem   box_loss   cls_loss   dfl_loss  Instances       Size\n"
     ]
    },
    {
     "name": "stderr",
     "output_type": "stream",
     "text": [
      "      37/50      1.63G     0.4938     0.2784     0.8205         14        640: 100%|██████████| 757/757 [01:55<00:00,  6.57it/s]\n",
      "                 Class     Images  Instances      Box(P          R      mAP50  mAP50-95): 100%|██████████| 81/81 [00:16<00:00,  4.95it/s]"
     ]
    },
    {
     "name": "stdout",
     "output_type": "stream",
     "text": [
      "                   all       1295       3627      0.878      0.698      0.709      0.619\n"
     ]
    },
    {
     "name": "stderr",
     "output_type": "stream",
     "text": [
      "\n"
     ]
    },
    {
     "name": "stdout",
     "output_type": "stream",
     "text": [
      "\n",
      "      Epoch    GPU_mem   box_loss   cls_loss   dfl_loss  Instances       Size\n"
     ]
    },
    {
     "name": "stderr",
     "output_type": "stream",
     "text": [
      "      38/50      1.63G     0.4836     0.2726     0.8185          6        640: 100%|██████████| 757/757 [02:00<00:00,  6.28it/s]\n",
      "                 Class     Images  Instances      Box(P          R      mAP50  mAP50-95): 100%|██████████| 81/81 [00:16<00:00,  4.98it/s]"
     ]
    },
    {
     "name": "stdout",
     "output_type": "stream",
     "text": [
      "                   all       1295       3627      0.894      0.698      0.708      0.617\n"
     ]
    },
    {
     "name": "stderr",
     "output_type": "stream",
     "text": [
      "\n"
     ]
    },
    {
     "name": "stdout",
     "output_type": "stream",
     "text": [
      "\n",
      "      Epoch    GPU_mem   box_loss   cls_loss   dfl_loss  Instances       Size\n"
     ]
    },
    {
     "name": "stderr",
     "output_type": "stream",
     "text": [
      "      39/50      1.63G     0.4819     0.2708     0.8188          5        640: 100%|██████████| 757/757 [01:55<00:00,  6.56it/s]\n",
      "                 Class     Images  Instances      Box(P          R      mAP50  mAP50-95): 100%|██████████| 81/81 [00:16<00:00,  5.02it/s]"
     ]
    },
    {
     "name": "stdout",
     "output_type": "stream",
     "text": [
      "                   all       1295       3627      0.872      0.697      0.708      0.619\n"
     ]
    },
    {
     "name": "stderr",
     "output_type": "stream",
     "text": [
      "\n"
     ]
    },
    {
     "name": "stdout",
     "output_type": "stream",
     "text": [
      "\n",
      "      Epoch    GPU_mem   box_loss   cls_loss   dfl_loss  Instances       Size\n"
     ]
    },
    {
     "name": "stderr",
     "output_type": "stream",
     "text": [
      "      40/50      1.63G      0.481     0.2692     0.8196         11        640: 100%|██████████| 757/757 [01:55<00:00,  6.56it/s]\n",
      "                 Class     Images  Instances      Box(P          R      mAP50  mAP50-95): 100%|██████████| 81/81 [00:16<00:00,  4.96it/s]"
     ]
    },
    {
     "name": "stdout",
     "output_type": "stream",
     "text": [
      "                   all       1295       3627      0.896      0.698      0.714      0.623\n"
     ]
    },
    {
     "name": "stderr",
     "output_type": "stream",
     "text": [
      "\n"
     ]
    },
    {
     "name": "stdout",
     "output_type": "stream",
     "text": [
      "Closing dataloader mosaic\n",
      "\n",
      "      Epoch    GPU_mem   box_loss   cls_loss   dfl_loss  Instances       Size\n"
     ]
    },
    {
     "name": "stderr",
     "output_type": "stream",
     "text": [
      "      41/50      1.63G     0.4406     0.2444     0.7926          7        640: 100%|██████████| 757/757 [01:55<00:00,  6.54it/s]\n",
      "                 Class     Images  Instances      Box(P          R      mAP50  mAP50-95): 100%|██████████| 81/81 [00:16<00:00,  5.00it/s]"
     ]
    },
    {
     "name": "stdout",
     "output_type": "stream",
     "text": [
      "                   all       1295       3627      0.886        0.7      0.704      0.616\n"
     ]
    },
    {
     "name": "stderr",
     "output_type": "stream",
     "text": [
      "\n"
     ]
    },
    {
     "name": "stdout",
     "output_type": "stream",
     "text": [
      "\n",
      "      Epoch    GPU_mem   box_loss   cls_loss   dfl_loss  Instances       Size\n"
     ]
    },
    {
     "name": "stderr",
     "output_type": "stream",
     "text": [
      "      42/50      1.63G      0.432     0.2382     0.7921          6        640: 100%|██████████| 757/757 [01:54<00:00,  6.64it/s]\n",
      "                 Class     Images  Instances      Box(P          R      mAP50  mAP50-95): 100%|██████████| 81/81 [00:16<00:00,  4.98it/s]"
     ]
    },
    {
     "name": "stdout",
     "output_type": "stream",
     "text": [
      "                   all       1295       3627      0.895      0.698      0.708      0.619\n"
     ]
    },
    {
     "name": "stderr",
     "output_type": "stream",
     "text": [
      "\n"
     ]
    },
    {
     "name": "stdout",
     "output_type": "stream",
     "text": [
      "\n",
      "      Epoch    GPU_mem   box_loss   cls_loss   dfl_loss  Instances       Size\n"
     ]
    },
    {
     "name": "stderr",
     "output_type": "stream",
     "text": [
      "      43/50      1.63G     0.4262     0.2351     0.7922          6        640: 100%|██████████| 757/757 [01:56<00:00,  6.52it/s]\n",
      "                 Class     Images  Instances      Box(P          R      mAP50  mAP50-95): 100%|██████████| 81/81 [00:16<00:00,  4.91it/s]"
     ]
    },
    {
     "name": "stdout",
     "output_type": "stream",
     "text": [
      "                   all       1295       3627       0.89      0.699       0.71      0.621\n"
     ]
    },
    {
     "name": "stderr",
     "output_type": "stream",
     "text": [
      "\n"
     ]
    },
    {
     "name": "stdout",
     "output_type": "stream",
     "text": [
      "\n",
      "      Epoch    GPU_mem   box_loss   cls_loss   dfl_loss  Instances       Size\n"
     ]
    },
    {
     "name": "stderr",
     "output_type": "stream",
     "text": [
      "      44/50      1.63G     0.4215      0.232     0.7899          7        640: 100%|██████████| 757/757 [01:53<00:00,  6.65it/s]\n",
      "                 Class     Images  Instances      Box(P          R      mAP50  mAP50-95): 100%|██████████| 81/81 [00:16<00:00,  4.86it/s]"
     ]
    },
    {
     "name": "stdout",
     "output_type": "stream",
     "text": [
      "                   all       1295       3627      0.891      0.698      0.715      0.624\n"
     ]
    },
    {
     "name": "stderr",
     "output_type": "stream",
     "text": [
      "\n"
     ]
    },
    {
     "name": "stdout",
     "output_type": "stream",
     "text": [
      "\n",
      "      Epoch    GPU_mem   box_loss   cls_loss   dfl_loss  Instances       Size\n"
     ]
    },
    {
     "name": "stderr",
     "output_type": "stream",
     "text": [
      "      45/50      1.63G     0.4169     0.2285     0.7887          7        640: 100%|██████████| 757/757 [01:55<00:00,  6.56it/s]\n",
      "                 Class     Images  Instances      Box(P          R      mAP50  mAP50-95): 100%|██████████| 81/81 [00:16<00:00,  4.97it/s]"
     ]
    },
    {
     "name": "stdout",
     "output_type": "stream",
     "text": [
      "                   all       1295       3627      0.893        0.7      0.712      0.624\n"
     ]
    },
    {
     "name": "stderr",
     "output_type": "stream",
     "text": [
      "\n"
     ]
    },
    {
     "name": "stdout",
     "output_type": "stream",
     "text": [
      "\n",
      "      Epoch    GPU_mem   box_loss   cls_loss   dfl_loss  Instances       Size\n"
     ]
    },
    {
     "name": "stderr",
     "output_type": "stream",
     "text": [
      "      46/50      1.63G     0.4163     0.2269     0.7896          9        640: 100%|██████████| 757/757 [01:54<00:00,  6.61it/s]\n",
      "                 Class     Images  Instances      Box(P          R      mAP50  mAP50-95): 100%|██████████| 81/81 [00:16<00:00,  4.87it/s]"
     ]
    },
    {
     "name": "stdout",
     "output_type": "stream",
     "text": [
      "                   all       1295       3627      0.904      0.699       0.71      0.624\n"
     ]
    },
    {
     "name": "stderr",
     "output_type": "stream",
     "text": [
      "\n"
     ]
    },
    {
     "name": "stdout",
     "output_type": "stream",
     "text": [
      "\n",
      "      Epoch    GPU_mem   box_loss   cls_loss   dfl_loss  Instances       Size\n"
     ]
    },
    {
     "name": "stderr",
     "output_type": "stream",
     "text": [
      "      47/50      1.63G     0.4076     0.2225     0.7887          8        640: 100%|██████████| 757/757 [01:54<00:00,  6.59it/s]\n",
      "                 Class     Images  Instances      Box(P          R      mAP50  mAP50-95): 100%|██████████| 81/81 [00:16<00:00,  4.94it/s]"
     ]
    },
    {
     "name": "stdout",
     "output_type": "stream",
     "text": [
      "                   all       1295       3627      0.884      0.701      0.707      0.624\n"
     ]
    },
    {
     "name": "stderr",
     "output_type": "stream",
     "text": [
      "\n"
     ]
    },
    {
     "name": "stdout",
     "output_type": "stream",
     "text": [
      "\n",
      "      Epoch    GPU_mem   box_loss   cls_loss   dfl_loss  Instances       Size\n"
     ]
    },
    {
     "name": "stderr",
     "output_type": "stream",
     "text": [
      "      48/50      1.63G      0.402     0.2202     0.7878          7        640: 100%|██████████| 757/757 [01:53<00:00,  6.67it/s]\n",
      "                 Class     Images  Instances      Box(P          R      mAP50  mAP50-95): 100%|██████████| 81/81 [00:16<00:00,  4.97it/s]"
     ]
    },
    {
     "name": "stdout",
     "output_type": "stream",
     "text": [
      "                   all       1295       3627      0.885      0.701       0.71      0.626\n"
     ]
    },
    {
     "name": "stderr",
     "output_type": "stream",
     "text": [
      "\n"
     ]
    },
    {
     "name": "stdout",
     "output_type": "stream",
     "text": [
      "\n",
      "      Epoch    GPU_mem   box_loss   cls_loss   dfl_loss  Instances       Size\n"
     ]
    },
    {
     "name": "stderr",
     "output_type": "stream",
     "text": [
      "      49/50      1.63G     0.4005     0.2176     0.7858          7        640: 100%|██████████| 757/757 [01:55<00:00,  6.58it/s]\n",
      "                 Class     Images  Instances      Box(P          R      mAP50  mAP50-95): 100%|██████████| 81/81 [00:16<00:00,  4.84it/s]"
     ]
    },
    {
     "name": "stdout",
     "output_type": "stream",
     "text": [
      "                   all       1295       3627      0.891      0.701      0.711      0.625\n"
     ]
    },
    {
     "name": "stderr",
     "output_type": "stream",
     "text": [
      "\n"
     ]
    },
    {
     "name": "stdout",
     "output_type": "stream",
     "text": [
      "\n",
      "      Epoch    GPU_mem   box_loss   cls_loss   dfl_loss  Instances       Size\n"
     ]
    },
    {
     "name": "stderr",
     "output_type": "stream",
     "text": [
      "      50/50      1.63G     0.3941      0.214     0.7843          8        640: 100%|██████████| 757/757 [01:55<00:00,  6.57it/s]\n",
      "                 Class     Images  Instances      Box(P          R      mAP50  mAP50-95): 100%|██████████| 81/81 [00:16<00:00,  4.82it/s]"
     ]
    },
    {
     "name": "stdout",
     "output_type": "stream",
     "text": [
      "                   all       1295       3627      0.902      0.701      0.713      0.626\n"
     ]
    },
    {
     "name": "stderr",
     "output_type": "stream",
     "text": [
      "\n"
     ]
    },
    {
     "name": "stdout",
     "output_type": "stream",
     "text": [
      "\n",
      "50 epochs completed in 1.860 hours.\n",
      "Optimizer stripped from YOLOv8_Distillation_Demo\\student_distilled_run18\\weights\\last.pt, 6.5MB\n",
      "Optimizer stripped from YOLOv8_Distillation_Demo\\student_distilled_run18\\weights\\best.pt, 6.5MB\n",
      "\n",
      "Validating YOLOv8_Distillation_Demo\\student_distilled_run18\\weights\\best.pt...\n",
      "Ultralytics 8.3.146  Python-3.10.11 torch-2.7.0+cu128 CUDA:0 (NVIDIA GeForce RTX 4060, 8188MiB)\n",
      "YOLOv8n summary (fused): 72 layers, 3,151,904 parameters, 0 gradients, 8.7 GFLOPs\n"
     ]
    },
    {
     "name": "stderr",
     "output_type": "stream",
     "text": [
      "                 Class     Images  Instances      Box(P          R      mAP50  mAP50-95): 100%|██████████| 81/81 [00:18<00:00,  4.48it/s]\n"
     ]
    },
    {
     "name": "stdout",
     "output_type": "stream",
     "text": [
      "                   all       1295       3627      0.902      0.701      0.713      0.626\n",
      "          player_front       1275       1276      0.991          1      0.995      0.975\n",
      "           player_back       1290       1290       0.99      0.999      0.995      0.848\n",
      "           tennis_ball       1061       1061      0.724      0.104      0.148     0.0537\n",
      "Speed: 0.5ms preprocess, 2.3ms inference, 0.0ms loss, 3.1ms postprocess per image\n",
      "Results saved to \u001b[1mYOLOv8_Distillation_Demo\\student_distilled_run18\u001b[0m\n",
      "\n",
      "トレーニング終了後にメモリクリーンアップを実行中...\n",
      "Memory cleared (CPU + GPU)\n",
      "\n",
      "=== Memory Profile: After Training Cleanup ===\n",
      "Process Memory - RSS: 0.97GB, VMS: 5.62GB, Percent: 6.1%\n",
      "CPU Memory - Used: 13.80GB / 15.83GB (87.2%)\n",
      "GPU Memory - Allocated: 0.34GB, Cached: 0.42GB\n",
      "========================================\n",
      "トレーニングが完了しました。\n",
      "結果は YOLOv8_Distillation_Demo\\student_distilled_run1 に保存されました。\n",
      "\n",
      "=== Memory Profile: After Training Complete ===\n",
      "Process Memory - RSS: 0.97GB, VMS: 5.62GB, Percent: 6.1%\n",
      "CPU Memory - Used: 13.80GB / 15.83GB (87.2%)\n",
      "GPU Memory - Allocated: 0.34GB, Cached: 0.42GB\n",
      "========================================\n",
      "\n",
      "トレーナーオブジェクトを削除してメモリクリーンアップ...\n",
      "Memory cleared (CPU + GPU)\n",
      "\n",
      "=== Memory Profile: Final Cleanup ===\n",
      "Process Memory - RSS: 0.97GB, VMS: 5.63GB, Percent: 6.1%\n",
      "CPU Memory - Used: 13.80GB / 15.83GB (87.2%)\n",
      "GPU Memory - Allocated: 0.33GB, Cached: 0.41GB\n",
      "========================================\n"
     ]
    }
   ],
   "source": [
    "if os.path.exists(dataset_yaml_path):\n",
    "    print(\"トレーニングを開始します...\")\n",
    "    memory_profile(\"Before Training Start\")\n",
    "    \n",
    "    # トレーナーの初期化に必要なオーバーライドを設定\n",
    "    cfg_args = deepcopy(DEFAULT_CFG)\n",
    "    cfg_args.data = dataset_yaml_path\n",
    "    cfg_args.model = student_model_config # get_model で使うため、ここに設定\n",
    "    cfg_args.epochs = epochs\n",
    "    cfg_args.batch = batch_size\n",
    "    cfg_args.imgsz = img_size\n",
    "    cfg_args.project = project_name\n",
    "    cfg_args.name = experiment_name\n",
    "    cfg_args.device = device\n",
    "\n",
    "    trainer = CustomDistillationTrainer(overrides=vars(cfg_args)) # または overrides として渡す\n",
    "    \n",
    "    try:\n",
    "        trainer.train()\n",
    "        print(\"トレーニングが完了しました。\")\n",
    "        print(f\"結果は {os.path.join(project_name, experiment_name)} に保存されました。\")\n",
    "        \n",
    "        memory_profile(\"After Training Complete\")\n",
    "        \n",
    "    except Exception as e:\n",
    "        print(f\"トレーニング中にエラーが発生しました: {e}\")\n",
    "        import traceback\n",
    "        traceback.print_exc()\n",
    "        \n",
    "    finally:\n",
    "        # トレーナーオブジェクトを削除してメモリ解放\n",
    "        print(\"\\nトレーナーオブジェクトを削除してメモリクリーンアップ...\")\n",
    "        if 'trainer' in locals():\n",
    "            # モデルをCPUに移動してから削除\n",
    "            if hasattr(trainer, 'model') and trainer.model is not None:\n",
    "                try:\n",
    "                    trainer.model.cpu()\n",
    "                except:\n",
    "                    pass\n",
    "            force_cleanup(trainer)\n",
    "            del trainer\n",
    "        \n",
    "        memory_profile(\"Final Cleanup\")\n",
    "        \n",
    "else:\n",
    "    print(f\"データセットYAML '{dataset_yaml_path}' が見つからないため、トレーニングをスキップします。\")"
   ]
  },
  {
   "cell_type": "code",
   "execution_count": null,
   "id": "9e88a436",
   "metadata": {},
   "outputs": [],
   "source": [
    "# 教師モデルと関連オブジェクトを削除\n",
    "print(\"教師モデルと関連オブジェクトのメモリクリーンアップ...\")\n",
    "\n",
    "# グローバル変数をクリア\n",
    "objects_to_clear = []\n",
    "if 'teacher_model' in globals():\n",
    "    # 教師モデルをCPUに移動してから削除\n",
    "    try:\n",
    "        teacher_model.cpu()\n",
    "    except:\n",
    "        pass\n",
    "    objects_to_clear.append(teacher_model)\n",
    "    \n",
    "if 'cfg_args' in globals():\n",
    "    objects_to_clear.append(cfg_args)\n",
    "\n",
    "force_cleanup(*objects_to_clear)\n",
    "\n",
    "# グローバル変数の削除\n",
    "globals_to_delete = ['teacher_model', 'cfg_args', 'trainer']\n",
    "for var_name in globals_to_delete:\n",
    "    if var_name in globals():\n",
    "        del globals()[var_name]\n",
    "\n",
    "# 強制的なメモリクリーンアップ\n",
    "for _ in range(5):\n",
    "    gc.collect()\n",
    "\n",
    "print(\"メモリクリーンアップ完了\")\n",
    "memory_profile(\"Complete Cleanup\")"
   ]
  },
  {
   "cell_type": "markdown",
   "id": "353b15f4",
   "metadata": {},
   "source": [
    "## 5.2. メモリ監視用ユーティリティ (デバッグ用)\n",
    "\n",
    "メモリリークの特定やメモリ使用量の詳細な監視が必要な場合は以下を実行してください。"
   ]
  },
  {
   "cell_type": "code",
   "execution_count": null,
   "id": "fc5fffb6",
   "metadata": {},
   "outputs": [],
   "source": [
    "import tracemalloc\n",
    "\n",
    "def start_memory_trace():\n",
    "    \"\"\"メモリトレースを開始\"\"\"\n",
    "    tracemalloc.start()\n",
    "    print(\"メモリトレースを開始しました\")\n",
    "\n",
    "def get_memory_trace_stats():\n",
    "    \"\"\"メモリトレースの統計を表示\"\"\"\n",
    "    if not tracemalloc.is_tracing():\n",
    "        print(\"メモリトレースが開始されていません\")\n",
    "        return\n",
    "    \n",
    "    current, peak = tracemalloc.get_traced_memory()\n",
    "    print(f\"Current memory usage: {current / 1024**2:.1f} MB\")\n",
    "    print(f\"Peak memory usage: {peak / 1024**2:.1f} MB\")\n",
    "    \n",
    "    # トップ10のメモリ使用者を表示\n",
    "    snapshot = tracemalloc.take_snapshot()\n",
    "    top_stats = snapshot.statistics('lineno')\n",
    "    \n",
    "    print(\"\\nTop 10 memory consumers:\")\n",
    "    for index, stat in enumerate(top_stats[:10], 1):\n",
    "        print(f\"{index}. {stat}\")\n",
    "\n",
    "def stop_memory_trace():\n",
    "    \"\"\"メモリトレースを停止\"\"\"\n",
    "    if tracemalloc.is_tracing():\n",
    "        tracemalloc.stop()\n",
    "        print(\"メモリトレースを停止しました\")\n",
    "\n",
    "# 使用例:\n",
    "# start_memory_trace()  # トレーニング前に実行\n",
    "# get_memory_trace_stats()  # 途中でメモリ状況を確認\n",
    "# stop_memory_trace()  # トレーニング後に実行"
   ]
  }
 ],
 "metadata": {
  "kernelspec": {
   "display_name": "venv",
   "language": "python",
   "name": "python3"
  },
  "language_info": {
   "codemirror_mode": {
    "name": "ipython",
    "version": 3
   },
   "file_extension": ".py",
   "mimetype": "text/x-python",
   "name": "python",
   "nbconvert_exporter": "python",
   "pygments_lexer": "ipython3",
   "version": "3.10.11"
  }
 },
 "nbformat": 4,
 "nbformat_minor": 5
}
