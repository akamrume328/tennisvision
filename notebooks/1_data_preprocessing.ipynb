{
 "cells": [
  {
   "cell_type": "markdown",
   "metadata": {},
   "source": [
    "# Data Preprocessing\n",
    "\n",
    "This notebook is dedicated to data preprocessing tasks for the Tennis Vision application. We will load the raw data, clean it, and prepare it for training."
   ]
  },
  {
   "cell_type": "code",
   "execution_count": null,
   "metadata": {
    "id": "load_raw_data"
   },
   "outputs": [],
   "source": [
    "import os\n",
    "import cv2\n",
    "import numpy as np\n",
    "import pandas as pd\n",
    "\n",
    "# Define paths\n",
    "raw_data_path = '../data/raw/'\n",
    "processed_data_path = '../data/processed/'\n",
    "\n",
    "# Function to load raw video files\n",
    "def load_raw_videos(path):\n",
    "    videos = []\n",
    "    for filename in os.listdir(path):\n",
    "        if filename.endswith('.mp4') or filename.endswith('.avi'):\n",
    "            video_path = os.path.join(path, filename)\n",
    "            videos.append(video_path)\n",
    "    return videos\n",
    "\n",
    "# Load raw videos\n",
    "raw_videos = load_raw_videos(raw_data_path)\n",
    "print(f'Loaded {len(raw_videos)} videos from {raw_data_path}')"
   ]
  },
  {
   "cell_type": "code",
   "execution_count": null,
   "metadata": {
    "id": "process_data"
   },
   "outputs": [],
   "source": [
    "# Function to preprocess video frames\n",
    "def preprocess_video(video_path):\n",
    "    cap = cv2.VideoCapture(video_path)\n",
    "    frames = []\n",
    "    while cap.isOpened():\n",
    "        ret, frame = cap.read()\n",
    "        if not ret:\n",
    "            break\n",
    "        # Resize frame to a fixed size\n",
    "        frame = cv2.resize(frame, (640, 480))\n",
    "        frames.append(frame)\n",
    "    cap.release()\n",
    "    return frames\n",
    "\n",
    "# Preprocess all videos and save processed frames\n",
    "for video in raw_videos:\n",
    "    frames = preprocess_video(video)\n",
    "    # Save processed frames (example: saving as numpy array)\n",
    "    video_name = os.path.basename(video).split('.')[0]\n",
    "    np.save(os.path.join(processed_data_path, f'{video_name}_frames.npy'), frames)\n",
    "    print(f'Processed and saved frames for {video_name}')"
   ]
  },
  {
   "cell_type": "markdown",
   "metadata": {},
   "source": [
    "## Summary\n",
    "\n",
    "In this notebook, we loaded raw video data, preprocessed the frames by resizing them, and saved the processed frames for further use in model training."
   ]
  }
 ],
 "metadata": {
  "kernelspec": {
   "display_name": "Python 3",
   "language": "python",
   "name": "python3"
  },
  "language_info": {
   "codemirror_mode": {
    "name": "ipython",
    "version": 3
   },
   "file_extension": ".py",
   "mimetype": "text/x-python",
   "name": "python",
   "nbconvert_exporter": "python",
   "pygments_lexer": "ipython3",
   "version": "3.8.5"
  }
 },
 "nbformat": 4,
 "nbformat_minor": 4
}