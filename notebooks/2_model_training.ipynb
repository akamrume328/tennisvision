{
 "cells": [
  {
   "cell_type": "markdown",
   "metadata": {},
   "source": [
    "# モデルのトレーニング\n",
    "\n",
    "このノートブックは、前処理されたデータを使用してYOLOv8モデルをトレーニングするために設計されています。ハイパーパラメータの設定、トレーニングの進捗状況の監視、トレーニング済みモデルの保存が含まれます。"
   ]
  },
  {
   "cell_type": "code",
   "execution_count": null,
   "metadata": {
    "id": "import-libraries"
   },
   "outputs": [],
   "source": [
    "# 必要なライブラリをインポート\n",
    "import torch\n",
    "from torchvision import transforms\n",
    "from torch.utils.data import DataLoader\n",
    "from src.config import Config\n",
    "from src.detection import YOLOv8Model\n",
    "from src.utils import save_model\n",
    "from scripts.train import train_model\n"
   ]
  },
  {
   "cell_type": "code",
   "execution_count": null,
   "metadata": {
    "id": "load-data"
   },
   "outputs": [],
   "source": [
    "# 前処理済みのデータセットをロード\n",
    "# data.yaml と train.txt を使用してデータセットをロードするように変更します。\n",
    "# 全フレームが格納された単一の .npy ファイルと、\n",
    "# `labels/frame_xxxxxx.txt` 形式のアノテーションファイルを処理する\n",
    "# カスタムデータセットクラス (例: MyCustomDataset) を `src.dataset` などに実装し、\n",
    "# ここでインポートして使用してください。\n",
    "\n",
    "# from src.dataset import MyCustomDataset # ユーザー定義のデータセットクラスをインポート\n",
    "# (torchvision.transforms は既にセル2でインポートされています)\n",
    "\n",
    "# Config.DATA_YAML_PATH が data.yaml ファイルへのパスを指していると仮定します。\n",
    "# MyCustomDataset はこの data.yaml を解釈し、\n",
    "#   - 単一の .npy ファイル (例: all_video_frames.npy) をロード\n",
    "#   - train.txt (または val.txt) に記載されたフレーム識別子に基づいて、.npy ファイルから該当フレームを抽出\n",
    "#   - 同様にフレーム識別子に基づいて、対応するアノテーションファイル (labels/frame_xxxxxx.txt) をロード\n",
    "# するように実装されることを想定しています。\n",
    "\n",
    "# # 必要な変換を定義 (例)\n",
    "# data_transforms = transforms.Compose([\n",
    "#     # transforms.ToTensor(), # .npy からロードしたNumPy配列をTensorに変換\n",
    "#     # その他、モデルに必要な前処理\n",
    "# ])\n",
    "\n",
    "print(f\"INFO: {Config.DATA_YAML_PATH if hasattr(Config, 'DATA_YAML_PATH') else 'Config.DATA_YAML_PATH (未設定)'} を参照し、\")\n",
    "print(f\"      単一のフレームNPYファイル (例: all_video_frames.npy) と、\")\n",
    "print(f\"      train.txt (フレーム識別子のリスト)、および labels/frame_xxxxxx.txt 形式のアノテーションを処理する\")\n",
    "print(f\"      カスタムデータセット (例: MyCustomDataset) を実装し、以下の train_dataset と train_loader を初期化してください。\")\n",
    "\n",
    "train_dataset = ...  # TODO: カスタムデータセット (MyCustomDatasetなど) をここで初期化します。\n",
    "                     # 例: MyCustomDataset(data_yaml_path=Config.DATA_YAML_PATH, mode='train', transforms=data_transforms)\n",
    "                     # MyCustomDataset内では、all_video_frames.npy をメモリにロードするか、メモリマップモードで開きます。\n",
    "                     # train.txt の各行がフレーム識別子となり、それを使って .npy 配列内のインデックスと\n",
    "                     # 対応する labels/frame_xxxxxx.txt を特定する必要があります。\n",
    "\n",
    "train_loader = ...   # TODO: 上記の train_dataset から DataLoader を初期化します。\n",
    "                     # 例: DataLoader(train_dataset, batch_size=Config.BATCH_SIZE, shuffle=True, collate_fn=...)\n",
    "\n",
    "# train_dataset と train_loader が正しく初期化されたか確認するコード (オプション)\n",
    "# if train_dataset is not Ellipsis and train_dataset is not None and hasattr(train_dataset, '__len__'):\n",
    "#     print(f\"トレーニングデータセット サンプル数: {len(train_dataset)}\")\n",
    "# else:\n",
    "#     print(\"警告: train_dataset が正しく初期化されていません。上記のTODOを確認してください。\")\n",
    "# if train_loader is Ellipsis or train_loader is None:\n",
    "#     print(\"警告: train_loader が正しく初期化されていません。上記のTODOを確認してください。\")\n"
   ]
  },
  {
   "cell_type": "markdown",
   "metadata": {},
   "source": [
    "## データセットのフォーマット\n",
    "\n",
    "このモデルのトレーニングに使用されるデータセットは、以下の構造とフォーマットに従う必要があります。\n",
    "\n",
    "- **設定ファイル (`data.yaml`)**: データセットのルートパス、トレーニング/検証データへのパス、クラス数、クラス名、そして**全フレームが格納された単一のNPYファイル名**などを定義します。\n",
    "    ```yaml\n",
    "    # 例: data.yaml\n",
    "    path: ../data/processed  # データセットのルートディレクトリ (NPYファイルやlabelsフォルダの基準)\n",
    "    all_frames_npy: all_video_frames.npy # 全フレームが格納されたNPYファイル名 (pathからの相対パス)\n",
    "    train: train.txt         # トレーニング用フレーム識別子リストファイルへのパス (pathからの相対パス)\n",
    "    val: val.txt             # 検証用フレーム識別子リストファイルへのパス (オプション、pathからの相対パス)\n",
    "    \n",
    "    nc: 3  # クラス数\n",
    "    names: ['player', 'ball', 'net']  # クラス名\n",
    "    \n",
    "    # オプション: ラベルディレクトリの指定 (pathからの相対パス)\n",
    "    # label_dir: labels \n",
    "    ```\n",
    "\n",
    "- **画像データ (単一 `.npy` ファイル)**:\n",
    "    - すべての動画から抽出された全フレームが、**単一の `.npy` ファイル** (例: `data.yaml` の `all_frames_npy` で指定された `all_video_frames.npy`) にまとめて保存されています。\n",
    "    - この `.npy` ファイルは、形状が `(総フレーム数, 高さ, 幅, チャンネル数)` のようなNumPy配列です。\n",
    "    - カスタムデータセットクラス (`MyCustomDataset`) は、この単一の `.npy` ファイルをロードし、`train.txt` や `val.txt` に基づいて特定のフレーム（配列のスライス）にアクセスする必要があります。\n",
    "\n",
    "- **トレーニング/検証リストファイル (`train.txt`, `val.txt`)**:\n",
    "    - これらのファイルには、トレーニングまたは検証に使用する**フレームの識別子**が1行に1つずつ記述されます。\n",
    "    - この識別子は、単一の `.npy` ファイル内の特定のフレームと、対応するアノテーションファイル (`labels/frame_xxxxxx.txt`) の両方に紐づく必要があります。\n",
    "    - 例 (`train.txt`):\n",
    "        ```\n",
    "        video1_frame_000000  # 元の動画名とフレーム番号を組み合わせた識別子など\n",
    "        video1_frame_000001\n",
    "        video2_frame_000000\n",
    "        # ... または、単に labels/ ディレクトリ内のファイル名 (拡張子なし)\n",
    "        # frame_000000\n",
    "        # frame_000001\n",
    "        ```\n",
    "    - カスタムデータセットクラスは、これらの識別子を解釈し、以下の2つのマッピングを行う必要があります:\n",
    "        1.  識別子 → `all_video_frames.npy` 内の該当フレームのインデックス。\n",
    "            (このマッピング情報は、前処理時に別途保存するか、識別子の命名規則から導出できるようにする必要があります。)\n",
    "        2.  識別子 → 対応するアノテーションファイルパス (例: `labels/frame_000000.txt`)。\n",
    "\n",
    "- **アノテーションデータ**:\n",
    "    - 各フレーム識別子に対応するアノテーションファイル（`.txt`）が、指定されたディレクトリ（例: `data.yaml` の `path` と `label_dir` を組み合わせた場所、または `labels/frame_xxxxxx.txt` のような固定パス構造）に存在する必要があります。\n",
    "    - 例えば、`train.txt` に `frame_000000` という識別子がある場合、対応するラベルファイルは `../data/processed/labels/frame_000000.txt` のようになります。\n",
    "    - アノテーションファイルはYOLOフォーマットに従います:\n",
    "        - 各行は1つのオブジェクトを表します。\n",
    "        - 各行の形式: `<object-class-id> <x_center> <y_center> <width> <height>`\n",
    "        - 座標は、画像の幅と高さによって正規化されます（0から1の間の値）。\n",
    "        - `<object-class-id>` は、`data.yaml` の `names` リストに対応する0から始まる整数インデックスです。\n",
    "\n",
    "カスタムデータセットクラス (`MyCustomDataset`) は、これらのファイル (`data.yaml`, `all_video_frames.npy`, `train.txt`/`val.txt`, アノテーション `.txt` ファイル群) を適切に読み込み、モデルが利用できる形式 (特定のフレームの画像データとそのアノテーション) をペアで供給するように構成する必要があります。"
   ]
  },
  {
   "cell_type": "code",
   "execution_count": null,
   "metadata": {
    "id": "initialize-model"
   },
   "outputs": [],
   "source": [
    "# YOLOv8モデルを初期化\n",
    "model = YOLOv8Model()\n",
    "model.to(Config.DEVICE)\n"
   ]
  },
  {
   "cell_type": "code",
   "execution_count": null,
   "metadata": {
    "id": "set-hyperparameters"
   },
   "outputs": [],
   "source": [
    "# ハイパーパラメータを設定\n",
    "num_epochs = Config.NUM_EPOCHS\n",
    "learning_rate = Config.LEARNING_RATE\n"
   ]
  },
  {
   "cell_type": "code",
   "execution_count": null,
   "metadata": {
    "id": "train-model"
   },
   "outputs": [],
   "source": [
    "# モデルをトレーニング\n",
    "train_model(model, train_loader, num_epochs, learning_rate)\n"
   ]
  },
  {
   "cell_type": "code",
   "execution_count": null,
   "metadata": {
    "id": "save-model"
   },
   "outputs": [],
   "source": [
    "# トレーニング済みモデルを保存\n",
    "save_model(model, 'models/yolov8_trained.pth')\n"
   ]
  }
 ],
 "metadata": {
  "kernelspec": {
   "display_name": "Python 3",
   "language": "python",
   "name": "python3"
  },
  "language_info": {
   "codemirror_mode": {
    "name": "ipython",
    "version": 3
   },
   "file_extension": ".py",
   "mimetype": "text/x-python",
   "name": "python",
   "nbconvert_exporter": "python",
   "pygments_lexer": "ipython3",
   "version": "3.8.5"
  }
 },
 "nbformat": 4,
 "nbformat_minor": 4
}
