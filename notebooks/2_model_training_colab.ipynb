{
 "cells": [
  {
   "cell_type": "markdown",
   "id": "d5ab6392",
   "metadata": {},
   "source": [
    "# Google ColabでのYOLOv8モデルのトレーニング\n",
    "\n",
    "このノートブックは、Google Driveに保存されたカスタムデータセットを使用して、Google Colab上でYOLOv8モデルをトレーニングするためのものです。\n",
    "以下の内容をカバーします：\n",
    "1. Google Driveのマウント。\n",
    "2. `ultralytics`ライブラリのインストール。\n",
    "3. データセットとプロジェクト出力のパス設定。\n",
    "4. YOLOv8モデルのトレーニング。\n",
    "5. トレーニング済みモデルと結果の保存場所に関する情報。"
   ]
  },
  {
   "cell_type": "code",
   "execution_count": null,
   "id": "c66446dc",
   "metadata": {},
   "outputs": [],
   "source": [
    "# Google Driveをマウント\n",
    "from google.colab import drive\n",
    "drive.mount('/content/drive')"
   ]
  },
  {
   "cell_type": "code",
   "execution_count": null,
   "id": "6592aac0",
   "metadata": {},
   "outputs": [],
   "source": [
    "# ultralyticsライブラリをインストール\n",
    "!pip install ultralytics"
   ]
  },
  {
   "cell_type": "markdown",
   "id": "14366889",
   "metadata": {},
   "source": [
    "## Gitのセットアップ (オプション)\n",
    "\n",
    "Colabから直接Gitリポジトリにコミットやプッシュを行いたい場合、以下のセルでGitのユーザー名とメールアドレスを設定します。\n",
    "これは、コミット履歴に記録される作成者情報となります。\n",
    "\n",
    "**注意:** ここで設定するメールアドレスやユーザー名は公開される可能性があるため、取り扱いに注意してください。"
   ]
  },
  {
   "cell_type": "code",
   "execution_count": null,
   "id": "87bf24c7",
   "metadata": {},
   "outputs": [],
   "source": [
    "# Gitのユーザー名とメールアドレスを設定\n",
    "# 以下の \"Your Name\" と \"youremail@example.com\" をご自身のものに置き換えてください。\n",
    "!git config --global user.name \"Your Name\" # ★★★ あなたの名前に置き換えてください ★★★\n",
    "!git config --global user.email \"youremail@example.com\" # ★★★ あなたのメールアドレスに置き換えてください ★★★\n",
    "\n",
    "print(\"Gitのユーザー名とメールアドレスが設定されました。\")\n",
    "!git config --global --list # 設定内容の確認"
   ]
  },
  {
   "cell_type": "markdown",
   "id": "2f6cdf35",
   "metadata": {},
   "source": [
    "## パスの設定\n",
    "\n",
    "データセットの`data.yaml`ファイルと、トレーニング結果（例: モデルの重み、ログ）を保存するディレクトリのパスを定義します。"
   ]
  },
  {
   "cell_type": "markdown",
   "id": "83abd33a",
   "metadata": {},
   "source": [
    "## Google Drive上のデータセットを展開 (オプション)\n",
    "\n",
    "もしデータセットがGoogle Drive上でZIPファイルとして保存されている場合、以下のセルを実行してColabのローカルストレージに展開できます。\n",
    "これにより、トレーニング中のファイルアクセスが高速になることがあります。\n",
    "\n",
    "**注意:**\n",
    "- ZIPファイルへのパス (`zip_file_path_on_drive`) と展開先のディレクトリ (`colab_dataset_dir`) をご自身の環境に合わせて設定してください。\n",
    "- データセットが大きい場合、展開に時間がかかることがあります。\n",
    "- Colabのセッションが終了すると、展開されたデータは削除されます。再度ノートブックを実行する際には、このセルも再実行する必要があります。\n",
    "- このセルを実行した場合、次の「パスの設定」セルで `dataset_yaml_path` が、Colab上に展開されたデータセット内の `data.yaml` を指すように必ず更新してください。"
   ]
  },
  {
   "cell_type": "code",
   "execution_count": null,
   "id": "08e6e562",
   "metadata": {},
   "outputs": [],
   "source": [
    "import zipfile\n",
    "import os\n",
    "\n",
    "# --- ★★★ ユーザー設定項目 ★★★ ---\n",
    "# Google Drive上のZIPファイルのパス\n",
    "# 例: '/content/drive/MyDrive/datasets/my_dataset.zip'\n",
    "zip_file_path_on_drive = '/content/drive/MyDrive/your_dataset.zip'  # ★★★ あなたのZIPファイルのパスに置き換えてください ★★★\n",
    "\n",
    "# Colab上にデータセットを展開するディレクトリ\n",
    "# 通常、'/content/' 以下に作成します。\n",
    "colab_dataset_dir = '/content/datasets' # ★★★ 必要であれば変更してください ★★★\n",
    "\n",
    "# --- ★★★ 設定項目終了 ★★★ ---\n",
    "\n",
    "# 展開先ディレクトリを作成\n",
    "if not os.path.exists(colab_dataset_dir):\n",
    "    os.makedirs(colab_dataset_dir)\n",
    "    print(f\"展開先ディレクトリを作成しました: {colab_dataset_dir}\")\n",
    "else:\n",
    "    print(f\"展開先ディレクトリは既に存在します: {colab_dataset_dir}\")\n",
    "\n",
    "if os.path.exists(zip_file_path_on_drive):\n",
    "    print(f\"ZIPファイルが見つかりました: {zip_file_path_on_drive}\")\n",
    "    print(f\"ファイルを {colab_dataset_dir} に展開しています...\")\n",
    "    try:\n",
    "        with zipfile.ZipFile(zip_file_path_on_drive, 'r') as zip_ref:\n",
    "            zip_ref.extractall(colab_dataset_dir)\n",
    "        print(f\"データセットの展開が完了しました。展開先: {colab_dataset_dir}\")\n",
    "        \n",
    "        print(\"\\n--- 展開後の確認と次のステップ --- \")\n",
    "        print(f\"展開先ディレクトリ ({colab_dataset_dir}) の内容:\")\n",
    "        extracted_items = os.listdir(colab_dataset_dir)\n",
    "        if extracted_items:\n",
    "            for item in extracted_items:\n",
    "                print(f\"- {item}\")\n",
    "        else:\n",
    "            print(\"(ディレクトリは空か、アクセスできませんでした)\")\n",
    "\n",
    "        print(f\"\\n重要: 次の「パスの設定」セルで、`dataset_yaml_path` が、\")\n",
    "        print(f\"このColab上の展開先ディレクトリ ({colab_dataset_dir}) 内の `data.yaml` を指すように更新してください。\")\n",
    "        print(f\"例えば、もしZIP展開後に '{colab_dataset_dir}/your_dataset_main_folder/data.yaml' のような構造になる場合、\")\n",
    "        print(f\"dataset_yaml_path = '{os.path.join(colab_dataset_dir, \"your_dataset_main_folder\", \"data.yaml\")}' のように設定します。\")\n",
    "        print(\"ZIPファイル内のフォルダ構造を確認し、適切にパスを修正してください。\")\n",
    "\n",
    "    except zipfile.BadZipFile:\n",
    "        print(f\"エラー: {zip_file_path_on_drive} は有効なZIPファイルではありません。\")\n",
    "    except Exception as e:\n",
    "        print(f\"展開中にエラーが発生しました: {e}\")\n",
    "else:\n",
    "    print(f\"エラー: ZIPファイルが見つかりません: {zip_file_path_on_drive}\")\n",
    "    print(\"Google Drive上のパスを確認してください。\")\n",
    "    print(\"もしZIP展開機能を使用しない場合は、このセルをスキップして問題ありません。\")"
   ]
  },
  {
   "cell_type": "code",
   "execution_count": null,
   "id": "c16d18c8",
   "metadata": {},
   "outputs": [],
   "source": [
    "import os\n",
    "\n",
    "# --- 重要: これらのパスをGoogle Driveの構造に合わせて設定してください ---\n",
    "\n",
    "# Google Drive上のデータセットのdata.yamlファイルへのパス\n",
    "# 例: '/content/drive/MyDrive/datasets/tennis_data/data.yaml'\n",
    "dataset_yaml_path = '/content/drive/MyDrive/your_dataset_folder/data.yaml' # ★★★ ここを修正してください ★★★\n",
    "\n",
    "# トレーニング結果（重み、ログなど）を保存するGoogle Drive上のディレクトリ\n",
    "# 例: '/content/drive/MyDrive/YOLOv8_Tennis_Project'\n",
    "project_output_dir = '/content/drive/MyDrive/YOLOv8_Training_Outputs' # ★★★ ここを修正してください ★★★\n",
    "\n",
    "# この特定のトレーニング実行の名前（project_output_dirのサブディレクトリとして作成されます）\n",
    "experiment_name = 'tennis_detection_run1'\n",
    "\n",
    "# --- パス設定終了 ---\n",
    "\n",
    "# プロジェクト出力ディレクトリが存在しない場合は作成\n",
    "os.makedirs(project_output_dir, exist_ok=True)\n",
    "\n",
    "print(f\"データセットのYAMLパス: {dataset_yaml_path}\")\n",
    "print(f\"プロジェクト出力ディレクトリ: {project_output_dir}\")\n",
    "print(f\"実験名: {experiment_name}\")\n",
    "\n",
    "# データセットのYAMLファイルが存在するか確認\n",
    "if not os.path.exists(dataset_yaml_path):\n",
    "    print(f\"エラー: データセットのYAMLファイルが見つかりません: {dataset_yaml_path}\")\n",
    "    print(\"パスを再確認してください。\")\n",
    "else:\n",
    "    print(\"データセットのYAMLファイルが見つかりました。\")"
   ]
  },
  {
   "cell_type": "markdown",
   "id": "3c5b9aba",
   "metadata": {},
   "source": [
    "## YOLOv8モデルの初期化とトレーニング"
   ]
  },
  {
   "cell_type": "code",
   "execution_count": null,
   "id": "ae751cb9",
   "metadata": {},
   "outputs": [],
   "source": [
    "from ultralytics import YOLO\n",
    "\n",
    "# 事前学習済みのYOLOv8モデルをロード\n",
    "# 'yolov8n.pt', 'yolov8s.pt', 'yolov8m.pt', 'yolov8l.pt', 'yolov8x.pt' などのサイズを選択可能\n",
    "# 初めての場合は 'yolov8n.pt' (Nano) または 'yolov8s.pt' (Small) を推奨\n",
    "model_name = 'yolov8s.pt'\n",
    "model = YOLO(model_name)\n",
    "\n",
    "# トレーニングのハイパーパラメータを定義\n",
    "num_epochs = 100  # トレーニングエポック数 (例: 50, 100, 200)\n",
    "batch_size = 16   # バッチサイズ (GPUメモリに応じて調整: 例 8, 16, 32)\n",
    "img_size = 640    # 入力画像サイズ (例: 640, 1280)\n",
    "\n",
    "print(f\"モデルのトレーニングを開始します: {model_name}\")\n",
    "print(f\"エポック数: {num_epochs}, バッチサイズ: {batch_size}, 画像サイズ: {img_size}\")\n",
    "\n",
    "# トレーニングを開始\n",
    "try:\n",
    "    results = model.train(\n",
    "        data=dataset_yaml_path,\n",
    "        epochs=num_epochs,\n",
    "        imgsz=img_size,\n",
    "        batch=batch_size,\n",
    "        project=project_output_dir, # すべての実行結果を保存するメインディレクトリ\n",
    "        name=experiment_name,       # この特定の実行のサブディレクトリ\n",
    "        exist_ok=True,              # experiment_nameディレクトリが既に存在する場合は上書きを許可\n",
    "        # device=0,                 # GPUを使用 (最初のGPUは0, CPUを使用する場合は 'cpu')\n",
    "                                    # Colabでは通常、自動的にGPUが割り当てられます。\n",
    "        # workers=8,                # データローダーのワーカー数 (ColabのCPUに応じて調整)\n",
    "        # patience=30,              # 早期終了の忍耐値 (例: 30エポック後に改善がない場合に停止)\n",
    "        # lr0=0.01,                 # 初期学習率\n",
    "        # optimizer='AdamW',        # オプティマイザ (例: 'SGD', 'Adam', 'AdamW')\n",
    "    )\n",
    "    print(\"\\nトレーニングが正常に完了しました！\")\n",
    "    print(f\"結果、ログ、モデルの重みは次の場所に保存されました: {os.path.join(project_output_dir, experiment_name)}\")\n",
    "except Exception as e:\n",
    "    print(f\"\\nトレーニング中にエラーが発生しました: {e}\")"
   ]
  },
  {
   "cell_type": "markdown",
   "id": "3b335778",
   "metadata": {},
   "source": [
    "## トレーニング結果と保存されたモデル\n",
    "\n",
    "トレーニング後、結果（メトリクス、混同行列、モデルの重みなど）は指定したディレクトリに保存されます：\n",
    "`{project_output_dir}/{experiment_name}`\n",
    "\n",
    "確認すべき主なファイル：\n",
    "- **重み:** `weights`サブディレクトリ内 (例: `best.pt`, `last.pt`)\n",
    "  - `best.pt`: 最良の検証メトリクス（通常はmAP50-95）を達成したモデルの重み。このモデルを推論に使用するのが一般的です。\n",
    "  - `last.pt`: トレーニングの最終エポックのモデルの重み。\n",
    "- **結果CSV:** `results.csv`にはエポックごとのメトリクスの概要が含まれています。\n",
    "- **プロット:** 混同行列、P-R曲線などのさまざまなプロット (例: `confusion_matrix.png`, `PR_curve.png`)\n",
    "\n",
    "これらのファイルはGoogle Driveからダウンロードできます。"
   ]
  },
  {
   "cell_type": "code",
   "execution_count": null,
   "id": "ff686fb1",
   "metadata": {},
   "outputs": [],
   "source": [
    "# 実験の重みディレクトリ内のファイルをリストアップする例\n",
    "weights_dir = os.path.join(project_output_dir, experiment_name, 'weights')\n",
    "if os.path.exists(weights_dir):\n",
    "    print(f\"\\n重みディレクトリ内のファイル ({weights_dir}):\")\n",
    "    for f_name in os.listdir(weights_dir):\n",
    "        print(f\"- {f_name}\")\n",
    "else:\n",
    "    print(f\"\\n重みディレクトリが見つかりません: {weights_dir}\")\n",
    "    print(\"トレーニングが完了していないか、エラーが発生した可能性があります。\")\n",
    "\n",
    "# トレーニング済みモデルの最良の重みへのパス（後で推論に使用可能）\n",
    "best_model_path = os.path.join(weights_dir, 'best.pt')\n",
    "print(f\"\\n最良のモデルへのパス: {best_model_path}\")\n",
    "if os.path.exists(best_model_path):\n",
    "    print(\"最良のモデルファイル (best.pt) が見つかりました。\")\n",
    "else:\n",
    "    print(\"最良のモデルファイル (best.pt) が見つかりません。トレーニングが失敗したか、生成されなかった可能性があります。\")"
   ]
  }
 ],
 "metadata": {
  "language_info": {
   "name": "python"
  }
 },
 "nbformat": 4,
 "nbformat_minor": 5
}
