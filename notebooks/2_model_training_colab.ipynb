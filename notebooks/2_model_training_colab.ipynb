{
 "cells": [
  {
   "cell_type": "markdown",
   "id": "d5ab6392",
   "metadata": {},
   "source": [
    "# YOLOv8 Model Training on Google Colab\n",
    "\n",
    "This notebook is designed for training a YOLOv8 model on Google Colab using a custom dataset stored on Google Drive.\n",
    "It covers:\n",
    "1. Mounting Google Drive.\n",
    "2. Installing the `ultralytics` library.\n",
    "3. Setting up paths for the dataset and project output.\n",
    "4. Training the YOLOv8 model.\n",
    "5. Information on where the trained model and results are saved."
   ]
  },
  {
   "cell_type": "code",
   "execution_count": null,
   "id": "c66446dc",
   "metadata": {},
   "outputs": [],
   "source": [
    "# Mount Google Drive\n",
    "from google.colab import drive\n",
    "drive.mount('/content/drive')"
   ]
  },
  {
   "cell_type": "code",
   "execution_count": null,
   "id": "6592aac0",
   "metadata": {},
   "outputs": [],
   "source": [
    "# Install the ultralytics library\n",
    "!pip install ultralytics"
   ]
  },
  {
   "cell_type": "markdown",
   "id": "2f6cdf35",
   "metadata": {},
   "source": [
    "## Setup Paths\n",
    "\n",
    "Define the paths to your dataset's `data.yaml` file and the directory where you want to save your training results (e.g., model weights, logs)."
   ]
  },
  {
   "cell_type": "code",
   "execution_count": null,
   "id": "c16d18c8",
   "metadata": {},
   "outputs": [],
   "source": [
    "import os\n",
    "\n",
    "# --- IMPORTANT: SET THESE PATHS ACCORDING TO YOUR GOOGLE DRIVE STRUCTURE ---\n",
    "\n",
    "# Path to your dataset's data.yaml file on Google Drive\n",
    "# Example: '/content/drive/MyDrive/datasets/tennis_data/data.yaml'\n",
    "dataset_yaml_path = '/content/drive/MyDrive/your_dataset_folder/data.yaml' # ★★★ MODIFY THIS ★★★\n",
    "\n",
    "# Directory on Google Drive to save training outputs (weights, logs, etc.)\n",
    "# Example: '/content/drive/MyDrive/YOLOv8_Tennis_Project'\n",
    "project_output_dir = '/content/drive/MyDrive/YOLOv8_Training_Outputs' # ★★★ MODIFY THIS ★★★\n",
    "\n",
    "# Name for this specific training run (a subdirectory will be created under project_output_dir)\n",
    "experiment_name = 'tennis_detection_run1'\n",
    "\n",
    "# --- END OF PATH SETUP ---\n",
    "\n",
    "# Create the project output directory if it doesn't exist\n",
    "os.makedirs(project_output_dir, exist_ok=True)\n",
    "\n",
    "print(f\"Dataset YAML path: {dataset_yaml_path}\")\n",
    "print(f\"Project output directory: {project_output_dir}\")\n",
    "print(f\"Experiment name: {experiment_name}\")\n",
    "\n",
    "# Verify if the dataset YAML file exists\n",
    "if not os.path.exists(dataset_yaml_path):\n",
    "    print(f\"ERROR: Dataset YAML file not found at {dataset_yaml_path}\")\n",
    "    print(\"Please double-check the path.\")\n",
    "else:\n",
    "    print(\"Dataset YAML file found.\")"
   ]
  },
  {
   "cell_type": "markdown",
   "id": "3c5b9aba",
   "metadata": {},
   "source": [
    "## Initialize and Train the YOLOv8 Model"
   ]
  },
  {
   "cell_type": "code",
   "execution_count": null,
   "id": "ae751cb9",
   "metadata": {},
   "outputs": [],
   "source": [
    "from ultralytics import YOLO\n",
    "\n",
    "# Load a pre-trained YOLOv8 model\n",
    "# You can choose different sizes like 'yolov8n.pt', 'yolov8s.pt', 'yolov8m.pt', 'yolov8l.pt', 'yolov8x.pt'\n",
    "# For starting, 'yolov8n.pt' (Nano) or 'yolov8s.pt' (Small) are good choices.\n",
    "model_name = 'yolov8s.pt'\n",
    "model = YOLO(model_name)\n",
    "\n",
    "# Define training hyperparameters\n",
    "num_epochs = 100  # Number of training epochs (e.g., 50, 100, 200)\n",
    "batch_size = 16   # Batch size (adjust based on GPU memory, e.g., 8, 16, 32)\n",
    "img_size = 640    # Input image size (e.g., 640, 1280)\n",
    "\n",
    "print(f\"Starting training with model: {model_name}\")\n",
    "print(f\"Epochs: {num_epochs}, Batch Size: {batch_size}, Image Size: {img_size}\")\n",
    "\n",
    "# Start training\n",
    "try:\n",
    "    results = model.train(\n",
    "        data=dataset_yaml_path,\n",
    "        epochs=num_epochs,\n",
    "        imgsz=img_size,\n",
    "        batch=batch_size,\n",
    "        project=project_output_dir, # Main directory for saving all runs\n",
    "        name=experiment_name,       # Subdirectory for this specific run\n",
    "        exist_ok=True,              # Allow overwriting if the experiment_name directory already exists\n",
    "        # device=0,                 # Use GPU (0 for the first GPU, 'cpu' for CPU)\n",
    "                                    # Colab usually assigns a GPU automatically if available.\n",
    "        # workers=8,                # Number of dataloader workers (adjust based on Colab's CPU)\n",
    "        # patience=30,              # Early stopping patience (e.g., stop if no improvement after 30 epochs)\n",
    "        # lr0=0.01,                 # Initial learning rate\n",
    "        # optimizer='AdamW',        # Optimizer (e.g., 'SGD', 'Adam', 'AdamW')\n",
    "    )\n",
    "    print(\"\\nTraining completed successfully!\")\n",
    "    print(f\"Results, logs, and model weights saved in: {os.path.join(project_output_dir, experiment_name)}\")\n",
    "except Exception as e:\n",
    "    print(f\"\\nAn error occurred during training: {e}\")"
   ]
  },
  {
   "cell_type": "markdown",
   "id": "3b335778",
   "metadata": {},
   "source": [
    "## Training Results and Saved Models\n",
    "\n",
    "After training, the results, including metrics, confusion matrices, and model weights, will be saved in the directory you specified:\n",
    "`{project_output_dir}/{experiment_name}`\n",
    "\n",
    "Key files to look for:\n",
    "- **Weights:** Inside the `weights` subdirectory (e.g., `best.pt`, `last.pt`).\n",
    "  - `best.pt`: The model weights that achieved the best validation metric (usually mAP50-95). This is typically the model you'll use for inference.\n",
    "  - `last.pt`: The model weights from the very last epoch of training.\n",
    "- **Results CSV:** `results.csv` contains a summary of metrics per epoch.\n",
    "- **Plots:** Various plots like confusion matrix, P-R curve, etc. (e.g., `confusion_matrix.png`, `PR_curve.png`).\n",
    "\n",
    "You can download these files from your Google Drive."
   ]
  },
  {
   "cell_type": "code",
   "execution_count": null,
   "id": "ff686fb1",
   "metadata": {},
   "outputs": [],
   "source": [
    "# Example: List files in the experiment's weights directory\n",
    "weights_dir = os.path.join(project_output_dir, experiment_name, 'weights')\n",
    "if os.path.exists(weights_dir):\n",
    "    print(f\"\\nFiles in the weights directory ({weights_dir}):\")\n",
    "    for f_name in os.listdir(weights_dir):\n",
    "        print(f\"- {f_name}\")\n",
    "else:\n",
    "    print(f\"\\nWeights directory not found: {weights_dir}\")\n",
    "    print(\"This might be because training hasn't completed or an error occurred.\")\n",
    "\n",
    "# Path to the best trained model (useful for later inference)\n",
    "best_model_path = os.path.join(weights_dir, 'best.pt')\n",
    "print(f\"\\nPath to the best model: {best_model_path}\")\n",
    "if os.path.exists(best_model_path):\n",
    "    print(\"Best model file (best.pt) found.\")\n",
    "else:\n",
    "    print(\"Best model file (best.pt) not found. Training might have failed or not produced it.\")"
   ]
  }
 ],
 "metadata": {
  "language_info": {
   "name": "python"
  }
 },
 "nbformat": 4,
 "nbformat_minor": 5
}
