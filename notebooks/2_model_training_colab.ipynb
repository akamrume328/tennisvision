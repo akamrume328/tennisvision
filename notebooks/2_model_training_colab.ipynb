{
  "cells": [
    {
      "cell_type": "markdown",
      "metadata": {
        "colab_type": "text",
        "id": "view-in-github"
      },
      "source": [
        "<a href=\"https://colab.research.google.com/github/akamrume328/tennisvision/blob/feature%2F%231/notebooks/2_model_training_colab.ipynb\" target=\"_parent\"><img src=\"https://colab.research.google.com/assets/colab-badge.svg\" alt=\"Open In Colab\"/></a>"
      ]
    },
    {
      "cell_type": "markdown",
      "id": "d5ab6392",
      "metadata": {
        "id": "d5ab6392"
      },
      "source": [
        "# Google ColabでのYOLOv8モデルのトレーニング\n",
        "\n",
        "このノートブックは、Google Driveに保存されたカスタムデータセットを使用して、Google Colab上でYOLOv8モデルをトレーニングするためのものです。\n",
        "以下の内容をカバーします：\n",
        "1. Google Driveのマウント。\n",
        "2. `ultralytics`ライブラリのインストール。\n",
        "3. **データセットの準備とGoogle Driveへのアップロード**:\n",
        "   - YOLOv8形式のデータセット（画像ファイル群、対応するラベルファイル群、そしてデータセット設定ファイル `data.yaml`）を準備します。\n",
        "   - `data.yaml` には、クラス名、クラス数、そして訓練データと検証データへのパスを記述します。これらのパスは、画像とラベルが格納されているディレクトリを指すか、あるいは訓練用/検証用の画像ファイルパスをリストしたテキストファイル（例: `train.txt`, `val.txt`）を指します。\n",
        "   - `train.txt` や `val.txt` を使用する場合、これらは1行に1つの画像ファイルへのパス（例: `images/train/frame_000001.png` や、`data.yaml` からの相対パスで `../images/frame_000001.png` など）を記述したテキストファイルです。これらのテキストファイルと、対応する画像およびラベルファイルは、`data.yaml` から相対的にアクセスできる位置に配置する必要があります。\n",
        "   - 準備したデータセット全体（画像、ラベル、`data.yaml`、`train.txt`、`val.txt` 等）をGoogle Driveの任意の場所にアップロードします。\n",
        "4. データセットとプロジェクト出力のパス設定（Google Drive上の `data.yaml` へのパスを指定）。\n",
        "5. YOLOv8モデルのトレーニング。\n",
        "6. トレーニング済みモデルと結果の保存場所に関する情報。"
      ]
    },
    {
      "cell_type": "code",
      "execution_count": 1,
      "id": "c66446dc",
      "metadata": {
        "colab": {
          "base_uri": "https://localhost:8080/"
        },
        "id": "c66446dc",
        "outputId": "e07bb9e6-e6d7-4758-d9a8-090ebbb7a4ea"
      },
      "outputs": [
        {
          "name": "stdout",
          "output_type": "stream",
          "text": [
            "Mounted at /content/drive\n"
          ]
        }
      ],
      "source": [
        "# Google Driveをマウント\n",
        "from google.colab import drive\n",
        "drive.mount('/content/drive')"
      ]
    },
    {
      "cell_type": "markdown",
      "id": "bd26b0f7",
      "metadata": {},
      "source": [
        "## PyTorch XLAのインストール (TPU利用時)\n",
        "\n",
        "Google ColabでTPUを使用してPyTorchベースのモデル（YOLOv8など）をトレーニングする場合、`torch_xla` ライブラリが必要です。\n",
        "このライブラリは、PyTorchがTPUハードウェアと通信するためのコンポーネントを提供します。\n",
        "\n",
        "以下のセルを実行して、`torch_xla` をインストールしてください。\n",
        "**注意:** TPUランタイムを使用している場合にのみ、このインストールが意味を持ちます。GPUまたはCPUランタイムでは不要です。"
      ]
    },
    {
      "cell_type": "code",
      "execution_count": null,
      "id": "5850ce50",
      "metadata": {},
      "outputs": [],
      "source": [
        "# PyTorch XLAライブラリをインストール (TPU利用時に必要)\n",
        "# ColabのTPUランタイムでは、対応するPyTorchのバージョンと共にインストールされることが多いですが、\n",
        "# 明示的にインストールすることで互換性を確保します。\n",
        "# !pip install torch_xla cloud-tpu-client https://storage.googleapis.com/tpu-pytorch/wheels/colab/torch_xla-2.0-cp310-cp310-linux_x86_64.whl --force-reinstall\n",
        "# ↑ ColabのPythonバージョンやPyTorchのバージョンによって適切なwheelが異なる場合があります。\n",
        "# ultralyticsが依存するPyTorchバージョンと互換性のあるtorch_xlaをインストールするのが望ましいです。\n",
        "# まずはシンプルにpip installしてみます。\n",
        "# ultralyticsのインストール時にPyTorchもインストールされるため、その後にtorch_xlaをインストールするか、\n",
        "# ultralyticsがTPU環境を検知して適切に処理することを期待します。\n",
        "# ここでは、ultralyticsの前にインストールを試みます。\n",
        "\n",
        "import os\n",
        "import torch # PyTorchが既に存在するか確認するため\n",
        "\n",
        "# TPUが利用可能かどうかの確認（オプションですが、TPUランタイムでのみ実行する目安）\n",
        "try:\n",
        "    if 'COLAB_TPU_ADDR' in os.environ:\n",
        "        print(\"TPU環境を検出しました。torch_xlaをインストールします。\")\n",
        "        # 最新の推奨コマンドは変更されることがあるため、公式ドキュメントも参照してください。\n",
        "        # https://github.com/pytorch/xla\n",
        "        # !pip install torch~=2.1.0 torch_xla~=2.1.0 torchvision~=0.16.0 torchaudio~=2.1.0 torchtext --index-url https://download.pytorch.org/whl/cu121 -q\n",
        "        # ↑はGPU用。TPU用は以下のような形式になることが多い。\n",
        "        # !pip install cloud-tpu-client\n",
        "        # !pip install torch_xla[tpu]~=2.1.0 -f https://storage.googleapis.com/libtpu-releases/index.html\n",
        "        \n",
        "        # ultralyticsがPyTorch 2.1系を推奨している場合があるため、それに合わせる\n",
        "        # ultralyticsのドキュメントでは、TPUセットアップについて特別なpip install指示は最近見られない。\n",
        "        # device='tpu'で内部的に処理されることを期待。\n",
        "        # ただし、明示的なインストールが必要なケースも過去にはあった。\n",
        "        # ひとまず、ultralyticsのインストールに任せ、もしTPUエラーが出たらここに戻ってtorch_xlaのインストールを試す。\n",
        "        print(\"torch_xlaの明示的なインストールはコメントアウトしています。\")\n",
        "        print(\"ultralyticsが内部でTPU設定を処理することを期待します。\")\n",
        "        print(\"もしTPUでのトレーニングに失敗する場合、このセルで適切なtorch_xlaのインストールコマンドを有効化してください。\")\n",
        "        print(\"例: !pip install torch_xla\")\n",
        "        # !pip install torch_xla -q\n",
        "    else:\n",
        "        print(\"TPU環境は検出されませんでした。torch_xlaのインストールはスキップします。\")\n",
        "        print(\"(GPUまたはCPUランタイムの可能性があります)\")\n",
        "except ImportError:\n",
        "    print(\"PyTorchがまだインストールされていないようです。ultralyticsのインストール時に導入されるはずです。\")\n",
        "except Exception as e:\n",
        "    print(f\"TPU環境の確認またはtorch_xlaインストール中にエラー: {e}\")\n",
        "\n",
        "# ultralyticsのドキュメントでは、TPU使用時に特別なライブラリインストール手順は明記されていません（2023年後半以降）。\n",
        "# `device='tpu'` を指定することで、ultralyticsが内部的にPyTorch XLAの利用を試みる可能性があります。\n",
        "# このセルは、もし `ultralytics` の標準インストールだけではTPUが動作しない場合のトラブルシューティング用として残します。"
      ]
    },
    {
      "cell_type": "code",
      "execution_count": null,
      "id": "79714f44",
      "metadata": {},
      "outputs": [],
      "source": [
        "!pip install torch_xla -q"
      ]
    },
    {
      "cell_type": "code",
      "execution_count": null,
      "id": "6592aac0",
      "metadata": {
        "colab": {
          "base_uri": "https://localhost:8080/"
        },
        "id": "6592aac0",
        "outputId": "4eb8739d-8280-4550-bcdc-a98a933af111"
      },
      "outputs": [],
      "source": [
        "# ultralyticsライブラリをインストール\n",
        "!pip install ultralytics"
      ]
    },
    {
      "cell_type": "markdown",
      "id": "14366889",
      "metadata": {
        "id": "14366889"
      },
      "source": [
        "## Gitのセットアップ (オプション)\n",
        "\n",
        "Colabから直接Gitリポジトリにコミットやプッシュを行いたい場合、以下のセルでGitのユーザー名とメールアドレスを設定します。\n",
        "これは、コミット履歴に記録される作成者情報となります。\n",
        "\n",
        "**注意:** ここで設定するメールアドレスやユーザー名は公開される可能性があるため、取り扱いに注意してください。"
      ]
    },
    {
      "cell_type": "code",
      "execution_count": null,
      "id": "87bf24c7",
      "metadata": {
        "colab": {
          "base_uri": "https://localhost:8080/"
        },
        "id": "87bf24c7",
        "outputId": "32b4bd6b-b736-48d6-d989-79e64ea64e15"
      },
      "outputs": [
        {
          "name": "stdout",
          "output_type": "stream",
          "text": [
            "Gitのユーザー名とメールアドレスが設定されました。\n",
            "user.name=akamrume328\n",
            "user.email=akamarume@icloud.com\n"
          ]
        }
      ],
      "source": [
        "# Gitのユーザー名とメールアドレスを設定\n",
        "# 以下の \"Your Name\" と \"youremail@example.com\" をご自身のものに置き換えてください。\n",
        "!git config --global user.name \"akamrume328\" # ★★★ あなたの名前に置き換えてください ★★★\n",
        "!git config --global user.email \"akamarume@icloud.com\" # ★★★ あなたのメールアドレスに置き換えてください ★★★\n",
        "\n",
        "print(\"Gitのユーザー名とメールアドレスが設定されました。\")\n",
        "!git config --global --list # 設定内容の確認"
      ]
    },
    {
      "cell_type": "markdown",
      "id": "2f6cdf35",
      "metadata": {
        "id": "2f6cdf35"
      },
      "source": [
        "## パスの設定\n",
        "\n",
        "データセットの`data.yaml`ファイルと、トレーニング結果（例: モデルの重み、ログ）を保存するディレクトリのパスを定義します。"
      ]
    },
    {
      "cell_type": "markdown",
      "id": "83abd33a",
      "metadata": {
        "id": "83abd33a"
      },
      "source": [
        "## Google Drive上のデータセットを展開 (オプション)\n",
        "\n",
        "もしデータセットがGoogle Drive上でZIPファイルとして保存されている場合、以下のセルを実行してColabのローカルストレージに展開できます。\n",
        "これにより、トレーニング中のファイルアクセスが高速になることがあります。\n",
        "ZIPファイルには、画像ファイル、ラベルファイル、`data.yaml`、そして必要に応じて `train.txt` や `val.txt` など、データセット全体が含まれていることを想定しています。\n",
        "\n",
        "**注意:**\n",
        "- ZIPファイルへのパス (`zip_file_path_on_drive`) と展開先のディレクトリ (`colab_dataset_dir`) をご自身の環境に合わせて設定してください。\n",
        "- データセットが大きい場合、展開に時間がかかることがあります。\n",
        "- Colabのセッションが終了すると、展開されたデータは削除されます。再度ノートブックを実行する際には、このセルも再実行する必要があります。\n",
        "- このセルを実行した場合、次の「パスの設定」セルで `dataset_yaml_path` が、Colab上に展開されたデータセット内の `data.yaml` を指すように必ず更新してください。"
      ]
    },
    {
      "cell_type": "code",
      "execution_count": null,
      "id": "08e6e562",
      "metadata": {
        "colab": {
          "base_uri": "https://localhost:8080/"
        },
        "id": "08e6e562",
        "outputId": "1610237e-aeb2-4052-a902-8ecc6655a54d"
      },
      "outputs": [],
      "source": [
        "import zipfile\n",
        "import os\n",
        "\n",
        "# --- ★★★ ユーザー設定項目 ★★★ ---\n",
        "# Google Drive上のZIPファイルのパス\n",
        "# 例: '/content/drive/MyDrive/datasets/my_dataset.zip'\n",
        "# このZIPファイルには、画像、ラベル、data.yaml、train.txt、val.txtなどが含まれていることを想定しています。\n",
        "zip_file_path_on_drive = '/content/drive/MyDrive/datasets/dataset.zip'  # ★★★ あなたのZIPファイルのパスに置き換えてください ★★★\n",
        "\n",
        "# Colab上にデータセットを展開するディレクトリ\n",
        "# 通常、'/content/' 以下に作成します。\n",
        "colab_dataset_dir = '/content/datasets' # ★★★ 必要であれば変更してください ★★★\n",
        "\n",
        "# --- ★★★ 設定項目終了 ★★★ ---\n",
        "\n",
        "# 展開先ディレクトリを作成\n",
        "if not os.path.exists(colab_dataset_dir):\n",
        "    os.makedirs(colab_dataset_dir)\n",
        "    print(f\"展開先ディレクトリを作成しました: {colab_dataset_dir}\")\n",
        "else:\n",
        "    print(f\"展開先ディレクトリは既に存在します: {colab_dataset_dir}\")\n",
        "\n",
        "if os.path.exists(zip_file_path_on_drive):\n",
        "    print(f\"ZIPファイルが見つかりました: {zip_file_path_on_drive}\")\n",
        "    print(f\"ファイルを {colab_dataset_dir} に展開しています...\")\n",
        "    try:\n",
        "        with zipfile.ZipFile(zip_file_path_on_drive, 'r') as zip_ref:\n",
        "            zip_ref.extractall(colab_dataset_dir)\n",
        "        print(f\"データセットの展開が完了しました。展開先: {colab_dataset_dir}\")\n",
        "\n",
        "        print(\"\\n--- 展開後の確認と次のステップ --- \")\n",
        "        print(f\"展開先ディレクトリ ({colab_dataset_dir}) の内容:\")\n",
        "        extracted_items = os.listdir(colab_dataset_dir)\n",
        "        if extracted_items:\n",
        "            for item in extracted_items:\n",
        "                print(f\"- {item}\")\n",
        "            # 展開されたディレクトリ内に data.yaml があるか確認する (より親切なガイド)\n",
        "            # 例えば、ZIPが 'my_dataset_root/data.yaml' のように展開される場合がある\n",
        "            possible_yaml_paths = []\n",
        "            for root, dirs, files in os.walk(colab_dataset_dir):\n",
        "                if \"data.yaml\" in files:\n",
        "                    possible_yaml_paths.append(os.path.join(root, \"data.yaml\"))\n",
        "            \n",
        "            if possible_yaml_paths:\n",
        "                print(\"\\n展開された可能性のある data.yaml のパス:\")\n",
        "                for p_yaml in possible_yaml_paths:\n",
        "                    print(f\"- {p_yaml}\")\n",
        "                print(f\"これらのいずれかを次の「パスの設定」セルの `dataset_yaml_path` に設定してください。\")\n",
        "            else:\n",
        "                print(f\"\\n警告: 展開されたディレクトリ内に 'data.yaml' が見つかりませんでした。\")\n",
        "                print(f\"ZIPファイルの内容と展開後の構造を確認し、`data.yaml`への正しいパスを次のセルで設定してください。\")\n",
        "\n",
        "        else:\n",
        "            print(\"(ディレクトリは空か、アクセスできませんでした)\")\n",
        "\n",
        "        print(f\"\\n重要: 次の「パスの設定」セルで、`dataset_yaml_path` が、\")\n",
        "        print(f\"このColab上の展開先ディレクトリ ({colab_dataset_dir}) 内の `data.yaml` を指すように更新してください。\")\n",
        "        print(f'例えば、もしZIP展開後に \"{os.path.join(colab_dataset_dir, \"your_dataset_main_folder\", \"data.yaml\")}\" のような構造になる場合、')\n",
        "        print(f'dataset_yaml_path = \"{os.path.join(colab_dataset_dir, \"your_dataset_main_folder\", \"data.yaml\")}\" のように設定します。')\n",
        "        print(\"ZIPファイル内のフォルダ構造を確認し、適切にパスを修正してください。\")\n",
        "\n",
        "    except zipfile.BadZipFile:\n",
        "        print(f\"エラー: {zip_file_path_on_drive} は有効なZIPファイルではありません。\")\n",
        "    except Exception as e:\n",
        "        print(f\"展開中にエラーが発生しました: {e}\")\n",
        "else:\n",
        "    print(f\"エラー: ZIPファイルが見つかりません: {zip_file_path_on_drive}\")\n",
        "    print(\"Google Drive上のパスを確認してください。\")\n",
        "    print(\"もしZIP展開機能を使用しない場合は、このセルをスキップして問題ありません。\")"
      ]
    },
    {
      "cell_type": "code",
      "execution_count": null,
      "id": "c16d18c8",
      "metadata": {
        "colab": {
          "base_uri": "https://localhost:8080/"
        },
        "id": "c16d18c8",
        "outputId": "ba294691-d153-4079-e390-8654c4603414"
      },
      "outputs": [],
      "source": [
        "import os\n",
        "\n",
        "# --- 重要: これらのパスをGoogle Driveの構造、またはZIP展開後のColab上の構造に合わせて設定してください ---\n",
        "\n",
        "# データセットのdata.yamlファイルへのパス\n",
        "# Google Driveから直接参照する場合の例: '/content/drive/MyDrive/datasets/my_yolo_dataset/data.yaml'\n",
        "# 上のセルでZIPを展開した場合の例: '/content/datasets/my_yolo_dataset_in_zip/data.yaml'\n",
        "# ★★★ この `data.yaml` は、訓練画像/ラベルの場所、クラス名、そして\n",
        "# ★★★ `train: path/to/train.txt` や `val: path/to/val.txt` のように、\n",
        "# ★★★ 訓練用/検証用テキストファイルへのパス（通常はdata.yamlからの相対パス）を定義している必要があります。\n",
        "# ★★★ `train.txt` や `val.txt` は、画像ファイルへのパスのリスト（例: `images/train/frame_000001.png` や `../images/frame_000001.png`）を含みます。\n",
        "dataset_yaml_path = '/content/datasets/dataset/data.yaml' # ★★★ ここをあなたのdata.yamlへの実際のパスに修正してください ★★★\n",
        "\n",
        "# トレーニング結果（重み、ログなど）を保存するGoogle Drive上のディレクトリ\n",
        "# 例: '/content/drive/MyDrive/YOLOv8_Tennis_Project_Outputs'\n",
        "project_output_dir = '/content/drive/MyDrive/models/YOLOv8_Training_Outputs' # ★★★ ここを修正してください ★★★\n",
        "\n",
        "# この特定のトレーニング実行の名前（project_output_dirのサブディレクトリとして作成されます）\n",
        "experiment_name = 'tennis_detection_run1'\n",
        "\n",
        "# --- トレーニングデバイスの設定 ---\n",
        "# 'cpu', 'cuda:0' (または単に 0 や 'gpu'), または 'tpu' を指定\n",
        "# ColabでTPUを使用する場合は、Colabのランタイム設定もTPUに変更する必要があります。\n",
        "training_device = 'cuda:0' # ★★★ 'cpu', 'cuda:0', または 'tpu' に変更 ★★★\n",
        "\n",
        "\n",
        "# --- チェックポイントと再開設定 ---\n",
        "# トレーニングを再開する場合、ここにチェックポイントファイル (.pt) のパスを指定します。\n",
        "# 例: '/content/drive/MyDrive/models/YOLOv8_Training_Outputs/tennis_detection_run1/weights/last.pt'\n",
        "# 新規トレーニングの場合は None または空文字列のままにします。\n",
        "checkpoint_to_resume = None  # ★★★ 再開する場合、ここにチェックポイントのパスを設定 ★★★\n",
        "\n",
        "# 何エポックごとにチェックポイントを保存するか (例: 10エポックごと)\n",
        "# 0または負の値を指定すると、エポックごとの追加保存は行われません (last.ptとbest.ptは常に保存されます)。\n",
        "save_every_n_epochs = 10  # ★★★ 必要に応じて変更 ★★★\n",
        "\n",
        "\n",
        "# --- パス設定終了 ---\n",
        "\n",
        "# プロジェクト出力ディレクトリが存在しない場合は作成\n",
        "os.makedirs(project_output_dir, exist_ok=True)\n",
        "\n",
        "print(f\"データセットのYAMLパス: {dataset_yaml_path}\")\n",
        "print(f\"プロジェクト出力ディレクトリ: {project_output_dir}\")\n",
        "print(f\"実験名: {experiment_name}\")\n",
        "print(f\"トレーニングデバイス: {training_device}\") # ★★★ 追加 ★★★\n",
        "if checkpoint_to_resume and os.path.exists(checkpoint_to_resume):\n",
        "    print(f\"トレーニング再開用チェックポイント: {checkpoint_to_resume}\")\n",
        "elif checkpoint_to_resume:\n",
        "    print(f\"警告: 指定された再開用チェックポイントが見つかりません: {checkpoint_to_resume}\")\n",
        "    print(\"新規トレーニングとして開始されます。\")\n",
        "else:\n",
        "    print(\"新規トレーニングとして開始します。\")\n",
        "print(f\"チェックポイント保存頻度: {save_every_n_epochs} エポックごと (0以下なら無効)\")\n",
        "\n",
        "\n",
        "# データセットのYAMLファイルが存在するか確認\n",
        "if not os.path.exists(dataset_yaml_path):\n",
        "    print(f\"エラー: データセットのYAMLファイルが見つかりません: {dataset_yaml_path}\")\n",
        "    print(\"パスを再確認してください。ZIP展開機能を使用した場合は、展開後のColab上のパスを指定しているか確認してください。\")\n",
        "    print(\"`data.yaml`ファイルが、指定されたパスに正しく配置されていることを確認してください。\")\n",
        "else:\n",
        "    print(\"データセットのYAMLファイルが見つかりました。\")\n",
        "    print(\"このYAMLファイルが、train.txt, val.txt (使用する場合)、画像、ラベルへの正しいパスを含んでいることを確認してください。\")"
      ]
    },
    {
      "cell_type": "markdown",
      "id": "3c5b9aba",
      "metadata": {
        "id": "3c5b9aba"
      },
      "source": [
        "## YOLOv8モデルの初期化とトレーニング"
      ]
    },
    {
      "cell_type": "markdown",
      "id": "4b8799b5",
      "metadata": {},
      "source": [
        "### モデルのロードとトレーニング実行\n",
        "\n",
        "このセルでは、YOLOv8モデルを初期化し、トレーニングを実行します。\n",
        "\n",
        "**チェックポイントからの再開:**\n",
        "前の「パスの設定」セルで `checkpoint_to_resume` に有効なチェックポイントファイル（例: `last.pt` や特定の `epoch_XXX.pt`）のパスが指定されている場合、モデルはそのチェックポイントからロードされ、トレーニングが再開されます。これにより、中断したトレーニングを続けたり、既存のモデルをさらにファインチューニングしたりできます。\n",
        "`checkpoint_to_resume` が `None` であるか、指定されたパスにファイルが存在しない場合は、`model_name` で指定された新しい事前学習済みモデル（例: `yolov8s.pt`）からトレーニングが開始されます。\n",
        "\n",
        "**定期的なチェックポイント保存:**\n",
        "`model.train()` メソッドの `save_period` パラメータに、前のセルで設定した `save_every_n_epochs` の値が渡されます。\n",
        "`save_every_n_epochs` が1以上の場合、指定されたエポック数ごとにモデルの重みが `project_output_dir/experiment_name/weights/epoch_XXX.pt` という名前で保存されます。これにより、トレーニングの途中経過を細かく保存し、必要に応じて特定のエポックから再開できるようになります。\n",
        "\n",
        "**その他のパラメータ:**\n",
        "-   `data`: データセット設定ファイル (`data.yaml`) へのパス。\n",
        "-   `epochs`: 総トレーニングエポック数。\n",
        "-   `imgsz`: 入力画像のサイズ。\n",
        "-   `batch`: バッチサイズ。\n",
        "-   `project`: トレーニング結果が保存される親ディレクトリ。\n",
        "-   `name`: 今回のトレーニング実行固有のサブディレクトリ名。\n",
        "-   `exist_ok=True`: `project/name` ディレクトリが既に存在する場合でもエラーとせず、上書きまたは追記を許可します。\n",
        "-   `device`: トレーニングに使用するデバイス（例: `'cpu'`, `'cuda:0'`, `'tpu'`）。前のセルで設定した `training_device` 変数の値が使用されます。ColabでTPUを使用する場合は、Colabのランタイム設定もTPUに変更する必要があります。\n",
        "\n",
        "トレーニングが開始されると、進行状況、損失、評価メトリクスなどが表示されます。\n",
        "**トレーニングが正常に完了した場合、このセルの処理がすべて終了すると、Colabのランタイムは自動的に切断され、リソースが解放されます。エラーが発生した場合は、ランタイムは切断されません。**"
      ]
    },
    {
      "cell_type": "code",
      "execution_count": null,
      "id": "ae751cb9",
      "metadata": {
        "colab": {
          "base_uri": "https://localhost:8080/"
        },
        "id": "ae751cb9",
        "outputId": "a1000925-daae-40a1-fef9-83e053f03e57"
      },
      "outputs": [],
      "source": [
        "from ultralytics import YOLO\n",
        "import os # osモジュールをインポート (既に上のセルでインポートされている可能性あり)\n",
        "from google.colab import runtime # ランタイム切断のためにインポート\n",
        "\n",
        "# 事前学習済みのYOLOv8モデルをロードするか、チェックポイントから再開\n",
        "# 'yolov8n.pt', 'yolov8s.pt', 'yolov8m.pt', 'yolov8l.pt', 'yolov8x.pt' などのサイズを選択可能\n",
        "# 初めての場合は 'yolov8n.pt' (Nano) または 'yolov8s.pt' (Small) を推奨\n",
        "model_name = 'yolov8s.pt' # 新規トレーニングの場合のデフォルトモデル\n",
        "\n",
        "if checkpoint_to_resume and os.path.exists(checkpoint_to_resume):\n",
        "    print(f\"チェックポイントからトレーニングを再開します: {checkpoint_to_resume}\")\n",
        "    model = YOLO(checkpoint_to_resume)\n",
        "else:\n",
        "    if checkpoint_to_resume: # パスは指定されたが見つからなかった場合\n",
        "        print(f\"警告: 指定されたチェックポイント '{checkpoint_to_resume}' が見つかりませんでした。\")\n",
        "    print(f\"新しい事前学習済みモデル ({model_name}) からトレーニングを開始します。\")\n",
        "    model = YOLO(model_name)\n",
        "\n",
        "\n",
        "# トレーニングのハイパーパラメータを定義\n",
        "num_epochs = 100  # トレーニングエポック数 (例: 50, 100, 200)\n",
        "batch_size = 16   # バッチサイズ (GPU/TPUメモリに応じて調整: 例 8, 16, 32, TPUではより大きな値も可能)\n",
        "img_size = 1920    # 入力画像サイズ (例: 640, 1280)\n",
        "\n",
        "print(f\"モデルのトレーニングを開始します。\")\n",
        "print(f\"使用デバイス: {training_device}\") # ★★★ training_device を表示 ★★★\n",
        "print(f\"エポック数: {num_epochs}, バッチサイズ: {batch_size}, 画像サイズ: {img_size}\")\n",
        "if save_every_n_epochs > 0:\n",
        "    print(f\"チェックポイントは {save_every_n_epochs} エポックごとに保存されます。\")\n",
        "\n",
        "if training_device == 'tpu':\n",
        "    print(\"\\nTPUトレーニングに関する注意:\")\n",
        "    print(\"- ColabのランタイムがTPUに設定されていることを確認してください。\")\n",
        "    print(\"- TPU初期化には時間がかかることがあります。\")\n",
        "    print(\"- バッチサイズはTPUコア数（通常8）の倍数にすると効率が良い場合があります。\")\n",
        "\n",
        "print(\"\\n重要: トレーニングが正常に完了した場合、このセルの最後にランタイムが自動的に切断されます。\")\n",
        "print(\"エラーが発生した場合は、ランタイムは切断されず、エラーメッセージを確認できます。\")\n",
        "print(\"必要なファイルがGoogle Driveに保存される設定になっていることを確認してください。\")\n",
        "\n",
        "# トレーニングを開始\n",
        "training_successful = False\n",
        "try:\n",
        "    results = model.train(\n",
        "        data=dataset_yaml_path,\n",
        "        epochs=num_epochs,\n",
        "        imgsz=img_size,\n",
        "        batch=batch_size,\n",
        "        project=project_output_dir, # すべての実行結果を保存するメインディレクトリ\n",
        "        name=experiment_name,       # この特定の実行のサブディレクトリ\n",
        "        exist_ok=True,              # experiment_nameディレクトリが既に存在する場合は上書きを許可\n",
        "        save_period=save_every_n_epochs if save_every_n_epochs > 0 else -1, # 指定エポックごとに保存 (-1で無効)\n",
        "        device=training_device,     # ★★★ 使用するデバイスを指定 ★★★\n",
        "        # workers=8,                # データローダーのワーカー数 (CPUコア数やデバイスに応じて調整)\n",
        "        # patience=30,              # 早期終了の忍耐値 (例: 30エポック後に改善がない場合に停止)\n",
        "        # lr0=0.01,                 # 初期学習率\n",
        "        # optimizer='AdamW',        # オプティマイザ (例: 'SGD', 'Adam', 'AdamW')\n",
        "    )\n",
        "    print(\"\\nトレーニングが正常に完了しました！\")\n",
        "    print(f\"結果、ログ、モデルの重みは次の場所に保存されました: {os.path.join(project_output_dir, experiment_name)}\")\n",
        "    training_successful = True\n",
        "\n",
        "    print(\"\\nトレーニングが正常に完了したため、ランタイムを切断します...\")\n",
        "    print(\"必要なファイルがGoogle Driveに保存されていることを確認してください。\")\n",
        "    print(\"ランタイム切断中...\")\n",
        "    runtime.unassign()\n",
        "    # このprint文はランタイム切断後には表示されない可能性があります\n",
        "    print(\"ランタイムが切断されました。Colabの接続は解除されます。\")\n",
        "\n",
        "except Exception as e:\n",
        "    print(f\"\\nトレーニング中にエラーが発生しました: {e}\")\n",
        "    print(\"エラーが発生したため、ランタイムは切断されません。エラー内容を確認してください。\")\n",
        "finally:\n",
        "    if not training_successful:\n",
        "        print(\"\\nこのセルの処理は終了しましたが、トレーニング中にエラーが発生したか、正常に完了しませんでした。\")\n",
        "    # training_successful が True の場合は、tryブロック内でランタイム切断メッセージが表示される"
      ]
    },
    {
      "cell_type": "code",
      "execution_count": null,
      "id": "958dd4e0",
      "metadata": {},
      "outputs": [],
      "source": [
        "import gc\n",
        "import os\n",
        "\n",
        "# 1. Pythonのガベージコレクションを実行\n",
        "gc.collect()\n",
        "print(\"Pythonのガベージコレクションを実行しました。\")\n",
        "\n",
        "# 2. PyTorchのGPUキャッシュをクリア (ultralyticsは内部でPyTorchを使用)\n",
        "try:\n",
        "    import torch\n",
        "    if torch.cuda.is_available():\n",
        "        torch.cuda.empty_cache()\n",
        "        print(\"PyTorchのGPUキャッシュをクリアしました。\")\n",
        "    else:\n",
        "        print(\"CUDAが利用できないため、PyTorchのGPUキャッシュクリアはスキップされました。\")\n",
        "except ImportError:\n",
        "    print(\"PyTorchが見つからないため、GPUキャッシュのクリアはスキップされました。\")\n",
        "except Exception as e:\n",
        "    print(f\"PyTorch GPUキャッシュクリア中にエラーが発生しました: {e}\")\n",
        "\n",
        "# 3. pipのキャッシュをクリア\n",
        "print(\"\\npipのキャッシュをクリアしています...\")\n",
        "!pip cache purge\n",
        "# 上のコマンドの出力がColabのセルに表示されます。\n",
        "# 成功メッセージはpipのバージョンによって異なる場合があります。\n",
        "print(\"pipのキャッシュクリアコマンドを実行しました。\")\n",
        "\n",
        "\n",
        "print(\"\\n--- キャッシュクリア操作に関する補足 ---\")\n",
        "print(\"上記はいくつかの一般的なキャッシュクリア操作です。\")\n",
        "print(\"最も効果的にRAMとGPUメモリをリセットする方法は、Colabのメニューから\")\n",
        "print(\"「ランタイム」->「ランタイムを再起動」を選択することです。\")\n",
        "print(\"ただし、この操作を行うと、現在のセッションの変数や状態はすべて失われますのでご注意ください。\")\n",
        "print(\"トレーニングの最後にランタイムを切断する (`runtime.unassign()`) のも、リソース解放の確実な方法です。\")\n"
      ]
    },
    {
      "cell_type": "markdown",
      "id": "3b335778",
      "metadata": {
        "id": "3b335778"
      },
      "source": [
        "## トレーニング結果と保存されたモデル\n",
        "\n",
        "トレーニング後、結果（メトリクス、混同行列、モデルの重みなど）は指定したディレクトリに保存されます：\n",
        "`{project_output_dir}/{experiment_name}`\n",
        "\n",
        "確認すべき主なファイル：\n",
        "- **重み:** `weights`サブディレクトリ内 (例: `best.pt`, `last.pt`)\n",
        "  - `best.pt`: 最良の検証メトリクス（通常はmAP50-95）を達成したモデルの重み。このモデルを推論に使用するのが一般的です。\n",
        "  - `last.pt`: トレーニングの最終エポックのモデルの重み。\n",
        "  - `epoch_XXX.pt` (例: `epoch_10.pt`, `epoch_20.pt`): `save_period` で指定されたエポックごとに保存されるチェックポイント。これらを使用して特定のエポックからトレーニングを再開したり、その時点でのモデル性能を評価したりできます。\n",
        "- **結果CSV:** `results.csv`にはエポックごとのメトリクスの概要が含まれています。\n",
        "- **プロット:** 混同行列、P-R曲線などのさまざまなプロット (例: `confusion_matrix.png`, `PR_curve.png`)\n",
        "\n",
        "これらのファイルはGoogle Driveからダウンロードできます。"
      ]
    },
    {
      "cell_type": "code",
      "execution_count": null,
      "id": "ff686fb1",
      "metadata": {
        "id": "ff686fb1"
      },
      "outputs": [],
      "source": [
        "# 実験の重みディレクトリ内のファイルをリストアップする例\n",
        "weights_dir = os.path.join(project_output_dir, experiment_name, 'weights')\n",
        "if os.path.exists(weights_dir):\n",
        "    print(f\"\\n重みディレクトリ内のファイル ({weights_dir}):\")\n",
        "    for f_name in os.listdir(weights_dir):\n",
        "        print(f\"- {f_name}\")\n",
        "else:\n",
        "    print(f\"\\n重みディレクトリが見つかりません: {weights_dir}\")\n",
        "    print(\"トレーニングが完了していないか、エラーが発生した可能性があります。\")\n",
        "\n",
        "# トレーニング済みモデルの最良の重みへのパス（後で推論に使用可能）\n",
        "best_model_path = os.path.join(weights_dir, 'best.pt')\n",
        "print(f\"\\n最良のモデルへのパス: {best_model_path}\")\n",
        "if os.path.exists(best_model_path):\n",
        "    print(\"最良のモデルファイル (best.pt) が見つかりました。\")\n",
        "else:\n",
        "    print(\"最良のモデルファイル (best.pt) が見つかりません。トレーニングが失敗したか、生成されなかった可能性があります。\")"
      ]
    }
  ],
  "metadata": {
    "accelerator": "GPU",
    "colab": {
      "gpuType": "T4",
      "include_colab_link": true,
      "provenance": []
    },
    "kernelspec": {
      "display_name": "Python 3",
      "name": "python3"
    },
    "language_info": {
      "name": "python"
    }
  },
  "nbformat": 4,
  "nbformat_minor": 5
}
