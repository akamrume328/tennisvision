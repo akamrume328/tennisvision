{
 "cells": [
  {
   "cell_type": "markdown",
   "metadata": {
    "colab_type": "text",
    "id": "view-in-github"
   },
   "source": [
    "<a href=\"https://colab.research.google.com/github/akamrume328/tennisvision/blob/feature%2F%231/notebooks/2_model_training_colab.ipynb\" target=\"_parent\"><img src=\"https://colab.research.google.com/assets/colab-badge.svg\" alt=\"Open In Colab\"/></a>"
   ]
  },
  {
   "cell_type": "markdown",
   "id": "d5ab6392",
   "metadata": {
    "id": "d5ab6392"
   },
   "source": [
    "# Google ColabでのYOLOv8モデルのトレーニング (GCS対応版)\n",
    "\n",
    "このノートブックは、Google Cloud Storage (GCS) に保存されたカスタムデータセットを使用して、Google Colab上でYOLOv8モデルをトレーニングするためのものです。\n",
    "以下の内容をカバーします：\n",
    "1. Google Cloud Storage (GCS) への認証とgcsfuseのインストール。\n",
    "2. `ultralytics`ライブラリのインストール。\n",
    "3. **データセットの準備とGoogle Cloud Storage (GCS) へのアップロード**:\n",
    "   - YOLOv8形式のデータセット（画像ファイル群、対応するラベルファイル群、そしてデータセット設定ファイル `data.yaml`）を準備します。\n",
    "   - `data.yaml` には、クラス名、クラス数、そして訓練データと検証データへのパスを記述します。これらのパスは相対パスで記述し、gcsfuseマウント後にローカルファイルのようにアクセスできます。\n",
    "   - 準備したデータセット全体（画像、ラベル、`data.yaml`等）をGCSバケットにアップロードします。\n",
    "4. gcsfuseによるGCSバケットのマウントとパス設定。\n",
    "5. YOLOv8モデルのトレーニング。\n",
    "6. トレーニング済みモデルと結果のGCS上の保存場所に関する情報。"
   ]
  },
  {
   "cell_type": "code",
   "execution_count": null,
   "id": "c66446dc",
   "metadata": {
    "colab": {
     "base_uri": "https://localhost:8080/"
    },
    "id": "c66446dc",
    "outputId": "e07bb9e6-e6d7-4758-d9a8-090ebbb7a4ea"
   },
   "outputs": [
    {
     "name": "stdout",
     "output_type": "stream",
     "text": [
      "Mounted at /content/drive\n"
     ]
    }
   ],
   "source": [
    "# Google Cloud SDKへの認証\n",
    "from google.colab import auth\n",
    "auth.authenticate_user()\n",
    "\n",
    "# (オプション) Google CloudプロジェクトIDを設定\n",
    "# project_id = \"your-gcp-project-id\" # ★★★ あなたのGCPプロジェクトIDに置き換えてください ★★★\n",
    "# !gcloud config set project {project_id}\n",
    "# print(f\"Google CloudプロジェクトIDが {project_id} に設定されました。\")\n",
    "print(\"Google Cloud SDKへの認証が完了しました。\")"
   ]
  },
  {
   "cell_type": "code",
   "execution_count": null,
   "id": "a022ae71",
   "metadata": {},
   "outputs": [],
   "source": [
    "# gcsfuseのインストールとセットアップ\n",
    "!echo \"deb http://packages.cloud.google.com/apt gcsfuse-bionic main\" | sudo tee /etc/apt/sources.list.d/gcsfuse.list\n",
    "!curl https://packages.cloud.google.com/apt/doc/apt-key.gpg | sudo apt-key add -\n",
    "!sudo apt-get update\n",
    "!sudo apt-get install gcsfuse -y\n",
    "\n",
    "print(\"gcsfuseのインストールが完了しました。\")"
   ]
  },
  {
   "cell_type": "code",
   "execution_count": null,
   "id": "6592aac0",
   "metadata": {
    "colab": {
     "base_uri": "https://localhost:8080/"
    },
    "id": "6592aac0",
    "outputId": "4eb8739d-8280-4550-bcdc-a98a933af111"
   },
   "outputs": [],
   "source": [
    "# ultralyticsライブラリをインストール\n",
    "!pip install ultralytics\n",
    "print(\"ultralyticsライブラリのインストールが完了しました。\")"
   ]
  },
  {
   "cell_type": "markdown",
   "id": "14366889",
   "metadata": {
    "id": "14366889"
   },
   "source": [
    "## Gitのセットアップ (オプション)\n",
    "\n",
    "Colabから直接Gitリポジトリにコミットやプッシュを行いたい場合、以下のセルでGitのユーザー名とメールアドレスを設定します。\n",
    "これは、コミット履歴に記録される作成者情報となります。\n",
    "\n",
    "**注意:** ここで設定するメールアドレスやユーザー名は公開される可能性があるため、取り扱いに注意してください。"
   ]
  },
  {
   "cell_type": "code",
   "execution_count": null,
   "id": "87bf24c7",
   "metadata": {
    "colab": {
     "base_uri": "https://localhost:8080/"
    },
    "id": "87bf24c7",
    "outputId": "32b4bd6b-b736-48d6-d989-79e64ea64e15"
   },
   "outputs": [
    {
     "name": "stdout",
     "output_type": "stream",
     "text": [
      "Gitのユーザー名とメールアドレスが設定されました。\n",
      "user.name=akamrume328\n",
      "user.email=akamarume@icloud.com\n"
     ]
    }
   ],
   "source": [
    "# Gitのユーザー名とメールアドレスを設定\n",
    "# 以下の \"Your Name\" と \"youremail@example.com\" をご自身のものに置き換えてください。\n",
    "!git config --global user.name \"akamrume328\" # ★★★ あなたの名前に置き換えてください ★★★\n",
    "!git config --global user.email \"akamarume@icloud.com\" # ★★★ あなたのメールアドレスに置き換えてください ★★★\n",
    "\n",
    "print(\"Gitのユーザー名とメールアドレスが設定されました。\")\n",
    "!git config --global --list # 設定内容の確認"
   ]
  },
  {
   "cell_type": "markdown",
   "id": "2f6cdf35",
   "metadata": {
    "id": "2f6cdf35"
   },
   "source": [
    "## パスの設定\n",
    "\n",
    "データセットの`data.yaml`ファイルと、トレーニング結果（例: モデルの重み、ログ）を保存するディレクトリのパスを定義します。"
   ]
  },
  {
   "cell_type": "markdown",
   "id": "83abd33a",
   "metadata": {
    "id": "83abd33a"
   },
   "source": [
    "## GCSバケットのマウント\n",
    "\n",
    "gcsfuseを使用してGCSバケットをColabのローカルファイルシステムにマウントします。\n",
    "これにより、GCS上のファイルにローカルファイルのようにアクセスできるようになります。\n",
    "\n",
    "**注意:**\n",
    "- マウントするGCSバケット名 (`bucket_name`) をご自身の環境に合わせて設定してください。\n",
    "- マウントポイント (`mount_point`) は通常 `/content/gcs` などのディレクトリを使用します。\n",
    "- Colabのセッションが終了すると、マウントは解除されます。再度ノートブックを実行する際には、このセルも再実行する必要があります。\n",
    "- マウント後は、`/content/gcs/path/to/file` のようなローカルパスでGCS上のファイルにアクセスできます。"
   ]
  },
  {
   "cell_type": "code",
   "execution_count": null,
   "id": "08e6e562",
   "metadata": {
    "colab": {
     "base_uri": "https://localhost:8080/"
    },
    "id": "08e6e562",
    "outputId": "1610237e-aeb2-4052-a902-8ecc6655a54d"
   },
   "outputs": [],
   "source": [
    "import os\n",
    "import subprocess\n",
    "\n",
    "# --- ★★★ ユーザー設定項目 ★★★ ---\n",
    "# マウントするGCSバケット名 (gs:// プレフィックスは不要)\n",
    "bucket_name = 'tennis_vision_dataset'  # ★★★ あなたのGCSバケット名に置き換えてください ★★★\n",
    "\n",
    "# GCSバケットをマウントするローカルディレクトリ\n",
    "mount_point = '/content/gcs'  # ★★★ 必要であれば変更してください ★★★\n",
    "\n",
    "# --- ★★★ 設定項目終了 ★★★ ---\n",
    "\n",
    "# マウントポイントディレクトリを作成\n",
    "if not os.path.exists(mount_point):\n",
    "    os.makedirs(mount_point)\n",
    "    print(f\"マウントポイントディレクトリを作成しました: {mount_point}\")\n",
    "else:\n",
    "    print(f\"マウントポイントディレクトリは既に存在します: {mount_point}\")\n",
    "\n",
    "# 既にマウントされているかチェック\n",
    "def is_mounted(mount_point):\n",
    "    result = subprocess.run(['mountpoint', '-q', mount_point])\n",
    "    return result.returncode == 0\n",
    "\n",
    "if is_mounted(mount_point):\n",
    "    print(f\"警告: {mount_point} は既にマウントされています。\")\n",
    "    print(\"既存のマウントをアンマウントしています...\")\n",
    "    subprocess.run(['sudo', 'umount', mount_point])\n",
    "\n",
    "# gcsfuseを使用してGCSバケットをマウント\n",
    "print(f\"GCSバケット '{bucket_name}' を {mount_point} にマウントしています...\")\n",
    "mount_command = ['gcsfuse', '--implicit-dirs', bucket_name, mount_point]\n",
    "mount_process = subprocess.run(mount_command, capture_output=True, text=True)\n",
    "\n",
    "if mount_process.returncode == 0:\n",
    "    print(f\"GCSバケットのマウントが完了しました: gs://{bucket_name} -> {mount_point}\")\n",
    "    \n",
    "    # マウント成功の確認\n",
    "    print(f\"\\nマウントポイント ({mount_point}) の内容:\")\n",
    "    try:\n",
    "        items = os.listdir(mount_point)\n",
    "        if items:\n",
    "            for item in items[:10]:  # 最初の10項目のみ表示\n",
    "                print(f\"- {item}\")\n",
    "            if len(items) > 10:\n",
    "                print(f\"... (他に {len(items) - 10} 個のアイテムがあります)\")\n",
    "        else:\n",
    "            print(\"(バケットは空か、アクセス権限がありません)\")\n",
    "    except Exception as e:\n",
    "        print(f\"マウントポイントの内容を確認できませんでした: {e}\")\n",
    "    \n",
    "    print(f\"\\n重要: 次の「パスの設定」セルで、パスを {mount_point} 以下のローカルパスに設定してください。\")\n",
    "    print(f\"例: dataset_yaml_path = '{mount_point}/datasets/data.yaml'\")\n",
    "    print(f\"例: project_output_dir = '{mount_point}/models/YOLOv8_Training_Outputs'\")\n",
    "    \n",
    "else:\n",
    "    print(f\"エラー: GCSバケットのマウントに失敗しました。\")\n",
    "    print(f\"エラー出力: {mount_process.stderr}\")\n",
    "    print(\"バケット名やアクセス権限を確認してください。\")\n",
    "    print(f\"バケット '{bucket_name}' が存在し、適切なアクセス権限があることを確認してください。\")"
   ]
  },
  {
   "cell_type": "code",
   "execution_count": null,
   "id": "c16d18c8",
   "metadata": {
    "colab": {
     "base_uri": "https://localhost:8080/"
    },
    "id": "c16d18c8",
    "outputId": "ba294691-d153-4079-e390-8654c4603414"
   },
   "outputs": [],
   "source": [
    "import os\n",
    "\n",
    "# --- 重要: これらのパスをマウントしたGCSバケット内の構造に合わせて設定してください ---\n",
    "\n",
    "# データセットのdata.yamlファイルへのパス (マウントポイント以下のローカルパス)\n",
    "# 例: '/content/gcs/datasets/data.yaml'\n",
    "dataset_yaml_path = '/content/gcs/final_merged_dataset/data.yaml'  # ★★★ ここをマウントされたGCS内のdata.yamlへの実際のパスに修正してください ★★★\n",
    "\n",
    "# トレーニング結果（重み、ログなど）を保存するディレクトリ (マウントポイント以下のローカルパス)\n",
    "# 例: '/content/gcs/models/YOLOv8_Training_Outputs'\n",
    "project_output_dir = '/content/gcs/models/YOLOv8_Training_Outputs'  # ★★★ ここをマウントされたGCS内のパスに修正してください ★★★\n",
    "\n",
    "# この特定のトレーニング実行の名前（project_output_dirのサブディレクトリとして作成されます）\n",
    "experiment_name = 'tennis_detection_gcs_run1'\n",
    "\n",
    "# --- トレーニングデバイスの設定 ---\n",
    "# 'cpu' または 'cuda:0' (または単に 0 や 'gpu') を指定\n",
    "training_device = 'cuda:0' # ★★★ 'cpu' または 'cuda:0' に変更 ★★★\n",
    "\n",
    "# --- チェックポイントと再開設定 ---\n",
    "# トレーニングを再開する場合、ここにチェックポイントファイル (.pt) のローカルパス（マウントポイント以下）を指定します。\n",
    "# 例: '/content/gcs/models/YOLOv8_Training_Outputs/tennis_detection_gcs_run1/weights/last.pt'\n",
    "# 新規トレーニングの場合は None または空文字列のままにします。\n",
    "checkpoint_to_resume = None  # ★★★ 再開する場合、ここにチェックポイントのローカルパスを設定 ★★★\n",
    "\n",
    "# 何エポックごとにチェックポイントを保存するか (例: 10エポックごと)\n",
    "save_every_n_epochs = 10  # ★★★ 必要に応じて変更 ★★★\n",
    "\n",
    "# --- パス設定終了 ---\n",
    "\n",
    "# プロジェクト出力ディレクトリが存在しない場合は作成\n",
    "os.makedirs(project_output_dir, exist_ok=True)\n",
    "\n",
    "print(f\"データセットのYAMLパス: {dataset_yaml_path}\")\n",
    "print(f\"プロジェクト出力ディレクトリ: {project_output_dir}\")\n",
    "print(f\"実験名: {experiment_name}\")\n",
    "print(f\"トレーニングデバイス: {training_device}\")\n",
    "\n",
    "if checkpoint_to_resume:\n",
    "    if os.path.exists(checkpoint_to_resume):\n",
    "        print(f\"トレーニング再開用チェックポイント: {checkpoint_to_resume}\")\n",
    "    else:\n",
    "        print(f\"警告: 指定された再開用チェックポイントが見つかりません: {checkpoint_to_resume}\")\n",
    "        print(\"新規トレーニングとして開始されます。\")\n",
    "        checkpoint_to_resume = None\n",
    "else:\n",
    "    print(\"新規トレーニングとして開始します。\")\n",
    "print(f\"チェックポイント保存頻度: {save_every_n_epochs} エポックごと (0以下なら無効)\")\n",
    "\n",
    "# データセットのYAMLファイルの存在を確認\n",
    "if not os.path.exists(dataset_yaml_path):\n",
    "    print(f\"エラー: データセットのYAMLファイルが見つかりません: {dataset_yaml_path}\")\n",
    "    print(\"パスを再確認してください。GCSバケットが正しくマウントされ、ファイルが存在することを確認してください。\")\n",
    "else:\n",
    "    print(\"データセットのYAMLファイルが見つかりました。\")\n",
    "    \n",
    "    # data.yamlの内容を確認\n",
    "    try:\n",
    "        with open(dataset_yaml_path, 'r') as f:\n",
    "            yaml_content = f.read()\n",
    "        print(\"\\ndata.yamlの内容:\")\n",
    "        print(yaml_content[:500] + \"...\" if len(yaml_content) > 500 else yaml_content)\n",
    "        \n",
    "        # データセットディレクトリの構造を確認\n",
    "        dataset_dir = os.path.dirname(dataset_yaml_path)\n",
    "        print(f\"\\nデータセットディレクトリ ({dataset_dir}) の構造:\")\n",
    "        for root, dirs, files in os.walk(dataset_dir):\n",
    "            level = root.replace(dataset_dir, '').count(os.sep)\n",
    "            indent = ' ' * 2 * level\n",
    "            print(f\"{indent}{os.path.basename(root)}/\")\n",
    "            subindent = ' ' * 2 * (level + 1)\n",
    "            for file in files[:5]:  # 最初の5ファイルのみ表示\n",
    "                print(f\"{subindent}{file}\")\n",
    "            if len(files) > 5:\n",
    "                print(f\"{subindent}... (他に {len(files) - 5} 個のファイル)\")\n",
    "    except Exception as e:\n",
    "        print(f\"data.yamlまたはデータセット構造の確認中にエラーが発生しました: {e}\")"
   ]
  },
  {
   "cell_type": "markdown",
   "id": "3c5b9aba",
   "metadata": {
    "id": "3c5b9aba"
   },
   "source": [
    "## YOLOv8モデルの初期化とトレーニング"
   ]
  },
  {
   "cell_type": "markdown",
   "id": "4b8799b5",
   "metadata": {},
   "source": [
    "### モデルのロードとトレーニング実行\n",
    "\n",
    "このセルでは、YOLOv8モデルを初期化し、トレーニングを実行します。\n",
    "\n",
    "**チェックポイントからの再開:**\n",
    "前の「パスの設定」セルで `checkpoint_to_resume` に有効なチェックポイントファイル（例: `last.pt` や特定の `epoch_XXX.pt`）のパスが指定されている場合、モデルはそのチェックポイントからロードされ、トレーニングが再開されます。これにより、中断したトレーニングを続けたり、既存のモデルをさらにファインチューニングしたりできます。\n",
    "`checkpoint_to_resume` が `None` であるか、指定されたパスにファイルが存在しない場合は、`model_name` で指定された新しい事前学習済みモデル（例: `yolov8s.pt`）からトレーニングが開始されます。\n",
    "\n",
    "**定期的なチェックポイント保存:**\n",
    "`model.train()` メソッドの `save_period` パラメータに、前のセルで設定した `save_every_n_epochs` の値が渡されます。\n",
    "`save_every_n_epochs` が1以上の場合、指定されたエポック数ごとにモデルの重みが `project_output_dir/experiment_name/weights/epoch_XXX.pt` という名前で保存されます。これにより、トレーニングの途中経過を細かく保存し、必要に応じて特定のエポックから再開できるようになります。\n",
    "\n",
    "**その他のパラメータ:**\n",
    "-   `data`: データセット設定ファイル (`data.yaml`) へのパス。\n",
    "-   `epochs`: 総トレーニングエポック数。\n",
    "-   `imgsz`: 入力画像のサイズ。\n",
    "-   `batch`: バッチサイズ。\n",
    "-   `project`: トレーニング結果が保存される親ディレクトリ。\n",
    "-   `name`: 今回のトレーニング実行固有のサブディレクトリ名。\n",
    "-   `exist_ok=True`: `project/name` ディレクトリが既に存在する場合でもエラーとせず、上書きまたは追記を許可します。\n",
    "-   `device`: トレーニングに使用するデバイス（例: `'cpu'`, `'cuda:0'`）。前のセルで設定した `training_device` 変数の値が使用されます。\n",
    "\n",
    "トレーニングが開始されると、進行状況、損失、評価メトリクスなどが表示されます。\n",
    "**トレーニングが正常に完了した場合、このセルの処理がすべて終了すると、Colabのランタイムは自動的に切断され、リソースが解放されます。エラーが発生した場合は、ランタイムは切断されません。**"
   ]
  },
  {
   "cell_type": "code",
   "execution_count": null,
   "id": "58fe56dc",
   "metadata": {},
   "outputs": [],
   "source": [
    "from ultralytics import YOLO\n",
    "import os\n",
    "from google.colab import runtime\n",
    "import torch\n",
    "\n",
    "# GPU メモリクリア関数を定義\n",
    "def clear_gpu_memory():\n",
    "    try:\n",
    "        import torch\n",
    "        if torch.cuda.is_available():\n",
    "            torch.cuda.empty_cache()\n",
    "            print(\"GPUメモリキャッシュをクリアしました。\")\n",
    "        else:\n",
    "            print(\"CUDAが利用できないため、GPUメモリクリアはスキップされました。\")\n",
    "    except Exception as e:\n",
    "        print(f\"GPUメモリクリア中にエラーが発生しました: {e}\")\n",
    "\n",
    "# 事前学習済みのYOLOv8モデルをロードするか、チェックポイントから再開\n",
    "# 'yolov8n.pt', 'yolov8s.pt', 'yolov8m.pt', 'yolov8l.pt', 'yolov8x.pt' などのサイズを選択可能\n",
    "# 初めての場合は 'yolov8n.pt' (Nano) または 'yolov8s.pt' (Small) を推奨\n",
    "model_name = 'yolov8x.pt' # 新規トレーニングの場合のデフォルトモデル\n",
    "\n",
    "model_load_path = model_name # デフォルトは新規モデル\n",
    "if checkpoint_to_resume and os.path.exists(checkpoint_to_resume):\n",
    "    print(f\"チェックポイントからトレーニングを再開します: {checkpoint_to_resume}\")\n",
    "    model_load_path = checkpoint_to_resume\n",
    "elif checkpoint_to_resume:\n",
    "    print(f\"指定されたチェックポイント '{checkpoint_to_resume}' が見つからなかったため、新しい事前学習済みモデル ({model_name}) からトレーニングを開始します。\")\n",
    "else:\n",
    "    print(f\"新しい事前学習済みモデル ({model_name}) からトレーニングを開始します。\")\n",
    "\n",
    "model = YOLO(model_load_path)\n",
    "\n",
    "# トレーニングのハイパーパラメータを定義\n",
    "num_epochs = 150  # トレーニングエポック数 (例: 50, 100, 200)\n",
    "batch_size = 16   # バッチサイズ (GPU/CPUメモリに応じて調整: 例 8, 16, 32)\n",
    "img_size = 1920    # 入力画像サイズ (例: 640, 1280)\n",
    "\n",
    "# A100 向け追加チューニング\n",
    "workers   = 8         # DataLoaderの並列数\n",
    "lr0       = 0.001     # 初期学習率\n",
    "optimizer = 'AdamW'   # オプティマイザ\n",
    "amp       = True      # 混合精度トレーニングを有効化 (FP16)\n",
    "\n",
    "\n",
    "print(f\"モデルのトレーニングを開始します。\")\n",
    "print(f\"使用デバイス: {training_device}\")\n",
    "print(f\"エポック数: {num_epochs}, バッチサイズ: {batch_size}, 画像サイズ: {img_size}\")\n",
    "if save_every_n_epochs > 0:\n",
    "    print(f\"チェックポイントは {save_every_n_epochs} エポックごとに保存されます。\")\n",
    "\n",
    "print(\"\\n重要: トレーニングが正常に完了した場合、このセルの最後にランタイムが自動的に切断されます。\")\n",
    "print(\"エラーが発生した場合は、ランタイムは切断されず、エラーメッセージを確認できます。\")\n",
    "print(f\"トレーニング結果はマウントされたGCSディレクトリ ({project_output_dir}) に保存される設定になっています。\")\n",
    "\n",
    "# トレーニングを開始\n",
    "training_successful = False\n",
    "try:\n",
    "    print(\"=== トレーニング開始前のGPUメモリクリア ===\")\n",
    "    clear_gpu_memory()\n",
    "\n",
    "    results = model.train(\n",
    "        data=dataset_yaml_path,\n",
    "        epochs=num_epochs,\n",
    "        imgsz=img_size,\n",
    "        batch=batch_size,\n",
    "        project=project_output_dir, # すべての実行結果を保存するマウントされたGCS上のメインディレクトリ\n",
    "        name=experiment_name,       # この特定の実行のサブディレクトリ\n",
    "        exist_ok=True,              # experiment_nameディレクトリが既に存在する場合は上書きを許可\n",
    "        save_period=save_every_n_epochs if save_every_n_epochs > 0 else -1, # 指定エポックごとに保存 (-1で無効)\n",
    "        device=training_device,\n",
    "        workers=workers,                # データローダーのワーカー数 (CPUコア数やデバイスに応じて調整)\n",
    "        # patience=30,              # 早期終了の忍耐値 (例: 30エポック後に改善がない場合に停止)\n",
    "        lr0=lr0,                 # 初期学習率\n",
    "        optimizer= optimizer,\n",
    "        amp= amp、、        # オプティマイザ (例: 'SGD', 'Adam', 'AdamW')\n",
    "        cache=True\n",
    "    )\n",
    "    print(\"\\nトレーニングが正常に完了しました！\")\n",
    "    full_output_path = os.path.join(project_output_dir, experiment_name)\n",
    "    print(f\"結果、ログ、モデルの重みはマウントされたGCS上の次の場所に保存されました: {full_output_path}\")\n",
    "    training_successful = True\n",
    "\n",
    "    print(\"\\nトレーニングが正常に完了したため、ランタイムを切断します...\")\n",
    "    print(f\"必要なファイルがGCS ({full_output_path}) に保存されていることを確認してください。\")\n",
    "    print(\"ランタイム切断中...\")\n",
    "    runtime.unassign()\n",
    "    print(\"ランタイムが切断されました。Colabの接続は解除されます。\")\n",
    "\n",
    "except torch.cuda.OutOfMemoryError as e:\n",
    "    print(\"GPU OOM エラーが発生しました:\", e)\n",
    "    print(\"GPUメモリをクリアします...\")\n",
    "    clear_gpu_memory()\n",
    "    print(\"バッチサイズを小さくするか、画像サイズを下げることを検討してください。\")\n",
    "except Exception as e:\n",
    "    print(f\"トレーニング中に予期せぬエラーが発生しました: {e}\")\n",
    "    import traceback\n",
    "    traceback.print_exc()\n",
    "finally:\n",
    "    if not training_successful:\n",
    "        print(\"\\nこのセルの処理は終了しましたが、トレーニング中にエラーが発生したか、正常に完了しませんでした。\")\n",
    "        print(f\"エラーが発生した場合でも、部分的な結果がGCS ({os.path.join(project_output_dir, experiment_name)}) に保存されている可能性があります。\")"
   ]
  },
  {
   "cell_type": "markdown",
   "id": "3b335778",
   "metadata": {
    "id": "3b335778"
   },
   "source": [
    "## トレーニング結果と保存されたモデル\n",
    "\n",
    "トレーニング後、結果（メトリクス、混同行列、モデルの重みなど）は指定したマウントされたGCSディレクトリに保存されます：\n",
    "`{project_output_dir}/{experiment_name}` (例: `/content/gcs/models/YOLOv8_Training_Outputs/tennis_detection_gcs_run1`)\n",
    "\n",
    "確認すべき主なファイル：\n",
    "- **重み:** `weights`サブディレクトリ内 (例: `best.pt`, `last.pt`)\n",
    "  - `best.pt`: 最良の検証メトリクス（通常はmAP50-95）を達成したモデルの重み。このモデルを推論に使用するのが一般的です。\n",
    "  - `last.pt`: トレーニングの最終エポックのモデルの重み。\n",
    "  - `epoch_XXX.pt` (例: `epoch_10.pt`, `epoch_20.pt`): `save_period` で指定されたエポックごとに保存されるチェックポイント。これらを使用して特定のエポックからトレーニングを再開したり、その時点でのモデル性能を評価したりできます。\n",
    "- **結果CSV:** `results.csv`にはエポックごとのメトリクスの概要が含まれています。\n",
    "- **プロット:** 混同行列、P-R曲線などのさまざまなプロット (例: `confusion_matrix.png`, `PR_curve.png`)\n",
    "\n",
    "これらのファイルは自動的にGCSに同期されるため、マウントが解除された後でもGCS上で利用できます。"
   ]
  },
  {
   "cell_type": "code",
   "execution_count": null,
   "id": "ff686fb1",
   "metadata": {
    "id": "ff686fb1"
   },
   "outputs": [],
   "source": [
    "import os\n",
    "\n",
    "# 実験の重みディレクトリ (マウントされたローカルパス)\n",
    "weights_dir = os.path.join(project_output_dir, experiment_name, 'weights')\n",
    "\n",
    "print(f\"\\n重みディレクトリ内のファイルをリストアップします ({weights_dir}):\")\n",
    "\n",
    "if os.path.exists(weights_dir):\n",
    "    try:\n",
    "        files_in_weights_dir = os.listdir(weights_dir)\n",
    "        if files_in_weights_dir:\n",
    "            for f_name in files_in_weights_dir:\n",
    "                print(f\"- {f_name}\")\n",
    "        else:\n",
    "            print(f\"重みディレクトリ ({weights_dir}) は空です。\")\n",
    "            print(\"トレーニングが完了していないか、エラーが発生した可能性があります。\")\n",
    "    except Exception as e:\n",
    "        print(f\"重みディレクトリの内容を読み取れませんでした: {e}\")\n",
    "else:\n",
    "    print(f\"\\n重みディレクトリが見つかりません: {weights_dir}\")\n",
    "    print(\"トレーニングが完了していないか、エラーが発生した可能性があります。\")\n",
    "\n",
    "# トレーニング済みモデルの最良の重みへのローカルパス\n",
    "best_model_path = os.path.join(weights_dir, 'best.pt')\n",
    "print(f\"\\n最良のモデルへのローカルパス: {best_model_path}\")\n",
    "\n",
    "if os.path.exists(best_model_path):\n",
    "    print(\"最良のモデルファイル (best.pt) が見つかりました。\")\n",
    "    # ファイルサイズも表示\n",
    "    try:\n",
    "        file_size = os.path.getsize(best_model_path)\n",
    "        print(f\"ファイルサイズ: {file_size / (1024*1024):.1f} MB\")\n",
    "    except Exception as e:\n",
    "        print(f\"ファイルサイズを取得できませんでした: {e}\")\n",
    "else:\n",
    "    print(\"最良のモデルファイル (best.pt) が見つかりません。トレーニングが失敗したか、生成されなかった可能性があります。\")\n",
    "\n",
    "print(f\"\\n注意: ファイルは自動的にGCSバケット (gs://{bucket_name}) に同期されています。\")"
   ]
  },
  {
   "cell_type": "markdown",
   "id": "175b12a5",
   "metadata": {},
   "source": [
    "## 推奨ハイパーパラメーター設定\n",
    "\n",
    "YOLOv8xで8400フレーム（imgsz=1920）を学習させる際の目安：\n",
    "\n",
    "- エポック数: **30～50**  \n",
    "  - 少ないデータでは早期停止(Early Stopping)を有効にし、学習曲線を監視  \n",
    "- バッチサイズ(batch): **8～16**  \n",
    "  - A100(40GB)：batch=16 まで可能。OOM時は batch=8 に  \n",
    "- 学習率(lr0): **0.01**  \n",
    "- オプティマイザ: **AdamW**  \n",
    "- ワーカー数(workers): **8**  \n",
    "- 画像サイズ(imgsz): **1920**  \n",
    "- 早期停止(patience): **10** エポック  "
   ]
  }
 ],
 "metadata": {
  "accelerator": "GPU",
  "colab": {
   "gpuType": "T4",
   "include_colab_link": true,
   "provenance": []
  },
  "kernelspec": {
   "display_name": "Python 3",
   "name": "python3"
  },
  "language_info": {
   "name": "python"
  }
 },
 "nbformat": 4,
 "nbformat_minor": 5
}
